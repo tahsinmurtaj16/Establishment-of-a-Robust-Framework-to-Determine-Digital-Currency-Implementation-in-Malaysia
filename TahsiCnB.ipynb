{
  "cells": [
    {
      "cell_type": "code",
      "execution_count": null,
      "metadata": {
        "id": "DfyZHfoFKAef"
      },
      "outputs": [],
      "source": [
        "import pandas as pd\n",
        "import numpy as np\n",
        "import matplotlib.pyplot as plt\n",
        "import seaborn as sns\n",
        "import plotly.express as px\n",
        "import folium"
      ]
    },
    {
      "cell_type": "code",
      "execution_count": null,
      "metadata": {
        "colab": {
          "base_uri": "https://localhost:8080/"
        },
        "id": "q7NNaatBXfZo",
        "outputId": "abf8158b-1996-4956-b2cb-294d4fc050a2"
      },
      "outputs": [
        {
          "output_type": "stream",
          "name": "stderr",
          "text": [
            "<ipython-input-2-e83359e4a011>:2: FutureWarning: pandas.util.testing is deprecated. Use the functions in the public API at pandas.testing instead.\n",
            "  import pandas.util.testing as tm\n"
          ]
        }
      ],
      "source": [
        "#  fighting warnings\n",
        "import pandas.util.testing as tm\n",
        "import warnings\n",
        "from statsmodels.tools.sm_exceptions import ConvergenceWarning\n",
        "warnings.simplefilter('ignore', ConvergenceWarning)"
      ]
    },
    {
      "cell_type": "code",
      "execution_count": null,
      "metadata": {
        "id": "j7REm3haXiPU"
      },
      "outputs": [],
      "source": [
        "# set the size of all figures\n",
        "plt.rcParams['figure.figsize'] = [20, 10]"
      ]
    },
    {
      "cell_type": "code",
      "execution_count": null,
      "metadata": {
        "id": "xObYO7y3g_QV"
      },
      "outputs": [],
      "source": [
        "df = pd.read_csv(\"Work_Data_21_Sept - Work_Data_21_Sept.csv\")\n"
      ]
    },
    {
      "cell_type": "code",
      "source": [
        "df_2 = pd.read_csv(\"Work_Data_21_Sept.csv\")"
      ],
      "metadata": {
        "id": "zfpIutfl_iMT"
      },
      "execution_count": null,
      "outputs": []
    },
    {
      "cell_type": "code",
      "source": [
        "df_3 = pd.read_csv(\"work880_data_16Sept.csv\")"
      ],
      "metadata": {
        "id": "QXp0LxSdABAW"
      },
      "execution_count": null,
      "outputs": []
    },
    {
      "cell_type": "code",
      "execution_count": null,
      "metadata": {
        "colab": {
          "base_uri": "https://localhost:8080/"
        },
        "id": "ZpA4W-JK611L",
        "outputId": "ef3d2cdc-25b7-41d1-8d66-856471970b79"
      },
      "outputs": [
        {
          "output_type": "stream",
          "name": "stdout",
          "text": [
            "Looking in indexes: https://pypi.org/simple, https://us-python.pkg.dev/colab-wheels/public/simple/\n",
            "Requirement already satisfied: xgboost in /usr/local/lib/python3.8/dist-packages (0.90)\n",
            "Requirement already satisfied: scipy in /usr/local/lib/python3.8/dist-packages (from xgboost) (1.7.3)\n",
            "Requirement already satisfied: numpy in /usr/local/lib/python3.8/dist-packages (from xgboost) (1.21.6)\n"
          ]
        }
      ],
      "source": [
        "!sudo pip install xgboost"
      ]
    },
    {
      "cell_type": "code",
      "execution_count": null,
      "metadata": {
        "colab": {
          "base_uri": "https://localhost:8080/"
        },
        "id": "1J7At2P98nCs",
        "outputId": "8997861a-9d81-4ba7-ef9e-70605c8c430e"
      },
      "outputs": [
        {
          "output_type": "stream",
          "name": "stdout",
          "text": [
            "Looking in indexes: https://pypi.org/simple, https://us-python.pkg.dev/colab-wheels/public/simple/\n",
            "Requirement already satisfied: xgboost in /usr/local/lib/python3.8/dist-packages (0.90)\n",
            "Collecting xgboost\n",
            "  Downloading xgboost-1.7.1-py3-none-manylinux2014_x86_64.whl (193.6 MB)\n",
            "\u001b[K     |████████████████████████████████| 193.6 MB 42 kB/s \n",
            "\u001b[?25hRequirement already satisfied: numpy in /usr/local/lib/python3.8/dist-packages (from xgboost) (1.21.6)\n",
            "Requirement already satisfied: scipy in /usr/local/lib/python3.8/dist-packages (from xgboost) (1.7.3)\n",
            "Installing collected packages: xgboost\n",
            "  Attempting uninstall: xgboost\n",
            "    Found existing installation: xgboost 0.90\n",
            "    Uninstalling xgboost-0.90:\n",
            "      Successfully uninstalled xgboost-0.90\n",
            "Successfully installed xgboost-1.7.1\n"
          ]
        }
      ],
      "source": [
        "!sudo pip install --upgrade xgboost"
      ]
    },
    {
      "cell_type": "code",
      "execution_count": null,
      "metadata": {
        "id": "87yAAOPZ28YU"
      },
      "outputs": [],
      "source": [
        "#Trade_Openness = pd.read_csv(\"trade-openness (0) - trade-openness (1).csv\")"
      ]
    },
    {
      "cell_type": "code",
      "execution_count": null,
      "metadata": {
        "id": "InmnivMv41hz"
      },
      "outputs": [],
      "source": [
        "#Trade_Openness.describe()"
      ]
    },
    {
      "cell_type": "code",
      "execution_count": null,
      "metadata": {
        "id": "bbA_Taxi3Gep"
      },
      "outputs": [],
      "source": [
        "#Trade_Openness_T = Trade_Openness.set_index('Year').T"
      ]
    },
    {
      "cell_type": "code",
      "execution_count": null,
      "metadata": {
        "id": "2gByY5r75BTx"
      },
      "outputs": [],
      "source": [
        "#Trade_Openness_T.head()"
      ]
    },
    {
      "cell_type": "code",
      "execution_count": null,
      "metadata": {
        "id": "WZSrAxxq6AGx"
      },
      "outputs": [],
      "source": [
        "#TO_Countries = pd.read_csv(\"TO_Countries.csv\")"
      ]
    },
    {
      "cell_type": "code",
      "execution_count": null,
      "metadata": {
        "id": "23-39LOY6KeR"
      },
      "outputs": [],
      "source": [
        "#TO_Countries.head()"
      ]
    },
    {
      "cell_type": "code",
      "execution_count": null,
      "metadata": {
        "id": "6_cJkieK6f0a"
      },
      "outputs": [],
      "source": [
        "#TO_Countries= TO_Countries.drop_duplicates(subset=[\"Entity\", \"Code\"], keep='first')"
      ]
    },
    {
      "cell_type": "code",
      "execution_count": null,
      "metadata": {
        "id": "eEV0mrU66sV1"
      },
      "outputs": [],
      "source": [
        "#TO_Countries.head()"
      ]
    },
    {
      "cell_type": "code",
      "execution_count": null,
      "metadata": {
        "id": "hOTvUHWR8XWy"
      },
      "outputs": [],
      "source": [
        "#TO_Countries.to_csv(\"TO_Countries_v_2.csv\", encoding='utf-8', index=False)"
      ]
    },
    {
      "cell_type": "code",
      "execution_count": null,
      "metadata": {
        "id": "i8osIb2U8vWa"
      },
      "outputs": [],
      "source": [
        "#Trade_Openness_T.to_csv(\"Trade_Openness_T.csv\", encoding='utf-8', index=False)"
      ]
    },
    {
      "cell_type": "code",
      "execution_count": null,
      "metadata": {
        "id": "FZFzYPj874Z_"
      },
      "outputs": [],
      "source": [
        "#Trade_Open = pd.concat([TO_Countries, Trade_Openness],axis=1)"
      ]
    },
    {
      "cell_type": "code",
      "execution_count": null,
      "metadata": {
        "id": "9Nmvcz4X8GaU"
      },
      "outputs": [],
      "source": [
        "#Trade_Open.info()"
      ]
    },
    {
      "cell_type": "code",
      "execution_count": null,
      "metadata": {
        "id": "fSaRy7zpnzvM"
      },
      "outputs": [],
      "source": [
        "#Trade_Open.to_csv(\"Trade_Openness_ultimate.csv\", encoding='utf-8', index=False)"
      ]
    },
    {
      "cell_type": "code",
      "execution_count": null,
      "metadata": {
        "colab": {
          "base_uri": "https://localhost:8080/"
        },
        "id": "4P4SEl6pXm9o",
        "outputId": "e69dd86e-0742-465b-cf29-b78ebb06d174"
      },
      "outputs": [
        {
          "output_type": "stream",
          "name": "stderr",
          "text": [
            "/usr/local/lib/python3.7/dist-packages/ipykernel_launcher.py:1: FutureWarning: Dropping of nuisance columns in DataFrame reductions (with 'numeric_only=None') is deprecated; in a future version this will raise TypeError.  Select only valid columns before calling the reduction.\n",
            "  \"\"\"Entry point for launching an IPython kernel.\n"
          ]
        }
      ],
      "source": [
        "df = df.fillna(df.mean())"
      ]
    },
    {
      "cell_type": "code",
      "execution_count": null,
      "metadata": {
        "id": "Sfblk-ZUJwlt"
      },
      "outputs": [],
      "source": [
        "df['Broadband_Subscribsions(per100people)'] = df['Broadband_Subscribsions(per100people)'].fillna(df['Broadband_Subscribsions(per100people)'].mean())"
      ]
    },
    {
      "cell_type": "code",
      "execution_count": null,
      "metadata": {
        "colab": {
          "base_uri": "https://localhost:8080/"
        },
        "id": "WuU1SX8XJ_nd",
        "outputId": "8d4478de-d041-49e9-e05f-3c57b2c5d930"
      },
      "outputs": [
        {
          "name": "stdout",
          "output_type": "stream",
          "text": [
            "     Broadband_Subscribsions(per100people)\n",
            "151                              15.508714\n"
          ]
        }
      ],
      "source": [
        "print(df[['Broadband_Subscribsions(per100people)']][df['country_name']== \"Sierra Leone\"])"
      ]
    },
    {
      "cell_type": "code",
      "execution_count": null,
      "metadata": {
        "colab": {
          "base_uri": "https://localhost:8080/"
        },
        "id": "8O6pBsUO1Uru",
        "outputId": "a76ebb43-c9b9-4480-fe24-a264ed428a13"
      },
      "outputs": [
        {
          "output_type": "stream",
          "name": "stdout",
          "text": [
            "<class 'pandas.core.frame.DataFrame'>\n",
            "RangeIndex: 168 entries, 0 to 167\n",
            "Data columns (total 24 columns):\n",
            " #   Column                                            Non-Null Count  Dtype  \n",
            "---  ------                                            --------------  -----  \n",
            " 0   ISO2                                              167 non-null    object \n",
            " 1   country_name                                      168 non-null    object \n",
            " 2   project_score_overall                             166 non-null    float64\n",
            " 3   project_score_retail                              166 non-null    float64\n",
            " 4   project_score_wholesale                           166 non-null    float64\n",
            " 5   search_interest_normalized                        168 non-null    float64\n",
            " 6   central_bankers_speech_stance_index_normalized    168 non-null    float64\n",
            " 7   search_interest                                   168 non-null    float64\n",
            " 8   central_bankers_speech_stance_index               168 non-null    float64\n",
            " 9   Mobile_Cellular_sub                               168 non-null    float64\n",
            " 10  Financial_Development_Index                       168 non-null    float64\n",
            " 11  Trade_GDP                                         168 non-null    float64\n",
            " 12  GDP_USD                                           168 non-null    float64\n",
            " 13  VoiceandAccountability                            168 non-null    float64\n",
            " 14  GovernmentEffectiveness                           168 non-null    float64\n",
            " 15  Broadband_Subscribsions_per100people              166 non-null    float64\n",
            " 16  Innovation_Score                                  168 non-null    float64\n",
            " 17  Account_Ownership                                 168 non-null    float64\n",
            " 18  Secure_Internet_Servers                           168 non-null    float64\n",
            " 19  Trade_Openness                                    167 non-null    float64\n",
            " 20  Access_to_Electricity                             168 non-null    float64\n",
            " 21  Individual_Internet_Users                         168 non-null    float64\n",
            " 22  Regulatory_quality                                168 non-null    float64\n",
            " 23  Population_ages_65_and_above_of_total_population  168 non-null    float64\n",
            "dtypes: float64(22), object(2)\n",
            "memory usage: 31.6+ KB\n"
          ]
        }
      ],
      "source": [
        "df.info()"
      ]
    },
    {
      "cell_type": "code",
      "source": [
        "df_2.info()"
      ],
      "metadata": {
        "colab": {
          "base_uri": "https://localhost:8080/"
        },
        "id": "u9Wrnld_UwJI",
        "outputId": "e672d557-86e1-44a9-852a-e93028a7d577"
      },
      "execution_count": null,
      "outputs": [
        {
          "output_type": "stream",
          "name": "stdout",
          "text": [
            "<class 'pandas.core.frame.DataFrame'>\n",
            "RangeIndex: 183 entries, 0 to 182\n",
            "Data columns (total 24 columns):\n",
            " #   Column                                                Non-Null Count  Dtype  \n",
            "---  ------                                                --------------  -----  \n",
            " 0   ISO2                                                  182 non-null    object \n",
            " 1   country_name                                          183 non-null    object \n",
            " 2   project_score_overall                                 172 non-null    float64\n",
            " 3   project_score_retail                                  172 non-null    float64\n",
            " 4   project_score_wholesale                               172 non-null    float64\n",
            " 5   search_interest_normalized                            183 non-null    float64\n",
            " 6   central_bankers_speech_stance_index_normalized        183 non-null    float64\n",
            " 7   search_interest                                       183 non-null    float64\n",
            " 8   central_bankers_speech_stance_index                   183 non-null    float64\n",
            " 9   Mobile_Cellular_sub                                   179 non-null    float64\n",
            " 10  Financial_Development_Index                           157 non-null    float64\n",
            " 11  Trade (% of GDP)                                      167 non-null    float64\n",
            " 12  GDP(USD)                                              179 non-null    float64\n",
            " 13  VoiceandAccountability                                177 non-null    float64\n",
            " 14  GovernmentEffectiveness                               177 non-null    float64\n",
            " 15  Broadband_Subscribsions(per100people)                 177 non-null    float64\n",
            " 16  Innovation_Score                                      124 non-null    float64\n",
            " 17  Account_Ownership                                     133 non-null    float64\n",
            " 18  Secure_Internet_Servers                               180 non-null    float64\n",
            " 19  Trade_Openness                                        177 non-null    float64\n",
            " 20  Access_to_Electricity                                 180 non-null    float64\n",
            " 21  Individual_Internet_Users                             179 non-null    float64\n",
            " 22  Regulatory quality                                    176 non-null    float64\n",
            " 23  Population ages 65 and above (% of total population)  168 non-null    float64\n",
            "dtypes: float64(22), object(2)\n",
            "memory usage: 34.4+ KB\n"
          ]
        }
      ]
    },
    {
      "cell_type": "code",
      "source": [
        "df_3.info()"
      ],
      "metadata": {
        "colab": {
          "base_uri": "https://localhost:8080/"
        },
        "id": "j9yyL_0mU6ww",
        "outputId": "0b6b3f41-b64e-4b19-dced-0c3aba62e8f3"
      },
      "execution_count": null,
      "outputs": [
        {
          "output_type": "stream",
          "name": "stdout",
          "text": [
            "<class 'pandas.core.frame.DataFrame'>\n",
            "RangeIndex: 194 entries, 0 to 193\n",
            "Data columns (total 24 columns):\n",
            " #   Column                                                Non-Null Count  Dtype  \n",
            "---  ------                                                --------------  -----  \n",
            " 0   ISO2                                                  193 non-null    object \n",
            " 1   country_name                                          194 non-null    object \n",
            " 2   project_score_overall                                 175 non-null    float64\n",
            " 3   project_score_retail                                  175 non-null    float64\n",
            " 4   project_score_wholesale                               175 non-null    float64\n",
            " 5   search_interest_normalized                            194 non-null    float64\n",
            " 6   central_bankers_speech_stance_index_normalized        194 non-null    float64\n",
            " 7   search_interest                                       194 non-null    float64\n",
            " 8   central_bankers_speech_stance_index                   194 non-null    float64\n",
            " 9   Mobile_Cellular_sub                                   194 non-null    float64\n",
            " 10  Financial_Development_Index                           194 non-null    float64\n",
            " 11  Trade (% of GDP)                                      194 non-null    float64\n",
            " 12  GDP(USD)                                              194 non-null    float64\n",
            " 13  VoiceandAccountability                                194 non-null    float64\n",
            " 14  GovernmentEffectiveness                               194 non-null    float64\n",
            " 15  Broadband_Subscribsions(per100people)                 194 non-null    float64\n",
            " 16  Innovation_Score                                      156 non-null    float64\n",
            " 17  Account_Ownership                                     133 non-null    float64\n",
            " 18  Secure_Internet_Servers                               181 non-null    float64\n",
            " 19  Trade_Openness                                        178 non-null    float64\n",
            " 20  Access_to_Electricity                                 180 non-null    float64\n",
            " 21  Individual_Internet_Users                             179 non-null    float64\n",
            " 22  Regulatory quality                                    177 non-null    float64\n",
            " 23  Population ages 65 and above (% of total population)  168 non-null    float64\n",
            "dtypes: float64(22), object(2)\n",
            "memory usage: 36.5+ KB\n"
          ]
        }
      ]
    },
    {
      "cell_type": "code",
      "source": [
        "pd.set_option('display.max_columns', None)"
      ],
      "metadata": {
        "id": "xaiW1F5EWw19"
      },
      "execution_count": null,
      "outputs": []
    },
    {
      "cell_type": "code",
      "source": [
        "df_3"
      ],
      "metadata": {
        "id": "fBTmpSCacorw"
      },
      "execution_count": null,
      "outputs": []
    },
    {
      "cell_type": "code",
      "source": [
        "print(df_3.head(2))"
      ],
      "metadata": {
        "colab": {
          "base_uri": "https://localhost:8080/"
        },
        "id": "O63aOYlwcdSx",
        "outputId": "bd61f066-e0a4-444a-bd5e-e8dcc0205d81"
      },
      "execution_count": null,
      "outputs": [
        {
          "output_type": "stream",
          "name": "stdout",
          "text": [
            "  ISO2                country_name  project_score_overall  \\\n",
            "0   AD                     Andorra                    NaN   \n",
            "1   AE  United Arab Emirates (the)                    2.0   \n",
            "\n",
            "   project_score_retail  project_score_wholesale  search_interest_normalized  \\\n",
            "0                   NaN                      NaN                   -0.625377   \n",
            "1                   0.0                      2.0                    2.708119   \n",
            "\n",
            "   central_bankers_speech_stance_index_normalized  search_interest  \\\n",
            "0                                       -0.283358         0.000000   \n",
            "1                                        3.580257        20.394737   \n",
            "\n",
            "   central_bankers_speech_stance_index  Mobile_Cellular_sub  \\\n",
            "0                                  0.0           106.194651   \n",
            "1                                  1.0           201.706234   \n",
            "\n",
            "   Financial_Development_Index  Trade (% of GDP)  GDP(USD)  \\\n",
            "0                     0.000000          0.000000  39932.59   \n",
            "1                     0.481569        168.277133  40322.40   \n",
            "\n",
            "   VoiceandAccountability  GovernmentEffectiveness  \\\n",
            "0                    1.11                     1.90   \n",
            "1                   -1.12                     1.39   \n",
            "\n",
            "   Broadband_Subscribsions(per100people)  Innovation_Score  Account_Ownership  \\\n",
            "0                              45.577432              0.00                NaN   \n",
            "1                              27.672626             42.56             86.975   \n",
            "\n",
            "   Secure_Internet_Servers  Trade_Openness  Access_to_Electricity  \\\n",
            "0              11698.85737       65.805371                  100.0   \n",
            "1               1600.51494      169.527636                  100.0   \n",
            "\n",
            "   Individual_Internet_Users  Regulatory quality  \\\n",
            "0                  90.633734                1.17   \n",
            "1                  96.603986                1.00   \n",
            "\n",
            "   Population ages 65 and above (% of total population)  \n",
            "0                                                NaN     \n",
            "1                                           1.197829     \n"
          ]
        }
      ]
    },
    {
      "cell_type": "code",
      "source": [
        "print(df_3.columns)"
      ],
      "metadata": {
        "colab": {
          "base_uri": "https://localhost:8080/"
        },
        "id": "vJuc0_VtYZ8-",
        "outputId": "61d24ef4-c591-4b4f-9624-b5ae2ce6296d"
      },
      "execution_count": null,
      "outputs": [
        {
          "output_type": "stream",
          "name": "stdout",
          "text": [
            "Index(['ISO2', 'country_name', 'project_score_overall', 'project_score_retail',\n",
            "       'project_score_wholesale', 'search_interest_normalized',\n",
            "       'central_bankers_speech_stance_index_normalized', 'search_interest',\n",
            "       'central_bankers_speech_stance_index', 'Mobile_Cellular_sub',\n",
            "       'Financial_Development_Index', 'Trade (% of GDP)', 'GDP(USD)',\n",
            "       'VoiceandAccountability', 'GovernmentEffectiveness',\n",
            "       'Broadband_Subscribsions(per100people)', 'Innovation_Score',\n",
            "       'Account_Ownership', 'Secure_Internet_Servers', 'Trade_Openness',\n",
            "       'Access_to_Electricity', 'Individual_Internet_Users',\n",
            "       'Regulatory quality',\n",
            "       'Population ages 65 and above (% of total population)'],\n",
            "      dtype='object')\n"
          ]
        }
      ]
    },
    {
      "cell_type": "code",
      "source": [
        "df_3_cbdc_launched = df_3[['country_name','project_score_overall']][(df_3[\"project_score_overall\"] == 3)]"
      ],
      "metadata": {
        "id": "-cwxSm7j7O4j"
      },
      "execution_count": null,
      "outputs": []
    },
    {
      "cell_type": "code",
      "source": [
        "df_3_cbdc_launched.to_csv(\"df_3_cbdc_launched.csv\", encoding='utf-8', index=False)"
      ],
      "metadata": {
        "id": "i-UUHZHP9N42"
      },
      "execution_count": null,
      "outputs": []
    },
    {
      "cell_type": "code",
      "source": [
        "countries = pd.read_csv(\"df_3_cbdc_launched.csv\")"
      ],
      "metadata": {
        "id": "_SSRTnAskVgK"
      },
      "execution_count": null,
      "outputs": []
    },
    {
      "cell_type": "code",
      "source": [
        "world = folium.Map(\n",
        "    zoom_start=2,\n",
        "    location=[13.133932434766733, 16.103938729508073])\n",
        "world"
      ],
      "metadata": {
        "colab": {
          "base_uri": "https://localhost:8080/",
          "height": 1000
        },
        "id": "cysRRwoPttTI",
        "outputId": "acbc786f-9ab7-43ec-edc6-27368c1dae4c"
      },
      "execution_count": null,
      "outputs": [
        {
          "output_type": "execute_result",
          "data": {
            "text/plain": [
              "<folium.folium.Map at 0x7f50c3f24fd0>"
            ],
            "text/html": [
              "<div style=\"width:100%;\"><div style=\"position:relative;width:100%;height:0;padding-bottom:60%;\"><span style=\"color:#565656\">Make this Notebook Trusted to load map: File -> Trust Notebook</span><iframe srcdoc=\"&lt;!DOCTYPE html&gt;\n",
              "&lt;html&gt;\n",
              "&lt;head&gt;\n",
              "    \n",
              "    &lt;meta http-equiv=&quot;content-type&quot; content=&quot;text/html; charset=UTF-8&quot; /&gt;\n",
              "    \n",
              "        &lt;script&gt;\n",
              "            L_NO_TOUCH = false;\n",
              "            L_DISABLE_3D = false;\n",
              "        &lt;/script&gt;\n",
              "    \n",
              "    &lt;style&gt;html, body {width: 100%;height: 100%;margin: 0;padding: 0;}&lt;/style&gt;\n",
              "    &lt;style&gt;#map {position:absolute;top:0;bottom:0;right:0;left:0;}&lt;/style&gt;\n",
              "    &lt;script src=&quot;https://cdn.jsdelivr.net/npm/leaflet@1.6.0/dist/leaflet.js&quot;&gt;&lt;/script&gt;\n",
              "    &lt;script src=&quot;https://code.jquery.com/jquery-1.12.4.min.js&quot;&gt;&lt;/script&gt;\n",
              "    &lt;script src=&quot;https://maxcdn.bootstrapcdn.com/bootstrap/3.2.0/js/bootstrap.min.js&quot;&gt;&lt;/script&gt;\n",
              "    &lt;script src=&quot;https://cdnjs.cloudflare.com/ajax/libs/Leaflet.awesome-markers/2.0.2/leaflet.awesome-markers.js&quot;&gt;&lt;/script&gt;\n",
              "    &lt;link rel=&quot;stylesheet&quot; href=&quot;https://cdn.jsdelivr.net/npm/leaflet@1.6.0/dist/leaflet.css&quot;/&gt;\n",
              "    &lt;link rel=&quot;stylesheet&quot; href=&quot;https://maxcdn.bootstrapcdn.com/bootstrap/3.2.0/css/bootstrap.min.css&quot;/&gt;\n",
              "    &lt;link rel=&quot;stylesheet&quot; href=&quot;https://maxcdn.bootstrapcdn.com/bootstrap/3.2.0/css/bootstrap-theme.min.css&quot;/&gt;\n",
              "    &lt;link rel=&quot;stylesheet&quot; href=&quot;https://maxcdn.bootstrapcdn.com/font-awesome/4.6.3/css/font-awesome.min.css&quot;/&gt;\n",
              "    &lt;link rel=&quot;stylesheet&quot; href=&quot;https://cdnjs.cloudflare.com/ajax/libs/Leaflet.awesome-markers/2.0.2/leaflet.awesome-markers.css&quot;/&gt;\n",
              "    &lt;link rel=&quot;stylesheet&quot; href=&quot;https://cdn.jsdelivr.net/gh/python-visualization/folium/folium/templates/leaflet.awesome.rotate.min.css&quot;/&gt;\n",
              "    \n",
              "            &lt;meta name=&quot;viewport&quot; content=&quot;width=device-width,\n",
              "                initial-scale=1.0, maximum-scale=1.0, user-scalable=no&quot; /&gt;\n",
              "            &lt;style&gt;\n",
              "                #map_30ffb0a60bdabba12585f5bdbeeaab1f {\n",
              "                    position: relative;\n",
              "                    width: 100.0%;\n",
              "                    height: 100.0%;\n",
              "                    left: 0.0%;\n",
              "                    top: 0.0%;\n",
              "                }\n",
              "            &lt;/style&gt;\n",
              "        \n",
              "&lt;/head&gt;\n",
              "&lt;body&gt;\n",
              "    \n",
              "    \n",
              "            &lt;div class=&quot;folium-map&quot; id=&quot;map_30ffb0a60bdabba12585f5bdbeeaab1f&quot; &gt;&lt;/div&gt;\n",
              "        \n",
              "&lt;/body&gt;\n",
              "&lt;script&gt;\n",
              "    \n",
              "    \n",
              "            var map_30ffb0a60bdabba12585f5bdbeeaab1f = L.map(\n",
              "                &quot;map_30ffb0a60bdabba12585f5bdbeeaab1f&quot;,\n",
              "                {\n",
              "                    center: [13.133932434766733, 16.103938729508073],\n",
              "                    crs: L.CRS.EPSG3857,\n",
              "                    zoom: 2,\n",
              "                    zoomControl: true,\n",
              "                    preferCanvas: false,\n",
              "                }\n",
              "            );\n",
              "\n",
              "            \n",
              "\n",
              "        \n",
              "    \n",
              "            var tile_layer_93b1d4f30f5d9adcf02d074138a591f8 = L.tileLayer(\n",
              "                &quot;https://{s}.tile.openstreetmap.org/{z}/{x}/{y}.png&quot;,\n",
              "                {&quot;attribution&quot;: &quot;Data by \\u0026copy; \\u003ca href=\\&quot;http://openstreetmap.org\\&quot;\\u003eOpenStreetMap\\u003c/a\\u003e, under \\u003ca href=\\&quot;http://www.openstreetmap.org/copyright\\&quot;\\u003eODbL\\u003c/a\\u003e.&quot;, &quot;detectRetina&quot;: false, &quot;maxNativeZoom&quot;: 18, &quot;maxZoom&quot;: 18, &quot;minZoom&quot;: 0, &quot;noWrap&quot;: false, &quot;opacity&quot;: 1, &quot;subdomains&quot;: &quot;abc&quot;, &quot;tms&quot;: false}\n",
              "            ).addTo(map_30ffb0a60bdabba12585f5bdbeeaab1f);\n",
              "        \n",
              "&lt;/script&gt;\n",
              "&lt;/html&gt;\" style=\"position:absolute;width:100%;height:100%;left:0;top:0;border:none !important;\" allowfullscreen webkitallowfullscreen mozallowfullscreen></iframe></div></div>"
            ]
          },
          "metadata": {},
          "execution_count": 3
        }
      ]
    },
    {
      "cell_type": "code",
      "source": [
        "country = countries.iloc[0]\n",
        "folium.Marker(\n",
        "    location=[country['latitude'], country['longitude']],\n",
        ").add_to(world)\n",
        "\n",
        "world\n"
      ],
      "metadata": {
        "colab": {
          "base_uri": "https://localhost:8080/",
          "height": 1000
        },
        "id": "Jvmkhr57kdO6",
        "outputId": "0d967ba4-11c0-400a-e7da-95d39cf525d0"
      },
      "execution_count": null,
      "outputs": [
        {
          "output_type": "execute_result",
          "data": {
            "text/plain": [
              "<folium.folium.Map at 0x7f50c3f24fd0>"
            ],
            "text/html": [
              "<div style=\"width:100%;\"><div style=\"position:relative;width:100%;height:0;padding-bottom:60%;\"><span style=\"color:#565656\">Make this Notebook Trusted to load map: File -> Trust Notebook</span><iframe srcdoc=\"&lt;!DOCTYPE html&gt;\n",
              "&lt;html&gt;\n",
              "&lt;head&gt;\n",
              "    \n",
              "    &lt;meta http-equiv=&quot;content-type&quot; content=&quot;text/html; charset=UTF-8&quot; /&gt;\n",
              "    \n",
              "        &lt;script&gt;\n",
              "            L_NO_TOUCH = false;\n",
              "            L_DISABLE_3D = false;\n",
              "        &lt;/script&gt;\n",
              "    \n",
              "    &lt;style&gt;html, body {width: 100%;height: 100%;margin: 0;padding: 0;}&lt;/style&gt;\n",
              "    &lt;style&gt;#map {position:absolute;top:0;bottom:0;right:0;left:0;}&lt;/style&gt;\n",
              "    &lt;script src=&quot;https://cdn.jsdelivr.net/npm/leaflet@1.6.0/dist/leaflet.js&quot;&gt;&lt;/script&gt;\n",
              "    &lt;script src=&quot;https://code.jquery.com/jquery-1.12.4.min.js&quot;&gt;&lt;/script&gt;\n",
              "    &lt;script src=&quot;https://maxcdn.bootstrapcdn.com/bootstrap/3.2.0/js/bootstrap.min.js&quot;&gt;&lt;/script&gt;\n",
              "    &lt;script src=&quot;https://cdnjs.cloudflare.com/ajax/libs/Leaflet.awesome-markers/2.0.2/leaflet.awesome-markers.js&quot;&gt;&lt;/script&gt;\n",
              "    &lt;link rel=&quot;stylesheet&quot; href=&quot;https://cdn.jsdelivr.net/npm/leaflet@1.6.0/dist/leaflet.css&quot;/&gt;\n",
              "    &lt;link rel=&quot;stylesheet&quot; href=&quot;https://maxcdn.bootstrapcdn.com/bootstrap/3.2.0/css/bootstrap.min.css&quot;/&gt;\n",
              "    &lt;link rel=&quot;stylesheet&quot; href=&quot;https://maxcdn.bootstrapcdn.com/bootstrap/3.2.0/css/bootstrap-theme.min.css&quot;/&gt;\n",
              "    &lt;link rel=&quot;stylesheet&quot; href=&quot;https://maxcdn.bootstrapcdn.com/font-awesome/4.6.3/css/font-awesome.min.css&quot;/&gt;\n",
              "    &lt;link rel=&quot;stylesheet&quot; href=&quot;https://cdnjs.cloudflare.com/ajax/libs/Leaflet.awesome-markers/2.0.2/leaflet.awesome-markers.css&quot;/&gt;\n",
              "    &lt;link rel=&quot;stylesheet&quot; href=&quot;https://cdn.jsdelivr.net/gh/python-visualization/folium/folium/templates/leaflet.awesome.rotate.min.css&quot;/&gt;\n",
              "    \n",
              "            &lt;meta name=&quot;viewport&quot; content=&quot;width=device-width,\n",
              "                initial-scale=1.0, maximum-scale=1.0, user-scalable=no&quot; /&gt;\n",
              "            &lt;style&gt;\n",
              "                #map_30ffb0a60bdabba12585f5bdbeeaab1f {\n",
              "                    position: relative;\n",
              "                    width: 100.0%;\n",
              "                    height: 100.0%;\n",
              "                    left: 0.0%;\n",
              "                    top: 0.0%;\n",
              "                }\n",
              "            &lt;/style&gt;\n",
              "        \n",
              "&lt;/head&gt;\n",
              "&lt;body&gt;\n",
              "    \n",
              "    \n",
              "            &lt;div class=&quot;folium-map&quot; id=&quot;map_30ffb0a60bdabba12585f5bdbeeaab1f&quot; &gt;&lt;/div&gt;\n",
              "        \n",
              "&lt;/body&gt;\n",
              "&lt;script&gt;\n",
              "    \n",
              "    \n",
              "            var map_30ffb0a60bdabba12585f5bdbeeaab1f = L.map(\n",
              "                &quot;map_30ffb0a60bdabba12585f5bdbeeaab1f&quot;,\n",
              "                {\n",
              "                    center: [13.133932434766733, 16.103938729508073],\n",
              "                    crs: L.CRS.EPSG3857,\n",
              "                    zoom: 2,\n",
              "                    zoomControl: true,\n",
              "                    preferCanvas: false,\n",
              "                }\n",
              "            );\n",
              "\n",
              "            \n",
              "\n",
              "        \n",
              "    \n",
              "            var tile_layer_93b1d4f30f5d9adcf02d074138a591f8 = L.tileLayer(\n",
              "                &quot;https://{s}.tile.openstreetmap.org/{z}/{x}/{y}.png&quot;,\n",
              "                {&quot;attribution&quot;: &quot;Data by \\u0026copy; \\u003ca href=\\&quot;http://openstreetmap.org\\&quot;\\u003eOpenStreetMap\\u003c/a\\u003e, under \\u003ca href=\\&quot;http://www.openstreetmap.org/copyright\\&quot;\\u003eODbL\\u003c/a\\u003e.&quot;, &quot;detectRetina&quot;: false, &quot;maxNativeZoom&quot;: 18, &quot;maxZoom&quot;: 18, &quot;minZoom&quot;: 0, &quot;noWrap&quot;: false, &quot;opacity&quot;: 1, &quot;subdomains&quot;: &quot;abc&quot;, &quot;tms&quot;: false}\n",
              "            ).addTo(map_30ffb0a60bdabba12585f5bdbeeaab1f);\n",
              "        \n",
              "    \n",
              "            var marker_795a13471c18e23889b2c5c503cf5c86 = L.marker(\n",
              "                [25.025885, -78.035889],\n",
              "                {}\n",
              "            ).addTo(map_30ffb0a60bdabba12585f5bdbeeaab1f);\n",
              "        \n",
              "&lt;/script&gt;\n",
              "&lt;/html&gt;\" style=\"position:absolute;width:100%;height:100%;left:0;top:0;border:none !important;\" allowfullscreen webkitallowfullscreen mozallowfullscreen></iframe></div></div>"
            ]
          },
          "metadata": {},
          "execution_count": 5
        }
      ]
    },
    {
      "cell_type": "code",
      "source": [
        "world_all_countries_colored = folium.Map(\n",
        "    zoom_start=2,\n",
        "    location=[13.133932434766733, 16.103938729508073]\n",
        ")\n",
        "\n",
        "for _, country in countries.iterrows():\n",
        "    folium.Marker(\n",
        "        location=[country['latitude'], country['longitude']],\n",
        "        popup=country['country_name'],\n",
        "        tooltip=country['country_name'],\n",
        "        icon=folium.Icon(color=country['colors'], prefix='fa', icon='circle')\n",
        "    ).add_to(world_all_countries_colored)\n",
        "\n",
        "world_all_countries_colored"
      ],
      "metadata": {
        "colab": {
          "base_uri": "https://localhost:8080/",
          "height": 1000
        },
        "id": "1-6q00BOk2aE",
        "outputId": "efcc45e4-d9e8-4b24-f7e4-a69ffa25c0e0"
      },
      "execution_count": null,
      "outputs": [
        {
          "output_type": "execute_result",
          "data": {
            "text/plain": [
              "<folium.folium.Map at 0x7f50ae61c610>"
            ],
            "text/html": [
              "<div style=\"width:100%;\"><div style=\"position:relative;width:100%;height:0;padding-bottom:60%;\"><span style=\"color:#565656\">Make this Notebook Trusted to load map: File -> Trust Notebook</span><iframe srcdoc=\"&lt;!DOCTYPE html&gt;\n",
              "&lt;html&gt;\n",
              "&lt;head&gt;\n",
              "    \n",
              "    &lt;meta http-equiv=&quot;content-type&quot; content=&quot;text/html; charset=UTF-8&quot; /&gt;\n",
              "    \n",
              "        &lt;script&gt;\n",
              "            L_NO_TOUCH = false;\n",
              "            L_DISABLE_3D = false;\n",
              "        &lt;/script&gt;\n",
              "    \n",
              "    &lt;style&gt;html, body {width: 100%;height: 100%;margin: 0;padding: 0;}&lt;/style&gt;\n",
              "    &lt;style&gt;#map {position:absolute;top:0;bottom:0;right:0;left:0;}&lt;/style&gt;\n",
              "    &lt;script src=&quot;https://cdn.jsdelivr.net/npm/leaflet@1.6.0/dist/leaflet.js&quot;&gt;&lt;/script&gt;\n",
              "    &lt;script src=&quot;https://code.jquery.com/jquery-1.12.4.min.js&quot;&gt;&lt;/script&gt;\n",
              "    &lt;script src=&quot;https://maxcdn.bootstrapcdn.com/bootstrap/3.2.0/js/bootstrap.min.js&quot;&gt;&lt;/script&gt;\n",
              "    &lt;script src=&quot;https://cdnjs.cloudflare.com/ajax/libs/Leaflet.awesome-markers/2.0.2/leaflet.awesome-markers.js&quot;&gt;&lt;/script&gt;\n",
              "    &lt;link rel=&quot;stylesheet&quot; href=&quot;https://cdn.jsdelivr.net/npm/leaflet@1.6.0/dist/leaflet.css&quot;/&gt;\n",
              "    &lt;link rel=&quot;stylesheet&quot; href=&quot;https://maxcdn.bootstrapcdn.com/bootstrap/3.2.0/css/bootstrap.min.css&quot;/&gt;\n",
              "    &lt;link rel=&quot;stylesheet&quot; href=&quot;https://maxcdn.bootstrapcdn.com/bootstrap/3.2.0/css/bootstrap-theme.min.css&quot;/&gt;\n",
              "    &lt;link rel=&quot;stylesheet&quot; href=&quot;https://maxcdn.bootstrapcdn.com/font-awesome/4.6.3/css/font-awesome.min.css&quot;/&gt;\n",
              "    &lt;link rel=&quot;stylesheet&quot; href=&quot;https://cdnjs.cloudflare.com/ajax/libs/Leaflet.awesome-markers/2.0.2/leaflet.awesome-markers.css&quot;/&gt;\n",
              "    &lt;link rel=&quot;stylesheet&quot; href=&quot;https://cdn.jsdelivr.net/gh/python-visualization/folium/folium/templates/leaflet.awesome.rotate.min.css&quot;/&gt;\n",
              "    \n",
              "            &lt;meta name=&quot;viewport&quot; content=&quot;width=device-width,\n",
              "                initial-scale=1.0, maximum-scale=1.0, user-scalable=no&quot; /&gt;\n",
              "            &lt;style&gt;\n",
              "                #map_f3d63cba539f7f33d856917afb4da3f9 {\n",
              "                    position: relative;\n",
              "                    width: 100.0%;\n",
              "                    height: 100.0%;\n",
              "                    left: 0.0%;\n",
              "                    top: 0.0%;\n",
              "                }\n",
              "            &lt;/style&gt;\n",
              "        \n",
              "&lt;/head&gt;\n",
              "&lt;body&gt;\n",
              "    \n",
              "    \n",
              "            &lt;div class=&quot;folium-map&quot; id=&quot;map_f3d63cba539f7f33d856917afb4da3f9&quot; &gt;&lt;/div&gt;\n",
              "        \n",
              "&lt;/body&gt;\n",
              "&lt;script&gt;\n",
              "    \n",
              "    \n",
              "            var map_f3d63cba539f7f33d856917afb4da3f9 = L.map(\n",
              "                &quot;map_f3d63cba539f7f33d856917afb4da3f9&quot;,\n",
              "                {\n",
              "                    center: [13.133932434766733, 16.103938729508073],\n",
              "                    crs: L.CRS.EPSG3857,\n",
              "                    zoom: 2,\n",
              "                    zoomControl: true,\n",
              "                    preferCanvas: false,\n",
              "                }\n",
              "            );\n",
              "\n",
              "            \n",
              "\n",
              "        \n",
              "    \n",
              "            var tile_layer_d9d82ef4dbc7d8eb5b9afb1f60efe55f = L.tileLayer(\n",
              "                &quot;https://{s}.tile.openstreetmap.org/{z}/{x}/{y}.png&quot;,\n",
              "                {&quot;attribution&quot;: &quot;Data by \\u0026copy; \\u003ca href=\\&quot;http://openstreetmap.org\\&quot;\\u003eOpenStreetMap\\u003c/a\\u003e, under \\u003ca href=\\&quot;http://www.openstreetmap.org/copyright\\&quot;\\u003eODbL\\u003c/a\\u003e.&quot;, &quot;detectRetina&quot;: false, &quot;maxNativeZoom&quot;: 18, &quot;maxZoom&quot;: 18, &quot;minZoom&quot;: 0, &quot;noWrap&quot;: false, &quot;opacity&quot;: 1, &quot;subdomains&quot;: &quot;abc&quot;, &quot;tms&quot;: false}\n",
              "            ).addTo(map_f3d63cba539f7f33d856917afb4da3f9);\n",
              "        \n",
              "    \n",
              "            var marker_447070f8c4ae1633489058f6327eb926 = L.marker(\n",
              "                [25.025885, -78.035889],\n",
              "                {}\n",
              "            ).addTo(map_f3d63cba539f7f33d856917afb4da3f9);\n",
              "        \n",
              "    \n",
              "            var icon_fcfe0ebe9711920fbd22a75bf4372a0a = L.AwesomeMarkers.icon(\n",
              "                {&quot;extraClasses&quot;: &quot;fa-rotate-0&quot;, &quot;icon&quot;: &quot;circle&quot;, &quot;iconColor&quot;: &quot;white&quot;, &quot;markerColor&quot;: &quot;purple&quot;, &quot;prefix&quot;: &quot;fa&quot;}\n",
              "            );\n",
              "            marker_447070f8c4ae1633489058f6327eb926.setIcon(icon_fcfe0ebe9711920fbd22a75bf4372a0a);\n",
              "        \n",
              "    \n",
              "        var popup_f5fca7c1abf2012d9fbc46e429e0dccc = L.popup({&quot;maxWidth&quot;: &quot;100%&quot;});\n",
              "\n",
              "        \n",
              "            var html_680ffd0d8678fcea8953ef056932a4ad = $(`&lt;div id=&quot;html_680ffd0d8678fcea8953ef056932a4ad&quot; style=&quot;width: 100.0%; height: 100.0%;&quot;&gt;Bahamas (the)&lt;/div&gt;`)[0];\n",
              "            popup_f5fca7c1abf2012d9fbc46e429e0dccc.setContent(html_680ffd0d8678fcea8953ef056932a4ad);\n",
              "        \n",
              "\n",
              "        marker_447070f8c4ae1633489058f6327eb926.bindPopup(popup_f5fca7c1abf2012d9fbc46e429e0dccc)\n",
              "        ;\n",
              "\n",
              "        \n",
              "    \n",
              "    \n",
              "            marker_447070f8c4ae1633489058f6327eb926.bindTooltip(\n",
              "                `&lt;div&gt;\n",
              "                     Bahamas (the)\n",
              "                 &lt;/div&gt;`,\n",
              "                {&quot;sticky&quot;: true}\n",
              "            );\n",
              "        \n",
              "    \n",
              "            var marker_e41d257f82795097a38e29efee452625 = L.marker(\n",
              "                [18.476223, -77.89389],\n",
              "                {}\n",
              "            ).addTo(map_f3d63cba539f7f33d856917afb4da3f9);\n",
              "        \n",
              "    \n",
              "            var icon_26506fdeda95205659859712aa530ff0 = L.AwesomeMarkers.icon(\n",
              "                {&quot;extraClasses&quot;: &quot;fa-rotate-0&quot;, &quot;icon&quot;: &quot;circle&quot;, &quot;iconColor&quot;: &quot;white&quot;, &quot;markerColor&quot;: &quot;purple&quot;, &quot;prefix&quot;: &quot;fa&quot;}\n",
              "            );\n",
              "            marker_e41d257f82795097a38e29efee452625.setIcon(icon_26506fdeda95205659859712aa530ff0);\n",
              "        \n",
              "    \n",
              "        var popup_eb9109ae487e1f096060870ba1b91cd3 = L.popup({&quot;maxWidth&quot;: &quot;100%&quot;});\n",
              "\n",
              "        \n",
              "            var html_9113d773d745aa3009902c08c03f9b4b = $(`&lt;div id=&quot;html_9113d773d745aa3009902c08c03f9b4b&quot; style=&quot;width: 100.0%; height: 100.0%;&quot;&gt;Jamaica&lt;/div&gt;`)[0];\n",
              "            popup_eb9109ae487e1f096060870ba1b91cd3.setContent(html_9113d773d745aa3009902c08c03f9b4b);\n",
              "        \n",
              "\n",
              "        marker_e41d257f82795097a38e29efee452625.bindPopup(popup_eb9109ae487e1f096060870ba1b91cd3)\n",
              "        ;\n",
              "\n",
              "        \n",
              "    \n",
              "    \n",
              "            marker_e41d257f82795097a38e29efee452625.bindTooltip(\n",
              "                `&lt;div&gt;\n",
              "                     Jamaica\n",
              "                 &lt;/div&gt;`,\n",
              "                {&quot;sticky&quot;: true}\n",
              "            );\n",
              "        \n",
              "    \n",
              "            var marker_74ef103b0b693d1193efd51eea7fb69f = L.marker(\n",
              "                [9.081999, 8.675277],\n",
              "                {}\n",
              "            ).addTo(map_f3d63cba539f7f33d856917afb4da3f9);\n",
              "        \n",
              "    \n",
              "            var icon_5ccd585a1a0f38a4d3d04ab22a8ec3f7 = L.AwesomeMarkers.icon(\n",
              "                {&quot;extraClasses&quot;: &quot;fa-rotate-0&quot;, &quot;icon&quot;: &quot;circle&quot;, &quot;iconColor&quot;: &quot;white&quot;, &quot;markerColor&quot;: &quot;purple&quot;, &quot;prefix&quot;: &quot;fa&quot;}\n",
              "            );\n",
              "            marker_74ef103b0b693d1193efd51eea7fb69f.setIcon(icon_5ccd585a1a0f38a4d3d04ab22a8ec3f7);\n",
              "        \n",
              "    \n",
              "        var popup_f6878664b735a058b68e8f2eb46220c0 = L.popup({&quot;maxWidth&quot;: &quot;100%&quot;});\n",
              "\n",
              "        \n",
              "            var html_0d4b5b01e5f5effd8f0e27a42f75494f = $(`&lt;div id=&quot;html_0d4b5b01e5f5effd8f0e27a42f75494f&quot; style=&quot;width: 100.0%; height: 100.0%;&quot;&gt;Nigeria&lt;/div&gt;`)[0];\n",
              "            popup_f6878664b735a058b68e8f2eb46220c0.setContent(html_0d4b5b01e5f5effd8f0e27a42f75494f);\n",
              "        \n",
              "\n",
              "        marker_74ef103b0b693d1193efd51eea7fb69f.bindPopup(popup_f6878664b735a058b68e8f2eb46220c0)\n",
              "        ;\n",
              "\n",
              "        \n",
              "    \n",
              "    \n",
              "            marker_74ef103b0b693d1193efd51eea7fb69f.bindTooltip(\n",
              "                `&lt;div&gt;\n",
              "                     Nigeria\n",
              "                 &lt;/div&gt;`,\n",
              "                {&quot;sticky&quot;: true}\n",
              "            );\n",
              "        \n",
              "    \n",
              "            var marker_7773a6238d4d43d0c26d4824b09df794 = L.marker(\n",
              "                [18.22723, -63.048988],\n",
              "                {}\n",
              "            ).addTo(map_f3d63cba539f7f33d856917afb4da3f9);\n",
              "        \n",
              "    \n",
              "            var icon_b1e53beba01743af1b0de731d7a49c5d = L.AwesomeMarkers.icon(\n",
              "                {&quot;extraClasses&quot;: &quot;fa-rotate-0&quot;, &quot;icon&quot;: &quot;circle&quot;, &quot;iconColor&quot;: &quot;white&quot;, &quot;markerColor&quot;: &quot;purple&quot;, &quot;prefix&quot;: &quot;fa&quot;}\n",
              "            );\n",
              "            marker_7773a6238d4d43d0c26d4824b09df794.setIcon(icon_b1e53beba01743af1b0de731d7a49c5d);\n",
              "        \n",
              "    \n",
              "        var popup_873c68ac75b351a1640a6f9d0b779a54 = L.popup({&quot;maxWidth&quot;: &quot;100%&quot;});\n",
              "\n",
              "        \n",
              "            var html_f88cfa7e6626286ec38092cad4e78a8c = $(`&lt;div id=&quot;html_f88cfa7e6626286ec38092cad4e78a8c&quot; style=&quot;width: 100.0%; height: 100.0%;&quot;&gt;Anguilla&lt;/div&gt;`)[0];\n",
              "            popup_873c68ac75b351a1640a6f9d0b779a54.setContent(html_f88cfa7e6626286ec38092cad4e78a8c);\n",
              "        \n",
              "\n",
              "        marker_7773a6238d4d43d0c26d4824b09df794.bindPopup(popup_873c68ac75b351a1640a6f9d0b779a54)\n",
              "        ;\n",
              "\n",
              "        \n",
              "    \n",
              "    \n",
              "            marker_7773a6238d4d43d0c26d4824b09df794.bindTooltip(\n",
              "                `&lt;div&gt;\n",
              "                     Anguilla\n",
              "                 &lt;/div&gt;`,\n",
              "                {&quot;sticky&quot;: true}\n",
              "            );\n",
              "        \n",
              "    \n",
              "            var marker_fc4071c74494ee38054ae8d0f6e86862 = L.marker(\n",
              "                [17.087635, -61.772346],\n",
              "                {}\n",
              "            ).addTo(map_f3d63cba539f7f33d856917afb4da3f9);\n",
              "        \n",
              "    \n",
              "            var icon_ae7e95a7e5750bf3e4beaf2db2e04547 = L.AwesomeMarkers.icon(\n",
              "                {&quot;extraClasses&quot;: &quot;fa-rotate-0&quot;, &quot;icon&quot;: &quot;circle&quot;, &quot;iconColor&quot;: &quot;white&quot;, &quot;markerColor&quot;: &quot;purple&quot;, &quot;prefix&quot;: &quot;fa&quot;}\n",
              "            );\n",
              "            marker_fc4071c74494ee38054ae8d0f6e86862.setIcon(icon_ae7e95a7e5750bf3e4beaf2db2e04547);\n",
              "        \n",
              "    \n",
              "        var popup_23b27fd0c4239fe13938d6b7844a6857 = L.popup({&quot;maxWidth&quot;: &quot;100%&quot;});\n",
              "\n",
              "        \n",
              "            var html_589e8ec00e5cee3e246c971e0c561e86 = $(`&lt;div id=&quot;html_589e8ec00e5cee3e246c971e0c561e86&quot; style=&quot;width: 100.0%; height: 100.0%;&quot;&gt;Antigua and Barbuda&lt;/div&gt;`)[0];\n",
              "            popup_23b27fd0c4239fe13938d6b7844a6857.setContent(html_589e8ec00e5cee3e246c971e0c561e86);\n",
              "        \n",
              "\n",
              "        marker_fc4071c74494ee38054ae8d0f6e86862.bindPopup(popup_23b27fd0c4239fe13938d6b7844a6857)\n",
              "        ;\n",
              "\n",
              "        \n",
              "    \n",
              "    \n",
              "            marker_fc4071c74494ee38054ae8d0f6e86862.bindTooltip(\n",
              "                `&lt;div&gt;\n",
              "                     Antigua and Barbuda\n",
              "                 &lt;/div&gt;`,\n",
              "                {&quot;sticky&quot;: true}\n",
              "            );\n",
              "        \n",
              "    \n",
              "            var marker_4d27dcc56c7ea6fb2de8f355770ea1b2 = L.marker(\n",
              "                [12.104818, -61.670761],\n",
              "                {}\n",
              "            ).addTo(map_f3d63cba539f7f33d856917afb4da3f9);\n",
              "        \n",
              "    \n",
              "            var icon_379833a0c895120add62e91597af8cfe = L.AwesomeMarkers.icon(\n",
              "                {&quot;extraClasses&quot;: &quot;fa-rotate-0&quot;, &quot;icon&quot;: &quot;circle&quot;, &quot;iconColor&quot;: &quot;white&quot;, &quot;markerColor&quot;: &quot;purple&quot;, &quot;prefix&quot;: &quot;fa&quot;}\n",
              "            );\n",
              "            marker_4d27dcc56c7ea6fb2de8f355770ea1b2.setIcon(icon_379833a0c895120add62e91597af8cfe);\n",
              "        \n",
              "    \n",
              "        var popup_fad002ba9a2243ba89444245eeebcfb5 = L.popup({&quot;maxWidth&quot;: &quot;100%&quot;});\n",
              "\n",
              "        \n",
              "            var html_1964300345081729779cd5e0e93f1136 = $(`&lt;div id=&quot;html_1964300345081729779cd5e0e93f1136&quot; style=&quot;width: 100.0%; height: 100.0%;&quot;&gt;Grenada&lt;/div&gt;`)[0];\n",
              "            popup_fad002ba9a2243ba89444245eeebcfb5.setContent(html_1964300345081729779cd5e0e93f1136);\n",
              "        \n",
              "\n",
              "        marker_4d27dcc56c7ea6fb2de8f355770ea1b2.bindPopup(popup_fad002ba9a2243ba89444245eeebcfb5)\n",
              "        ;\n",
              "\n",
              "        \n",
              "    \n",
              "    \n",
              "            marker_4d27dcc56c7ea6fb2de8f355770ea1b2.bindTooltip(\n",
              "                `&lt;div&gt;\n",
              "                     Grenada\n",
              "                 &lt;/div&gt;`,\n",
              "                {&quot;sticky&quot;: true}\n",
              "            );\n",
              "        \n",
              "    \n",
              "            var marker_471d65768ea819f7b85a25f214ebd2c3 = L.marker(\n",
              "                [16.742498, -62.187366],\n",
              "                {}\n",
              "            ).addTo(map_f3d63cba539f7f33d856917afb4da3f9);\n",
              "        \n",
              "    \n",
              "            var icon_6f4badfe178669cf6e50554e42e46c73 = L.AwesomeMarkers.icon(\n",
              "                {&quot;extraClasses&quot;: &quot;fa-rotate-0&quot;, &quot;icon&quot;: &quot;circle&quot;, &quot;iconColor&quot;: &quot;white&quot;, &quot;markerColor&quot;: &quot;purple&quot;, &quot;prefix&quot;: &quot;fa&quot;}\n",
              "            );\n",
              "            marker_471d65768ea819f7b85a25f214ebd2c3.setIcon(icon_6f4badfe178669cf6e50554e42e46c73);\n",
              "        \n",
              "    \n",
              "        var popup_7a490590c69aeaf37acbbb4da6c067ef = L.popup({&quot;maxWidth&quot;: &quot;100%&quot;});\n",
              "\n",
              "        \n",
              "            var html_050742786366bae0fb44a6c7060355b2 = $(`&lt;div id=&quot;html_050742786366bae0fb44a6c7060355b2&quot; style=&quot;width: 100.0%; height: 100.0%;&quot;&gt;Montserrat&lt;/div&gt;`)[0];\n",
              "            popup_7a490590c69aeaf37acbbb4da6c067ef.setContent(html_050742786366bae0fb44a6c7060355b2);\n",
              "        \n",
              "\n",
              "        marker_471d65768ea819f7b85a25f214ebd2c3.bindPopup(popup_7a490590c69aeaf37acbbb4da6c067ef)\n",
              "        ;\n",
              "\n",
              "        \n",
              "    \n",
              "    \n",
              "            marker_471d65768ea819f7b85a25f214ebd2c3.bindTooltip(\n",
              "                `&lt;div&gt;\n",
              "                     Montserrat\n",
              "                 &lt;/div&gt;`,\n",
              "                {&quot;sticky&quot;: true}\n",
              "            );\n",
              "        \n",
              "    \n",
              "            var marker_fe681540520c5f6583d75e45e4abd77f = L.marker(\n",
              "                [17.363747, -62.754593],\n",
              "                {}\n",
              "            ).addTo(map_f3d63cba539f7f33d856917afb4da3f9);\n",
              "        \n",
              "    \n",
              "            var icon_6256e3f7aa46bf53746caef03543d50f = L.AwesomeMarkers.icon(\n",
              "                {&quot;extraClasses&quot;: &quot;fa-rotate-0&quot;, &quot;icon&quot;: &quot;circle&quot;, &quot;iconColor&quot;: &quot;white&quot;, &quot;markerColor&quot;: &quot;purple&quot;, &quot;prefix&quot;: &quot;fa&quot;}\n",
              "            );\n",
              "            marker_fe681540520c5f6583d75e45e4abd77f.setIcon(icon_6256e3f7aa46bf53746caef03543d50f);\n",
              "        \n",
              "    \n",
              "        var popup_caf3b280eedb68c619df7b04646e3b8c = L.popup({&quot;maxWidth&quot;: &quot;100%&quot;});\n",
              "\n",
              "        \n",
              "            var html_be0f9bdfa7e6a011605c60960068b7af = $(`&lt;div id=&quot;html_be0f9bdfa7e6a011605c60960068b7af&quot; style=&quot;width: 100.0%; height: 100.0%;&quot;&gt;(St Kitts) and Nevis&lt;/div&gt;`)[0];\n",
              "            popup_caf3b280eedb68c619df7b04646e3b8c.setContent(html_be0f9bdfa7e6a011605c60960068b7af);\n",
              "        \n",
              "\n",
              "        marker_fe681540520c5f6583d75e45e4abd77f.bindPopup(popup_caf3b280eedb68c619df7b04646e3b8c)\n",
              "        ;\n",
              "\n",
              "        \n",
              "    \n",
              "    \n",
              "            marker_fe681540520c5f6583d75e45e4abd77f.bindTooltip(\n",
              "                `&lt;div&gt;\n",
              "                     (St Kitts) and Nevis\n",
              "                 &lt;/div&gt;`,\n",
              "                {&quot;sticky&quot;: true}\n",
              "            );\n",
              "        \n",
              "    \n",
              "            var marker_034425ec7c234695e14fadd78cbf8523 = L.marker(\n",
              "                [13.909444, -60.978893],\n",
              "                {}\n",
              "            ).addTo(map_f3d63cba539f7f33d856917afb4da3f9);\n",
              "        \n",
              "    \n",
              "            var icon_2a917d878b007cdc767e8f6945ecfecd = L.AwesomeMarkers.icon(\n",
              "                {&quot;extraClasses&quot;: &quot;fa-rotate-0&quot;, &quot;icon&quot;: &quot;circle&quot;, &quot;iconColor&quot;: &quot;white&quot;, &quot;markerColor&quot;: &quot;purple&quot;, &quot;prefix&quot;: &quot;fa&quot;}\n",
              "            );\n",
              "            marker_034425ec7c234695e14fadd78cbf8523.setIcon(icon_2a917d878b007cdc767e8f6945ecfecd);\n",
              "        \n",
              "    \n",
              "        var popup_f8cf45fc1b8426348be267d5b6eb894b = L.popup({&quot;maxWidth&quot;: &quot;100%&quot;});\n",
              "\n",
              "        \n",
              "            var html_602d4e6fa7a2ffa4946c05e68552bd40 = $(`&lt;div id=&quot;html_602d4e6fa7a2ffa4946c05e68552bd40&quot; style=&quot;width: 100.0%; height: 100.0%;&quot;&gt;Saint Lucia&lt;/div&gt;`)[0];\n",
              "            popup_f8cf45fc1b8426348be267d5b6eb894b.setContent(html_602d4e6fa7a2ffa4946c05e68552bd40);\n",
              "        \n",
              "\n",
              "        marker_034425ec7c234695e14fadd78cbf8523.bindPopup(popup_f8cf45fc1b8426348be267d5b6eb894b)\n",
              "        ;\n",
              "\n",
              "        \n",
              "    \n",
              "    \n",
              "            marker_034425ec7c234695e14fadd78cbf8523.bindTooltip(\n",
              "                `&lt;div&gt;\n",
              "                     Saint Lucia\n",
              "                 &lt;/div&gt;`,\n",
              "                {&quot;sticky&quot;: true}\n",
              "            );\n",
              "        \n",
              "    \n",
              "            var marker_5dc2c28006c2ce9c2bb525466f992c04 = L.marker(\n",
              "                [13.2528179, -61.1971628],\n",
              "                {}\n",
              "            ).addTo(map_f3d63cba539f7f33d856917afb4da3f9);\n",
              "        \n",
              "    \n",
              "            var icon_052d07fb894ddf36322a139727041092 = L.AwesomeMarkers.icon(\n",
              "                {&quot;extraClasses&quot;: &quot;fa-rotate-0&quot;, &quot;icon&quot;: &quot;circle&quot;, &quot;iconColor&quot;: &quot;white&quot;, &quot;markerColor&quot;: &quot;purple&quot;, &quot;prefix&quot;: &quot;fa&quot;}\n",
              "            );\n",
              "            marker_5dc2c28006c2ce9c2bb525466f992c04.setIcon(icon_052d07fb894ddf36322a139727041092);\n",
              "        \n",
              "    \n",
              "        var popup_dcf15238a43cbb8dd59398b460b8c3c6 = L.popup({&quot;maxWidth&quot;: &quot;100%&quot;});\n",
              "\n",
              "        \n",
              "            var html_e21e4202061884e623aef7f34bed4583 = $(`&lt;div id=&quot;html_e21e4202061884e623aef7f34bed4583&quot; style=&quot;width: 100.0%; height: 100.0%;&quot;&gt; Saint Vincent and the Grenadines&lt;/div&gt;`)[0];\n",
              "            popup_dcf15238a43cbb8dd59398b460b8c3c6.setContent(html_e21e4202061884e623aef7f34bed4583);\n",
              "        \n",
              "\n",
              "        marker_5dc2c28006c2ce9c2bb525466f992c04.bindPopup(popup_dcf15238a43cbb8dd59398b460b8c3c6)\n",
              "        ;\n",
              "\n",
              "        \n",
              "    \n",
              "    \n",
              "            marker_5dc2c28006c2ce9c2bb525466f992c04.bindTooltip(\n",
              "                `&lt;div&gt;\n",
              "                      Saint Vincent and the Grenadines\n",
              "                 &lt;/div&gt;`,\n",
              "                {&quot;sticky&quot;: true}\n",
              "            );\n",
              "        \n",
              "&lt;/script&gt;\n",
              "&lt;/html&gt;\" style=\"position:absolute;width:100%;height:100%;left:0;top:0;border:none !important;\" allowfullscreen webkitallowfullscreen mozallowfullscreen></iframe></div></div>"
            ]
          },
          "metadata": {},
          "execution_count": 6
        }
      ]
    },
    {
      "cell_type": "code",
      "execution_count": null,
      "metadata": {
        "id": "vlgZcasLqWgl"
      },
      "outputs": [],
      "source": [
        "df.head()"
      ]
    },
    {
      "cell_type": "code",
      "execution_count": null,
      "metadata": {
        "id": "WEjf-tH41u6p"
      },
      "outputs": [],
      "source": [
        "df.describe()"
      ]
    },
    {
      "cell_type": "code",
      "execution_count": null,
      "metadata": {
        "id": "8GiopbAhJhRM"
      },
      "outputs": [],
      "source": [
        "df = df.drop('Remittances_to_GDP', axis=1)"
      ]
    },
    {
      "cell_type": "code",
      "execution_count": null,
      "metadata": {
        "id": "PM7iEN7x4GB4"
      },
      "outputs": [],
      "source": [
        "df['Remittances_to_GDP'] = df['Remittances_to_GDP'].fillna(df['Remittances_to_GDP'].mean())"
      ]
    },
    {
      "cell_type": "code",
      "execution_count": null,
      "metadata": {
        "id": "7qIeqfXpdTs0"
      },
      "outputs": [],
      "source": [
        "#df1 = pd.read_csv(\"FDI_07-14-2022 10-45-25-27_timeSeries.csv\")"
      ]
    },
    {
      "cell_type": "code",
      "execution_count": null,
      "metadata": {
        "id": "yxZTwBfF7bCq"
      },
      "outputs": [],
      "source": [
        "#df1_fdi = df1[df1['Indicator Name'] == 'Financial Development Index']\n"
      ]
    },
    {
      "cell_type": "code",
      "execution_count": null,
      "metadata": {
        "id": "4Jcg6NPJ8MbT"
      },
      "outputs": [],
      "source": [
        "#df1_fdi.to_csv(\"FDI.csv\", encoding='utf-8', index=False)\n"
      ]
    },
    {
      "cell_type": "code",
      "execution_count": null,
      "metadata": {
        "id": "QYNl8oIjyuBM"
      },
      "outputs": [],
      "source": [
        "#df2 = pd.read_excel(\"wgidataset.xlsx\",\"VoiceandAccountability\")"
      ]
    },
    {
      "cell_type": "code",
      "execution_count": null,
      "metadata": {
        "id": "3B9v8xsM6iYt"
      },
      "outputs": [],
      "source": [
        "#df2.info()"
      ]
    },
    {
      "cell_type": "code",
      "execution_count": null,
      "metadata": {
        "id": "NeZzaQ8K6oxd"
      },
      "outputs": [],
      "source": [
        "#df2.head()"
      ]
    },
    {
      "cell_type": "code",
      "execution_count": null,
      "metadata": {
        "id": "GY1897xZ8BWa"
      },
      "outputs": [],
      "source": [
        "#df2.describe()"
      ]
    },
    {
      "cell_type": "code",
      "execution_count": null,
      "metadata": {
        "id": "8Ft8qJHmmSIz"
      },
      "outputs": [],
      "source": [
        "#df3 = pd.read_csv(\"Analysis_2017.csv\")"
      ]
    },
    {
      "cell_type": "code",
      "execution_count": null,
      "metadata": {
        "id": "1nQzcXRlmetv"
      },
      "outputs": [],
      "source": [
        "#df4 = pd.read_csv(\"Analysis_2018.csv\")"
      ]
    },
    {
      "cell_type": "code",
      "execution_count": null,
      "metadata": {
        "id": "gyc81_ein9vH"
      },
      "outputs": [],
      "source": [
        "#df5 = pd.read_csv(\"Analysis_2019.csv\")"
      ]
    },
    {
      "cell_type": "code",
      "execution_count": null,
      "metadata": {
        "id": "uQS3Mhu0ss7e"
      },
      "outputs": [],
      "source": [
        "#df5.info()"
      ]
    },
    {
      "cell_type": "code",
      "execution_count": null,
      "metadata": {
        "id": "PKE8OXawoXJU"
      },
      "outputs": [],
      "source": [
        "#df6 = pd.read_csv(\"Analysis_2020.csv\")"
      ]
    },
    {
      "cell_type": "code",
      "execution_count": null,
      "metadata": {
        "id": "qeiMovAXofQb"
      },
      "outputs": [],
      "source": [
        "#df7 = pd.read_csv(\"Analysis_2021.csv\")"
      ]
    },
    {
      "cell_type": "code",
      "execution_count": null,
      "metadata": {
        "id": "oIcb86s7moEO"
      },
      "outputs": [],
      "source": [
        "#df5.head()"
      ]
    },
    {
      "cell_type": "code",
      "execution_count": null,
      "metadata": {
        "id": "9AoCvqT7m10u"
      },
      "outputs": [],
      "source": [
        "#df3.info()"
      ]
    },
    {
      "cell_type": "code",
      "execution_count": null,
      "metadata": {
        "id": "rBH3dBN7m7ye"
      },
      "outputs": [],
      "source": [
        "#df3_df4 =pd.concat([df3, df4['Score_2018']],axis=1)"
      ]
    },
    {
      "cell_type": "code",
      "execution_count": null,
      "metadata": {
        "id": "aqdZvqdmtceQ"
      },
      "outputs": [],
      "source": [
        "#df3_df4.to_csv(\"df3_df4.csv\", encoding='utf-8', index=False)\n"
      ]
    },
    {
      "cell_type": "code",
      "execution_count": null,
      "metadata": {
        "id": "jWymcacvuDiQ"
      },
      "outputs": [],
      "source": [
        "#df3_df4_ = pd.read_csv(\"df3_df4.csv\")"
      ]
    },
    {
      "cell_type": "code",
      "execution_count": null,
      "metadata": {
        "id": "zSuHLJSCnc-6"
      },
      "outputs": [],
      "source": [
        "#df3_df4.head()"
      ]
    },
    {
      "cell_type": "code",
      "execution_count": null,
      "metadata": {
        "id": "2we6YdEin7Dp"
      },
      "outputs": [],
      "source": [
        "#df3_df4_df5 = pd.concat([df3_df4, df5['Score_2019']],axis=1)"
      ]
    },
    {
      "cell_type": "code",
      "execution_count": null,
      "metadata": {
        "id": "gQNyU723zQeD"
      },
      "outputs": [],
      "source": [
        "#df3_df4_df5_df6 =  pd.concat([df3_df4_df5, df6['Score_2020']],axis=1)"
      ]
    },
    {
      "cell_type": "code",
      "execution_count": null,
      "metadata": {
        "id": "U2OJ9qNHzefp"
      },
      "outputs": [],
      "source": [
        "#df3_df4_df5_df6_df7 =  pd.concat([df3_df4_df5_df6, df7['Score_2021']],axis=1)"
      ]
    },
    {
      "cell_type": "code",
      "execution_count": null,
      "metadata": {
        "id": "dDyCPQRszp45"
      },
      "outputs": [],
      "source": [
        "#df3_df4_df5_df6_df7.info()"
      ]
    },
    {
      "cell_type": "code",
      "execution_count": null,
      "metadata": {
        "id": "nc4t3GSIz92h"
      },
      "outputs": [],
      "source": [
        "#df3_df4_df5_df6_df7.to_csv(\"Innovation_Score.csv\", encoding='utf-8', index=False)\n"
      ]
    },
    {
      "cell_type": "code",
      "execution_count": null,
      "metadata": {
        "id": "aWH0c4TWo_fZ"
      },
      "outputs": [],
      "source": [
        "#df3_df4_df5.head()"
      ]
    },
    {
      "cell_type": "code",
      "execution_count": null,
      "metadata": {
        "id": "XVNSKm1shM3K"
      },
      "outputs": [],
      "source": [
        "df.head()"
      ]
    },
    {
      "cell_type": "code",
      "execution_count": null,
      "metadata": {
        "id": "NVxVKhvf2CAe"
      },
      "outputs": [],
      "source": [
        "#df.drop(['ISO2', 'country_name'], axis=1, inplace=True)\n"
      ]
    },
    {
      "cell_type": "markdown",
      "metadata": {
        "id": "38Ipi0iqdrPO"
      },
      "source": [
        "**Remove Rows with maximum amount of missing data**"
      ]
    },
    {
      "cell_type": "code",
      "execution_count": null,
      "metadata": {
        "id": "xUdTOYsaenjD"
      },
      "outputs": [],
      "source": [
        "df = df[df.isnull().sum(axis=1) < 3]"
      ]
    },
    {
      "cell_type": "code",
      "execution_count": null,
      "metadata": {
        "colab": {
          "base_uri": "https://localhost:8080/"
        },
        "id": "y8jg_gB5gEDR",
        "outputId": "72d4ef99-9297-416c-b18f-5d0260f1ab04"
      },
      "outputs": [
        {
          "name": "stdout",
          "output_type": "stream",
          "text": [
            "<class 'pandas.core.frame.DataFrame'>\n",
            "RangeIndex: 168 entries, 0 to 167\n",
            "Data columns (total 24 columns):\n",
            " #   Column                                            Non-Null Count  Dtype  \n",
            "---  ------                                            --------------  -----  \n",
            " 0   ISO2                                              167 non-null    object \n",
            " 1   country_name                                      168 non-null    object \n",
            " 2   project_score_overall                             166 non-null    float64\n",
            " 3   project_score_retail                              166 non-null    float64\n",
            " 4   project_score_wholesale                           166 non-null    float64\n",
            " 5   search_interest_normalized                        168 non-null    float64\n",
            " 6   central_bankers_speech_stance_index_normalized    168 non-null    float64\n",
            " 7   search_interest                                   168 non-null    float64\n",
            " 8   central_bankers_speech_stance_index               168 non-null    float64\n",
            " 9   Mobile_Cellular_sub                               168 non-null    float64\n",
            " 10  Financial_Development_Index                       168 non-null    float64\n",
            " 11  Trade_GDP                                         168 non-null    float64\n",
            " 12  GDP_USD                                           168 non-null    float64\n",
            " 13  VoiceandAccountability                            168 non-null    float64\n",
            " 14  GovernmentEffectiveness                           168 non-null    float64\n",
            " 15  Broadband_Subscribsions_per100people              166 non-null    float64\n",
            " 16  Innovation_Score                                  168 non-null    float64\n",
            " 17  Account_Ownership                                 168 non-null    float64\n",
            " 18  Secure_Internet_Servers                           168 non-null    float64\n",
            " 19  Trade_Openness                                    167 non-null    float64\n",
            " 20  Access_to_Electricity                             168 non-null    float64\n",
            " 21  Individual_Internet_Users                         168 non-null    float64\n",
            " 22  Regulatory_quality                                168 non-null    float64\n",
            " 23  Population_ages_65_and_above_of_total_population  168 non-null    float64\n",
            "dtypes: float64(22), object(2)\n",
            "memory usage: 31.6+ KB\n"
          ]
        }
      ],
      "source": [
        "df.info()"
      ]
    },
    {
      "cell_type": "code",
      "execution_count": null,
      "metadata": {
        "id": "oqVLSu8NxfX9"
      },
      "outputs": [],
      "source": [
        "df.to_csv(\"Work_Data_24_OKT_.csv\", encoding='utf-8', index=False)\n"
      ]
    },
    {
      "cell_type": "code",
      "execution_count": null,
      "metadata": {
        "id": "YX2IybHEc9ZS"
      },
      "outputs": [],
      "source": [
        "df['Secure_Internet_Servers'] = df['Secure_Internet_Servers'].fillna(df['Secure_Internet_Servers'].mean())"
      ]
    },
    {
      "cell_type": "code",
      "execution_count": null,
      "metadata": {
        "id": "9h7uNtoMdY7T"
      },
      "outputs": [],
      "source": [
        "df['Regulatory quality'] = df['Regulatory quality'].fillna(df['Regulatory quality'].mean())"
      ]
    },
    {
      "cell_type": "code",
      "execution_count": null,
      "metadata": {
        "id": "GQwZ6fNVduSN"
      },
      "outputs": [],
      "source": [
        "df['Access_to_Electricity'] = df['Access_to_Electricity'].fillna(df['Access_to_Electricity'].mean())"
      ]
    },
    {
      "cell_type": "code",
      "execution_count": null,
      "metadata": {
        "id": "zDWoix6agwdf"
      },
      "outputs": [],
      "source": [
        "df['project_score_wholesale'] = df['project_score_wholesale'].fillna(df['project_score_wholesale'].mean())"
      ]
    },
    {
      "cell_type": "code",
      "execution_count": null,
      "metadata": {
        "id": "FXnSsmdxg7bX"
      },
      "outputs": [],
      "source": [
        "df['project_score_retail'] = df['project_score_retail'].fillna(df['project_score_retail'].mean())"
      ]
    },
    {
      "cell_type": "markdown",
      "metadata": {
        "id": "gSRU58EElSB-"
      },
      "source": [
        "**Filling missing values of project_score_wholesale**"
      ]
    },
    {
      "cell_type": "code",
      "execution_count": null,
      "metadata": {
        "id": "kz3MXRXPlwCP"
      },
      "outputs": [],
      "source": [
        "df_project_score_wholesale = df.drop(['ISO2','country_name','project_score_overall','project_score_retail','search_interest_normalized','central_bankers_speech_stance_index_normalized'], axis=1)"
      ]
    },
    {
      "cell_type": "code",
      "execution_count": null,
      "metadata": {
        "id": "V7AE04G0l8V5"
      },
      "outputs": [],
      "source": [
        "test_data_project_score_wholesale = df_project_score_wholesale[df_project_score_wholesale['project_score_wholesale'].isnull()]"
      ]
    },
    {
      "cell_type": "code",
      "execution_count": null,
      "metadata": {
        "colab": {
          "base_uri": "https://localhost:8080/"
        },
        "id": "_XUhf3TKmGuw",
        "outputId": "25e0d20c-5763-452e-bb41-cafb28e49fbd"
      },
      "outputs": [
        {
          "name": "stderr",
          "output_type": "stream",
          "text": [
            "/usr/local/lib/python3.7/dist-packages/pandas/core/frame.py:3641: SettingWithCopyWarning: \n",
            "A value is trying to be set on a copy of a slice from a DataFrame.\n",
            "Try using .loc[row_indexer,col_indexer] = value instead\n",
            "\n",
            "See the caveats in the documentation: https://pandas.pydata.org/pandas-docs/stable/user_guide/indexing.html#returning-a-view-versus-a-copy\n",
            "  self[k1] = value[k2]\n"
          ]
        }
      ],
      "source": [
        "test_data_project_score_wholesale[['search_interest','central_bankers_speech_stance_index','Mobile_Cellular_sub','Financial_Development_Index','Trade (% of GDP)','GDP(USD)','VoiceandAccountability','GovernmentEffectiveness','Broadband_Subscribsions(per100people)','Innovation_Score','Account_Ownership','Secure_Internet_Servers','Trade_Openness','Access_to_Electricity','Population ages 65 and above (% of total population)']] = test_data_project_score_wholesale[['search_interest','central_bankers_speech_stance_index','Mobile_Cellular_sub','Financial_Development_Index','Trade (% of GDP)','GDP(USD)','VoiceandAccountability','GovernmentEffectiveness','Broadband_Subscribsions(per100people)','Innovation_Score','Account_Ownership','Secure_Internet_Servers','Trade_Openness','Access_to_Electricity','Population ages 65 and above (% of total population)']].fillna((test_data_project_score_wholesale[['search_interest','central_bankers_speech_stance_index','Mobile_Cellular_sub','Financial_Development_Index','Trade (% of GDP)','GDP(USD)','VoiceandAccountability','GovernmentEffectiveness','Broadband_Subscribsions(per100people)','Innovation_Score','Account_Ownership','Secure_Internet_Servers','Trade_Openness','Access_to_Electricity','Population ages 65 and above (% of total population)']].mean()))"
      ]
    },
    {
      "cell_type": "code",
      "execution_count": null,
      "metadata": {
        "id": "q1nwRdPEfO8g"
      },
      "outputs": [],
      "source": [
        "df_project_score_wholesale.dropna(inplace=True)"
      ]
    },
    {
      "cell_type": "code",
      "execution_count": null,
      "metadata": {
        "id": "mEgUOlR0fWk3"
      },
      "outputs": [],
      "source": [
        "xtrain_project_score_wholesale = df_project_score_wholesale.drop(['project_score_wholesale','Regulatory quality'],axis=1)"
      ]
    },
    {
      "cell_type": "code",
      "execution_count": null,
      "metadata": {
        "id": "m2zHScbqfoxZ"
      },
      "outputs": [],
      "source": [
        "ytrain_project_score_wholesale = df_project_score_wholesale['project_score_wholesale']"
      ]
    },
    {
      "cell_type": "code",
      "execution_count": null,
      "metadata": {
        "id": "uvA46vx1fyVV"
      },
      "outputs": [],
      "source": [
        "from sklearn.linear_model import LinearRegression\n",
        "lr_project_score_wholesale = LinearRegression()"
      ]
    },
    {
      "cell_type": "code",
      "execution_count": null,
      "metadata": {
        "colab": {
          "base_uri": "https://localhost:8080/"
        },
        "id": "QJ7DvEUff4tX",
        "outputId": "c4d81430-1942-4e8f-b9da-1eb5b7f04671"
      },
      "outputs": [
        {
          "data": {
            "text/plain": [
              "LinearRegression()"
            ]
          },
          "execution_count": 12,
          "metadata": {},
          "output_type": "execute_result"
        }
      ],
      "source": [
        "lr_project_score_wholesale.fit(xtrain_project_score_wholesale,ytrain_project_score_wholesale)"
      ]
    },
    {
      "cell_type": "code",
      "execution_count": null,
      "metadata": {
        "id": "tzWMUVUJgEIf"
      },
      "outputs": [],
      "source": [
        "xtest_project_score_wholesale = test_data_project_score_wholesale[['search_interest','central_bankers_speech_stance_index','Mobile_Cellular_sub','Financial_Development_Index','Trade (% of GDP)','GDP(USD)','VoiceandAccountability','GovernmentEffectiveness','Broadband_Subscribsions(per100people)','Innovation_Score','Account_Ownership','Secure_Internet_Servers','Trade_Openness','Access_to_Electricity','Individual_Internet_Users','Population ages 65 and above (% of total population)']]"
      ]
    },
    {
      "cell_type": "code",
      "execution_count": null,
      "metadata": {
        "id": "F9bBzXc7gc9-"
      },
      "outputs": [],
      "source": [
        "ypred_project_score_wholesale = lr_project_score_wholesale.predict(xtest_project_score_wholesale)"
      ]
    },
    {
      "cell_type": "code",
      "execution_count": null,
      "metadata": {
        "id": "lhM5MycbgmIx"
      },
      "outputs": [],
      "source": [
        "ypred_project_score_wholesale"
      ]
    },
    {
      "cell_type": "markdown",
      "metadata": {
        "id": "Oi5K8LGKMc74"
      },
      "source": [
        "**Filling missing values of Individual_Internet_Users**"
      ]
    },
    {
      "cell_type": "code",
      "execution_count": null,
      "metadata": {
        "id": "zTTNoM7bMmuq"
      },
      "outputs": [],
      "source": [
        "df_Individual_Internet_Users = df.drop(['ISO2','country_name','project_score_overall','project_score_retail','project_score_wholesale','search_interest_normalized','central_bankers_speech_stance_index_normalized'], axis=1)"
      ]
    },
    {
      "cell_type": "code",
      "execution_count": null,
      "metadata": {
        "id": "oAZkNymnMzFK"
      },
      "outputs": [],
      "source": [
        "test_data_Individual_Internet_Users = df_Individual_Internet_Users[df_Individual_Internet_Users['Individual_Internet_Users'].isnull()]"
      ]
    },
    {
      "cell_type": "code",
      "execution_count": null,
      "metadata": {
        "colab": {
          "base_uri": "https://localhost:8080/"
        },
        "id": "-sMTb0QPM9og",
        "outputId": "0d655435-761e-46df-f34e-b3551331e3e2"
      },
      "outputs": [
        {
          "name": "stderr",
          "output_type": "stream",
          "text": [
            "/usr/local/lib/python3.7/dist-packages/pandas/core/frame.py:3641: SettingWithCopyWarning: \n",
            "A value is trying to be set on a copy of a slice from a DataFrame.\n",
            "Try using .loc[row_indexer,col_indexer] = value instead\n",
            "\n",
            "See the caveats in the documentation: https://pandas.pydata.org/pandas-docs/stable/user_guide/indexing.html#returning-a-view-versus-a-copy\n",
            "  self[k1] = value[k2]\n"
          ]
        }
      ],
      "source": [
        "test_data_Individual_Internet_Users[['search_interest','central_bankers_speech_stance_index','Mobile_Cellular_sub','Financial_Development_Index','Trade (% of GDP)','GDP(USD)','VoiceandAccountability','GovernmentEffectiveness','Broadband_Subscribsions(per100people)','Innovation_Score','Account_Ownership','Secure_Internet_Servers','Trade_Openness','Access_to_Electricity','Population ages 65 and above (% of total population)']] = test_data_Individual_Internet_Users[['search_interest','central_bankers_speech_stance_index','Mobile_Cellular_sub','Financial_Development_Index','Trade (% of GDP)','GDP(USD)','VoiceandAccountability','GovernmentEffectiveness','Broadband_Subscribsions(per100people)','Innovation_Score','Account_Ownership','Secure_Internet_Servers','Trade_Openness','Access_to_Electricity','Population ages 65 and above (% of total population)']].fillna((test_data_Individual_Internet_Users[['search_interest','central_bankers_speech_stance_index','Mobile_Cellular_sub','Financial_Development_Index','Trade (% of GDP)','GDP(USD)','VoiceandAccountability','GovernmentEffectiveness','Broadband_Subscribsions(per100people)','Innovation_Score','Account_Ownership','Secure_Internet_Servers','Trade_Openness','Access_to_Electricity','Population ages 65 and above (% of total population)']].mean()))"
      ]
    },
    {
      "cell_type": "code",
      "execution_count": null,
      "metadata": {
        "id": "V8V34MNiNmSb"
      },
      "outputs": [],
      "source": [
        "df_Individual_Internet_Users.dropna(inplace=True)"
      ]
    },
    {
      "cell_type": "code",
      "execution_count": null,
      "metadata": {
        "id": "52wLz4qANs9U"
      },
      "outputs": [],
      "source": [
        "xtrain_Individual_Internet_Users = df_Individual_Internet_Users.drop(['Individual_Internet_Users','Regulatory quality'],axis=1)"
      ]
    },
    {
      "cell_type": "code",
      "execution_count": null,
      "metadata": {
        "id": "m0XlHjj3N6Gm"
      },
      "outputs": [],
      "source": [
        "ytrain_Individual_Internet_Users = df_Individual_Internet_Users['Individual_Internet_Users']"
      ]
    },
    {
      "cell_type": "code",
      "execution_count": null,
      "metadata": {
        "id": "7X8d6SsON6fM"
      },
      "outputs": [],
      "source": [
        "from sklearn.linear_model import LinearRegression\n",
        "lr_Individual_Internet_Users = LinearRegression()"
      ]
    },
    {
      "cell_type": "code",
      "execution_count": null,
      "metadata": {
        "colab": {
          "base_uri": "https://localhost:8080/"
        },
        "id": "oHiQDWfLOROu",
        "outputId": "fab72e01-0e1e-48fc-ee67-1bca75962287"
      },
      "outputs": [
        {
          "data": {
            "text/plain": [
              "LinearRegression()"
            ]
          },
          "execution_count": 21,
          "metadata": {},
          "output_type": "execute_result"
        }
      ],
      "source": [
        "lr_Individual_Internet_Users.fit(xtrain_Individual_Internet_Users,ytrain_Individual_Internet_Users)"
      ]
    },
    {
      "cell_type": "code",
      "execution_count": null,
      "metadata": {
        "id": "FwDggnNnOalK"
      },
      "outputs": [],
      "source": [
        "xtest_Individual_Internet_Users = test_data_Individual_Internet_Users[['search_interest','central_bankers_speech_stance_index','Mobile_Cellular_sub','Financial_Development_Index','Trade (% of GDP)','GDP(USD)','VoiceandAccountability','GovernmentEffectiveness','Broadband_Subscribsions(per100people)','Innovation_Score','Account_Ownership','Secure_Internet_Servers','Trade_Openness','Access_to_Electricity','Population ages 65 and above (% of total population)']]"
      ]
    },
    {
      "cell_type": "code",
      "execution_count": null,
      "metadata": {
        "id": "wDjgeAmVPdxc"
      },
      "outputs": [],
      "source": [
        "print(xtest_Individual_Internet_Users)"
      ]
    },
    {
      "cell_type": "code",
      "execution_count": null,
      "metadata": {
        "id": "JnjpC2eEPSnu"
      },
      "outputs": [],
      "source": [
        "ypred_Individual_Internet_Users = lr_Individual_Internet_Users.predict(xtest_Individual_Internet_Users)"
      ]
    },
    {
      "cell_type": "code",
      "execution_count": null,
      "metadata": {
        "colab": {
          "base_uri": "https://localhost:8080/"
        },
        "id": "dAtjgePLPvYc",
        "outputId": "1e8e5475-9011-4329-ad2e-d10b7a4dfe22"
      },
      "outputs": [
        {
          "data": {
            "text/plain": [
              "array([32.46550108, 48.42403176, 27.81853259, 31.26951461])"
            ]
          },
          "execution_count": 24,
          "metadata": {},
          "output_type": "execute_result"
        }
      ],
      "source": [
        "ypred_Individual_Internet_Users"
      ]
    },
    {
      "cell_type": "markdown",
      "metadata": {
        "id": "yZX97_vfQ5DE"
      },
      "source": [
        "**Filling missing values of GDP**"
      ]
    },
    {
      "cell_type": "code",
      "execution_count": null,
      "metadata": {
        "id": "zztgZJ5dyKwl"
      },
      "outputs": [],
      "source": [
        "df_GDP = df.drop(['ISO2','country_name','project_score_overall','project_score_retail','project_score_wholesale','search_interest_normalized','central_bankers_speech_stance_index_normalized'], axis=1)"
      ]
    },
    {
      "cell_type": "code",
      "execution_count": null,
      "metadata": {
        "id": "-YTVzT95yb5Z"
      },
      "outputs": [],
      "source": [
        "test_data_GDP = df_GDP[df_GDP['GDP(USD)'].isnull()]"
      ]
    },
    {
      "cell_type": "code",
      "execution_count": null,
      "metadata": {
        "colab": {
          "base_uri": "https://localhost:8080/"
        },
        "id": "PCXcb5P2zLBE",
        "outputId": "bea4fa43-46ef-47da-abd4-3e56bbcf52bd"
      },
      "outputs": [
        {
          "name": "stderr",
          "output_type": "stream",
          "text": [
            "/usr/local/lib/python3.7/dist-packages/pandas/core/frame.py:3641: SettingWithCopyWarning: \n",
            "A value is trying to be set on a copy of a slice from a DataFrame.\n",
            "Try using .loc[row_indexer,col_indexer] = value instead\n",
            "\n",
            "See the caveats in the documentation: https://pandas.pydata.org/pandas-docs/stable/user_guide/indexing.html#returning-a-view-versus-a-copy\n",
            "  self[k1] = value[k2]\n"
          ]
        }
      ],
      "source": [
        "test_data_GDP[['search_interest','central_bankers_speech_stance_index','Mobile_Cellular_sub','Financial_Development_Index','Trade (% of GDP)','VoiceandAccountability','GovernmentEffectiveness','Broadband_Subscribsions(per100people)','Innovation_Score','Account_Ownership','Secure_Internet_Servers','Trade_Openness','Access_to_Electricity','Individual_Internet_Users','Population ages 65 and above (% of total population)']] = test_data_GDP[['search_interest','central_bankers_speech_stance_index','Mobile_Cellular_sub','Financial_Development_Index','Trade (% of GDP)','VoiceandAccountability','GovernmentEffectiveness','Broadband_Subscribsions(per100people)','Innovation_Score','Account_Ownership','Secure_Internet_Servers','Trade_Openness','Access_to_Electricity','Individual_Internet_Users','Population ages 65 and above (% of total population)']].fillna((test_data_GDP[['search_interest','central_bankers_speech_stance_index','Mobile_Cellular_sub','Financial_Development_Index','Trade (% of GDP)','VoiceandAccountability','GovernmentEffectiveness','Broadband_Subscribsions(per100people)','Innovation_Score','Account_Ownership','Secure_Internet_Servers','Trade_Openness','Access_to_Electricity','Individual_Internet_Users','Population ages 65 and above (% of total population)']].mean()))"
      ]
    },
    {
      "cell_type": "code",
      "execution_count": null,
      "metadata": {
        "id": "ZHPPgzSE0ACw"
      },
      "outputs": [],
      "source": [
        "df_GDP.dropna(inplace=True)"
      ]
    },
    {
      "cell_type": "code",
      "execution_count": null,
      "metadata": {
        "id": "8Ahb0skj0F-k"
      },
      "outputs": [],
      "source": [
        "xtrain_GDP = df_GDP.drop(['GDP(USD)','Individual_Internet_Users','Regulatory quality'],axis=1)"
      ]
    },
    {
      "cell_type": "code",
      "execution_count": null,
      "metadata": {
        "id": "qVfI5bOW2k6s"
      },
      "outputs": [],
      "source": [
        "xtrain_GDP.info()"
      ]
    },
    {
      "cell_type": "code",
      "execution_count": null,
      "metadata": {
        "id": "eLdQjzd50kYX"
      },
      "outputs": [],
      "source": [
        "ytrain_GDP = df_GDP['GDP(USD)']"
      ]
    },
    {
      "cell_type": "code",
      "execution_count": null,
      "metadata": {
        "id": "OD8lLelX0vC9"
      },
      "outputs": [],
      "source": [
        "from sklearn.linear_model import LinearRegression\n",
        "lr_GDP = LinearRegression()"
      ]
    },
    {
      "cell_type": "code",
      "execution_count": null,
      "metadata": {
        "colab": {
          "base_uri": "https://localhost:8080/"
        },
        "id": "n-JjQiKL00r6",
        "outputId": "d4b213a9-dd81-47ac-e3d9-abdd46bd20bd"
      },
      "outputs": [
        {
          "data": {
            "text/plain": [
              "LinearRegression()"
            ]
          },
          "execution_count": 41,
          "metadata": {},
          "output_type": "execute_result"
        }
      ],
      "source": [
        "lr_GDP.fit(xtrain_GDP,ytrain_GDP)"
      ]
    },
    {
      "cell_type": "code",
      "execution_count": null,
      "metadata": {
        "id": "Uw4Ico291C9D"
      },
      "outputs": [],
      "source": [
        "xtest_GDP = test_data_GDP[['search_interest','central_bankers_speech_stance_index','Mobile_Cellular_sub','Financial_Development_Index','Trade (% of GDP)','VoiceandAccountability','GovernmentEffectiveness','Broadband_Subscribsions(per100people)','Innovation_Score','Account_Ownership','Secure_Internet_Servers','Trade_Openness','Access_to_Electricity','Population ages 65 and above (% of total population)']]"
      ]
    },
    {
      "cell_type": "code",
      "execution_count": null,
      "metadata": {
        "id": "LxyyTQ891rWV"
      },
      "outputs": [],
      "source": [
        "print(xtest_GDP)"
      ]
    },
    {
      "cell_type": "code",
      "execution_count": null,
      "metadata": {
        "id": "bIle8w-s1g_e"
      },
      "outputs": [],
      "source": [
        "ypred_GDP = lr_GDP.predict(xtest_GDP)"
      ]
    },
    {
      "cell_type": "code",
      "execution_count": null,
      "metadata": {
        "colab": {
          "base_uri": "https://localhost:8080/"
        },
        "id": "Lo-X-nVf3D9p",
        "outputId": "988c596a-60e3-453c-8f90-3a9e9cf51d8e"
      },
      "outputs": [
        {
          "data": {
            "text/plain": [
              "array([14098.6201936 , 21397.54329668,  3364.24322596,  9267.42244376])"
            ]
          },
          "execution_count": 44,
          "metadata": {},
          "output_type": "execute_result"
        }
      ],
      "source": [
        "ypred_GDP"
      ]
    },
    {
      "cell_type": "markdown",
      "metadata": {
        "id": "QoGkdmx8cPj-"
      },
      "source": [
        "**Filling missing values of Government Effectiveness**"
      ]
    },
    {
      "cell_type": "code",
      "execution_count": null,
      "metadata": {
        "id": "95jdvV4pf8fc"
      },
      "outputs": [],
      "source": [
        "df_GovernmentEffectiveness = df.drop(['ISO2','country_name','project_score_overall','project_score_retail','project_score_wholesale','search_interest_normalized','central_bankers_speech_stance_index_normalized'], axis=1)"
      ]
    },
    {
      "cell_type": "code",
      "execution_count": null,
      "metadata": {
        "id": "zfIx_AN7gDPt"
      },
      "outputs": [],
      "source": [
        "test_data_GovernmentEffectiveness = df_GovernmentEffectiveness[df_GovernmentEffectiveness['GovernmentEffectiveness'].isnull()]"
      ]
    },
    {
      "cell_type": "code",
      "execution_count": null,
      "metadata": {
        "colab": {
          "base_uri": "https://localhost:8080/"
        },
        "id": "nuUGM9NPgND1",
        "outputId": "8c286615-a383-49ce-f08e-988e146ba2a4"
      },
      "outputs": [
        {
          "name": "stderr",
          "output_type": "stream",
          "text": [
            "/usr/local/lib/python3.7/dist-packages/pandas/core/frame.py:3641: SettingWithCopyWarning: \n",
            "A value is trying to be set on a copy of a slice from a DataFrame.\n",
            "Try using .loc[row_indexer,col_indexer] = value instead\n",
            "\n",
            "See the caveats in the documentation: https://pandas.pydata.org/pandas-docs/stable/user_guide/indexing.html#returning-a-view-versus-a-copy\n",
            "  self[k1] = value[k2]\n"
          ]
        }
      ],
      "source": [
        "test_data_GovernmentEffectiveness[['search_interest','central_bankers_speech_stance_index','Mobile_Cellular_sub','Financial_Development_Index','Trade (% of GDP)','GDP(USD)','VoiceandAccountability','Broadband_Subscribsions(per100people)','Innovation_Score','Account_Ownership','Secure_Internet_Servers','Trade_Openness','Access_to_Electricity','Individual_Internet_Users','Population ages 65 and above (% of total population)']] = test_data_GovernmentEffectiveness[['search_interest','central_bankers_speech_stance_index','Mobile_Cellular_sub','Financial_Development_Index','Trade (% of GDP)','GDP(USD)','VoiceandAccountability','Broadband_Subscribsions(per100people)','Innovation_Score','Account_Ownership','Secure_Internet_Servers','Trade_Openness','Access_to_Electricity','Individual_Internet_Users','Population ages 65 and above (% of total population)']].fillna((test_data_GovernmentEffectiveness[['search_interest','central_bankers_speech_stance_index','Mobile_Cellular_sub','Financial_Development_Index','Trade (% of GDP)','GDP(USD)','VoiceandAccountability','Broadband_Subscribsions(per100people)','Innovation_Score','Account_Ownership','Secure_Internet_Servers','Trade_Openness','Access_to_Electricity','Individual_Internet_Users','Population ages 65 and above (% of total population)']].mean()))"
      ]
    },
    {
      "cell_type": "code",
      "execution_count": null,
      "metadata": {
        "id": "GFY_U6Uxg9gG"
      },
      "outputs": [],
      "source": [
        "df_GovernmentEffectiveness.dropna(inplace=True)"
      ]
    },
    {
      "cell_type": "code",
      "execution_count": null,
      "metadata": {
        "id": "SjHOFFOIhEdi"
      },
      "outputs": [],
      "source": [
        "xtrain_GovernmentEffectiveness = df_GovernmentEffectiveness.drop(['GovernmentEffectiveness','Regulatory quality'],axis=1)"
      ]
    },
    {
      "cell_type": "code",
      "execution_count": null,
      "metadata": {
        "id": "zxA3L2hXhQCD"
      },
      "outputs": [],
      "source": [
        "ytrain_GovernmentEffectiveness = df_GovernmentEffectiveness['GovernmentEffectiveness']"
      ]
    },
    {
      "cell_type": "code",
      "execution_count": null,
      "metadata": {
        "id": "i0n4SabVhZKo"
      },
      "outputs": [],
      "source": [
        "from sklearn.linear_model import LinearRegression\n",
        "lr_GE = LinearRegression()"
      ]
    },
    {
      "cell_type": "code",
      "execution_count": null,
      "metadata": {
        "colab": {
          "base_uri": "https://localhost:8080/"
        },
        "id": "2LUUlWYwhejM",
        "outputId": "6fff3810-f996-4904-88d2-5f86a57b0b47"
      },
      "outputs": [
        {
          "data": {
            "text/plain": [
              "LinearRegression()"
            ]
          },
          "execution_count": 23,
          "metadata": {},
          "output_type": "execute_result"
        }
      ],
      "source": [
        "lr_GE.fit(xtrain_GovernmentEffectiveness,ytrain_GovernmentEffectiveness)"
      ]
    },
    {
      "cell_type": "code",
      "execution_count": null,
      "metadata": {
        "id": "4lEDgP6Hhn1l"
      },
      "outputs": [],
      "source": [
        "xtest_GovernmentEffectiveness = test_data_GovernmentEffectiveness[['search_interest','central_bankers_speech_stance_index','Mobile_Cellular_sub','Financial_Development_Index','Trade (% of GDP)','GDP(USD)','VoiceandAccountability','Broadband_Subscribsions(per100people)','Innovation_Score','Account_Ownership','Secure_Internet_Servers','Trade_Openness','Access_to_Electricity','Individual_Internet_Users','Population ages 65 and above (% of total population)']]"
      ]
    },
    {
      "cell_type": "code",
      "execution_count": null,
      "metadata": {
        "id": "otCgtCiUiE6O"
      },
      "outputs": [],
      "source": [
        "print(xtest_GovernmentEffectiveness)"
      ]
    },
    {
      "cell_type": "code",
      "execution_count": null,
      "metadata": {
        "id": "FeHWv74fh6ku"
      },
      "outputs": [],
      "source": [
        "ypred_GovernmentEffectiveness = lr_GE.predict(xtest_GovernmentEffectiveness)"
      ]
    },
    {
      "cell_type": "code",
      "execution_count": null,
      "metadata": {
        "colab": {
          "base_uri": "https://localhost:8080/"
        },
        "id": "3M_6QoDpjEhj",
        "outputId": "3b0c4105-8c20-42b0-d5df-5fd36484d3ee"
      },
      "outputs": [
        {
          "data": {
            "text/plain": [
              "array([ 0.27682118,  0.7203017 ,  0.10604385,  0.9730718 ,  0.30198938,\n",
              "       -0.00716783])"
            ]
          },
          "execution_count": 26,
          "metadata": {},
          "output_type": "execute_result"
        }
      ],
      "source": [
        "ypred_GovernmentEffectiveness"
      ]
    },
    {
      "cell_type": "markdown",
      "metadata": {
        "id": "zejR9XKnDvs5"
      },
      "source": [
        "**Filling missing values of Mobile Cellular Subscriptions**"
      ]
    },
    {
      "cell_type": "code",
      "execution_count": null,
      "metadata": {
        "id": "U-SzIO67MuTb"
      },
      "outputs": [],
      "source": [
        "df_Mobile_Cellular_sub = df.drop(['ISO2','country_name','project_score_overall','project_score_retail','project_score_wholesale','search_interest_normalized','central_bankers_speech_stance_index_normalized'], axis=1)"
      ]
    },
    {
      "cell_type": "code",
      "execution_count": null,
      "metadata": {
        "id": "11frwHVaM3rS"
      },
      "outputs": [],
      "source": [
        "test_data_Mobile_Cellular_sub = df_Mobile_Cellular_sub[df_Mobile_Cellular_sub['Mobile_Cellular_sub'].isnull()]"
      ]
    },
    {
      "cell_type": "code",
      "execution_count": null,
      "metadata": {
        "colab": {
          "base_uri": "https://localhost:8080/"
        },
        "id": "HqARI-LCNC4R",
        "outputId": "dada537f-be39-495c-a332-37d3537ab1a2"
      },
      "outputs": [
        {
          "name": "stderr",
          "output_type": "stream",
          "text": [
            "/usr/local/lib/python3.7/dist-packages/pandas/core/frame.py:3641: SettingWithCopyWarning: \n",
            "A value is trying to be set on a copy of a slice from a DataFrame.\n",
            "Try using .loc[row_indexer,col_indexer] = value instead\n",
            "\n",
            "See the caveats in the documentation: https://pandas.pydata.org/pandas-docs/stable/user_guide/indexing.html#returning-a-view-versus-a-copy\n",
            "  self[k1] = value[k2]\n"
          ]
        }
      ],
      "source": [
        "test_data_Mobile_Cellular_sub[['search_interest','central_bankers_speech_stance_index','Financial_Development_Index','Trade (% of GDP)','GDP(USD)','VoiceandAccountability','GovernmentEffectiveness','Broadband_Subscribsions(per100people)','Innovation_Score','Account_Ownership','Secure_Internet_Servers','Trade_Openness','Access_to_Electricity','Individual_Internet_Users','Regulatory quality','Population ages 65 and above (% of total population)']] = test_data_Mobile_Cellular_sub[['search_interest','central_bankers_speech_stance_index','Financial_Development_Index','Trade (% of GDP)','GDP(USD)','VoiceandAccountability','GovernmentEffectiveness','Broadband_Subscribsions(per100people)','Innovation_Score','Account_Ownership','Secure_Internet_Servers','Trade_Openness','Access_to_Electricity','Individual_Internet_Users','Regulatory quality','Population ages 65 and above (% of total population)']].fillna((test_data_Mobile_Cellular_sub[['search_interest','central_bankers_speech_stance_index','Financial_Development_Index','Trade (% of GDP)','GDP(USD)','VoiceandAccountability','GovernmentEffectiveness','Broadband_Subscribsions(per100people)','Innovation_Score','Account_Ownership','Secure_Internet_Servers','Trade_Openness','Access_to_Electricity','Individual_Internet_Users','Regulatory quality','Population ages 65 and above (% of total population)']].mean()))"
      ]
    },
    {
      "cell_type": "code",
      "execution_count": null,
      "metadata": {
        "id": "ToogWaGMNovi"
      },
      "outputs": [],
      "source": [
        "df_Mobile_Cellular_sub.dropna(inplace=True)"
      ]
    },
    {
      "cell_type": "code",
      "execution_count": null,
      "metadata": {
        "id": "9PSpIKdjNwYi"
      },
      "outputs": [],
      "source": [
        "xtrain_Mobile_Cellular_sub = df_Mobile_Cellular_sub.drop('Mobile_Cellular_sub',axis=1)"
      ]
    },
    {
      "cell_type": "code",
      "execution_count": null,
      "metadata": {
        "id": "GvpuKlUAN4Ec"
      },
      "outputs": [],
      "source": [
        "ytrain_Mobile_Cellular_sub = df_Mobile_Cellular_sub['Mobile_Cellular_sub']"
      ]
    },
    {
      "cell_type": "code",
      "execution_count": null,
      "metadata": {
        "id": "lOzK_l9AOEyz"
      },
      "outputs": [],
      "source": [
        "from sklearn.linear_model import LinearRegression\n",
        "lr_MCS = LinearRegression()"
      ]
    },
    {
      "cell_type": "code",
      "execution_count": null,
      "metadata": {
        "colab": {
          "base_uri": "https://localhost:8080/"
        },
        "id": "OvKY8cY2OLdE",
        "outputId": "7920a949-3ca1-41c0-e626-eeea969a22e2"
      },
      "outputs": [
        {
          "data": {
            "text/plain": [
              "LinearRegression()"
            ]
          },
          "execution_count": 14,
          "metadata": {},
          "output_type": "execute_result"
        }
      ],
      "source": [
        "lr_MCS.fit(xtrain_Mobile_Cellular_sub,ytrain_Mobile_Cellular_sub)"
      ]
    },
    {
      "cell_type": "code",
      "execution_count": null,
      "metadata": {
        "id": "hqyh2uYZOWSL"
      },
      "outputs": [],
      "source": [
        "xtest_Mobile_Cellular_sub = test_data_Mobile_Cellular_sub[['search_interest','central_bankers_speech_stance_index','Financial_Development_Index','Trade (% of GDP)','GDP(USD)','VoiceandAccountability','GovernmentEffectiveness','Broadband_Subscribsions(per100people)','Innovation_Score','Account_Ownership','Secure_Internet_Servers','Trade_Openness','Access_to_Electricity','Individual_Internet_Users','Regulatory quality','Population ages 65 and above (% of total population)']]"
      ]
    },
    {
      "cell_type": "code",
      "execution_count": null,
      "metadata": {
        "id": "BqGI-4AZOlpC"
      },
      "outputs": [],
      "source": [
        "ypred_Mobile_Cellular_sub = lr_MCS.predict(xtest_Mobile_Cellular_sub)"
      ]
    },
    {
      "cell_type": "code",
      "execution_count": null,
      "metadata": {
        "colab": {
          "base_uri": "https://localhost:8080/"
        },
        "id": "o2-47lvBOx0g",
        "outputId": "a282be6c-d865-414f-e348-df58e8256861"
      },
      "outputs": [
        {
          "data": {
            "text/plain": [
              "array([ 98.12232679, 104.97053423, 103.09699856,  98.03734825])"
            ]
          },
          "execution_count": 17,
          "metadata": {},
          "output_type": "execute_result"
        }
      ],
      "source": [
        "ypred_Mobile_Cellular_sub"
      ]
    },
    {
      "cell_type": "markdown",
      "metadata": {
        "id": "nwbOE_83U9iZ"
      },
      "source": [
        "**Filling missing values of Remittances to GDP**"
      ]
    },
    {
      "cell_type": "code",
      "execution_count": null,
      "metadata": {
        "id": "pfH9n1mlXY9n"
      },
      "outputs": [],
      "source": [
        "df_Remittances_to_GDP = df.drop(['ISO2','country_name','project_score_overall','project_score_retail','project_score_wholesale','search_interest_normalized','central_bankers_speech_stance_index_normalized'], axis=1)"
      ]
    },
    {
      "cell_type": "code",
      "execution_count": null,
      "metadata": {
        "id": "2uE4oBKp1m6c"
      },
      "outputs": [],
      "source": [
        "test_data_Remittances_to_GDP = df_Remittances_to_GDP[df_Remittances_to_GDP['Remittances_to_GDP'].isnull()]"
      ]
    },
    {
      "cell_type": "code",
      "execution_count": null,
      "metadata": {
        "colab": {
          "base_uri": "https://localhost:8080/"
        },
        "id": "aWPv4AhE1zWM",
        "outputId": "07292df9-e580-4087-ef17-da1a4c78d835"
      },
      "outputs": [
        {
          "name": "stderr",
          "output_type": "stream",
          "text": [
            "/usr/local/lib/python3.7/dist-packages/pandas/core/frame.py:3641: SettingWithCopyWarning: \n",
            "A value is trying to be set on a copy of a slice from a DataFrame.\n",
            "Try using .loc[row_indexer,col_indexer] = value instead\n",
            "\n",
            "See the caveats in the documentation: https://pandas.pydata.org/pandas-docs/stable/user_guide/indexing.html#returning-a-view-versus-a-copy\n",
            "  self[k1] = value[k2]\n"
          ]
        }
      ],
      "source": [
        "test_data_Remittances_to_GDP[['search_interest','central_bankers_speech_stance_index','Mobile_Cellular_sub','Financial_Development_Index','Trade (% of GDP)','GDP(USD)','VoiceandAccountability','GovernmentEffectiveness','Broadband_Subscribsions(per100people)','Innovation_Score','Account_Ownership','Secure_Internet_Servers','Trade_Openness','Access_to_Electricity','Individual_Internet_Users','Regulatory quality','Population ages 65 and above (% of total population)']] = test_data_Remittances_to_GDP[['search_interest','central_bankers_speech_stance_index','Mobile_Cellular_sub','Financial_Development_Index','Trade (% of GDP)','GDP(USD)','VoiceandAccountability','GovernmentEffectiveness','Broadband_Subscribsions(per100people)','Innovation_Score','Account_Ownership','Secure_Internet_Servers','Trade_Openness','Access_to_Electricity','Individual_Internet_Users','Regulatory quality','Population ages 65 and above (% of total population)']].fillna((test_data_Remittances_to_GDP[['search_interest','central_bankers_speech_stance_index','Mobile_Cellular_sub','Financial_Development_Index','Trade (% of GDP)','GDP(USD)','VoiceandAccountability','GovernmentEffectiveness','Broadband_Subscribsions(per100people)','Innovation_Score','Account_Ownership','Secure_Internet_Servers','Trade_Openness','Access_to_Electricity','Individual_Internet_Users','Regulatory quality','Population ages 65 and above (% of total population)']].mean()))"
      ]
    },
    {
      "cell_type": "code",
      "execution_count": null,
      "metadata": {
        "id": "NIS7uRb02b0H"
      },
      "outputs": [],
      "source": [
        "df_Remittances_to_GDP.dropna(inplace=True)"
      ]
    },
    {
      "cell_type": "code",
      "execution_count": null,
      "metadata": {
        "id": "db2m5khf2iTs"
      },
      "outputs": [],
      "source": [
        "xtrain_Remittances_to_GDP = df_Remittances_to_GDP.drop('Remittances_to_GDP',axis=1)"
      ]
    },
    {
      "cell_type": "code",
      "execution_count": null,
      "metadata": {
        "id": "9hK0nmBZ2pwh"
      },
      "outputs": [],
      "source": [
        "ytrain_Remittances_to_GDP = df_Remittances_to_GDP['Remittances_to_GDP']"
      ]
    },
    {
      "cell_type": "code",
      "execution_count": null,
      "metadata": {
        "id": "Fyt9UBKR2y0k"
      },
      "outputs": [],
      "source": [
        "from sklearn.linear_model import LinearRegression\n",
        "lr_RTG = LinearRegression()"
      ]
    },
    {
      "cell_type": "code",
      "execution_count": null,
      "metadata": {
        "colab": {
          "base_uri": "https://localhost:8080/"
        },
        "id": "FFVLTASh27jD",
        "outputId": "677f9d22-c2c4-40f0-aa1b-5c0c5702d08e"
      },
      "outputs": [
        {
          "data": {
            "text/plain": [
              "LinearRegression()"
            ]
          },
          "execution_count": 12,
          "metadata": {},
          "output_type": "execute_result"
        }
      ],
      "source": [
        "lr_RTG.fit(xtrain_Remittances_to_GDP,ytrain_Remittances_to_GDP)"
      ]
    },
    {
      "cell_type": "code",
      "execution_count": null,
      "metadata": {
        "id": "rrUuZqPW3Ju9"
      },
      "outputs": [],
      "source": [
        "xtest_Remittances_to_GDP = test_data_Remittances_to_GDP[['search_interest','central_bankers_speech_stance_index','Mobile_Cellular_sub','Financial_Development_Index','Trade (% of GDP)','GDP(USD)','VoiceandAccountability','GovernmentEffectiveness','Broadband_Subscribsions(per100people)','Innovation_Score','Account_Ownership','Secure_Internet_Servers','Trade_Openness','Access_to_Electricity','Individual_Internet_Users','Regulatory quality','Population ages 65 and above (% of total population)']]"
      ]
    },
    {
      "cell_type": "code",
      "execution_count": null,
      "metadata": {
        "id": "HtqYwHCe3adU"
      },
      "outputs": [],
      "source": [
        "ypred_Broadband_Subscribsions = lr_RTG.predict(xtest_Remittances_to_GDP)"
      ]
    },
    {
      "cell_type": "code",
      "execution_count": null,
      "metadata": {
        "colab": {
          "base_uri": "https://localhost:8080/"
        },
        "id": "gKMgYJQQ3lgl",
        "outputId": "cac39155-7175-41d5-e1fd-4a6e302ddc2a"
      },
      "outputs": [
        {
          "data": {
            "text/plain": [
              "array([-6.37744052,  1.93698047,  2.79726311,  6.24500925,  5.99449248,\n",
              "       10.13842195, -5.08893516,  8.17152246,  5.37661894])"
            ]
          },
          "execution_count": 15,
          "metadata": {},
          "output_type": "execute_result"
        }
      ],
      "source": [
        "ypred_Broadband_Subscribsions"
      ]
    },
    {
      "cell_type": "markdown",
      "metadata": {
        "id": "L9gQ0cCDzyeh"
      },
      "source": [
        "**Filling missing values of Broadband_Subscribsions(per100people)**"
      ]
    },
    {
      "cell_type": "code",
      "execution_count": null,
      "metadata": {
        "id": "ugEu-dU80Zcs"
      },
      "outputs": [],
      "source": [
        "df_Broadband_Subscribsions = df.drop(['ISO2','country_name','project_score_overall','project_score_retail','project_score_wholesale','search_interest_normalized','central_bankers_speech_stance_index_normalized'], axis=1)"
      ]
    },
    {
      "cell_type": "code",
      "execution_count": null,
      "metadata": {
        "id": "3bROnqT-0z7A"
      },
      "outputs": [],
      "source": [
        "test_data_Broadband_Subscribsions = df_Broadband_Subscribsions[df_Broadband_Subscribsions['Broadband_Subscribsions(per100people)'].isnull()]"
      ]
    },
    {
      "cell_type": "code",
      "execution_count": null,
      "metadata": {
        "colab": {
          "base_uri": "https://localhost:8080/"
        },
        "id": "cqyTL_W41BTD",
        "outputId": "7bf77b84-79f2-42d5-d885-93a1d2c66a45"
      },
      "outputs": [
        {
          "name": "stderr",
          "output_type": "stream",
          "text": [
            "/usr/local/lib/python3.7/dist-packages/pandas/core/frame.py:3641: SettingWithCopyWarning: \n",
            "A value is trying to be set on a copy of a slice from a DataFrame.\n",
            "Try using .loc[row_indexer,col_indexer] = value instead\n",
            "\n",
            "See the caveats in the documentation: https://pandas.pydata.org/pandas-docs/stable/user_guide/indexing.html#returning-a-view-versus-a-copy\n",
            "  self[k1] = value[k2]\n"
          ]
        }
      ],
      "source": [
        "test_data_Broadband_Subscribsions[['search_interest','central_bankers_speech_stance_index','Mobile_Cellular_sub','Financial_Development_Index','Trade (% of GDP)','GDP(USD)','VoiceandAccountability','GovernmentEffectiveness','Innovation_Score','Account_Ownership','Secure_Internet_Servers','Trade_Openness','Access_to_Electricity','Individual_Internet_Users','Regulatory quality','Population ages 65 and above (% of total population)']] = test_data_Broadband_Subscribsions[['search_interest','central_bankers_speech_stance_index','Mobile_Cellular_sub','Financial_Development_Index','Trade (% of GDP)','GDP(USD)','VoiceandAccountability','GovernmentEffectiveness','Innovation_Score','Account_Ownership','Secure_Internet_Servers','Trade_Openness','Access_to_Electricity','Individual_Internet_Users','Regulatory quality','Population ages 65 and above (% of total population)']].fillna((test_data_Broadband_Subscribsions[['search_interest','central_bankers_speech_stance_index','Mobile_Cellular_sub','Financial_Development_Index','Trade (% of GDP)','GDP(USD)','VoiceandAccountability','GovernmentEffectiveness','Innovation_Score','Account_Ownership','Secure_Internet_Servers','Trade_Openness','Access_to_Electricity','Individual_Internet_Users','Regulatory quality','Population ages 65 and above (% of total population)']].mean()))"
      ]
    },
    {
      "cell_type": "code",
      "execution_count": null,
      "metadata": {
        "id": "7SzHNAkE7sNL"
      },
      "outputs": [],
      "source": [
        "df_Broadband_Subscribsions.dropna(inplace=True)"
      ]
    },
    {
      "cell_type": "code",
      "execution_count": null,
      "metadata": {
        "id": "5s1D0p-77yIO"
      },
      "outputs": [],
      "source": [
        "xtrain_Broadband_Subscribsions = df_Broadband_Subscribsions.drop('Broadband_Subscribsions(per100people)',axis=1)"
      ]
    },
    {
      "cell_type": "code",
      "execution_count": null,
      "metadata": {
        "id": "DvjYZOAZ79-a"
      },
      "outputs": [],
      "source": [
        "ytrain_Broadband_Subscribsions = df_Broadband_Subscribsions['Broadband_Subscribsions(per100people)']"
      ]
    },
    {
      "cell_type": "code",
      "execution_count": null,
      "metadata": {
        "id": "dsT5txvn8HlH"
      },
      "outputs": [],
      "source": [
        "from sklearn.linear_model import LinearRegression\n",
        "lr_BS = LinearRegression()"
      ]
    },
    {
      "cell_type": "code",
      "execution_count": null,
      "metadata": {
        "colab": {
          "base_uri": "https://localhost:8080/"
        },
        "id": "b07M5G4U8L0d",
        "outputId": "01b42577-eea3-4857-a92a-ed7408e57f97"
      },
      "outputs": [
        {
          "data": {
            "text/plain": [
              "LinearRegression()"
            ]
          },
          "execution_count": 12,
          "metadata": {},
          "output_type": "execute_result"
        }
      ],
      "source": [
        "lr_BS.fit(xtrain_Broadband_Subscribsions,ytrain_Broadband_Subscribsions)"
      ]
    },
    {
      "cell_type": "code",
      "execution_count": null,
      "metadata": {
        "id": "ruSVSSKU8W7L"
      },
      "outputs": [],
      "source": [
        "xtest_Broadband_Subscribsions = test_data_Broadband_Subscribsions[['search_interest','central_bankers_speech_stance_index','Mobile_Cellular_sub','Financial_Development_Index','Trade (% of GDP)','GDP(USD)','VoiceandAccountability','GovernmentEffectiveness','Innovation_Score','Account_Ownership','Secure_Internet_Servers','Trade_Openness','Access_to_Electricity','Individual_Internet_Users','Regulatory quality','Population ages 65 and above (% of total population)']]"
      ]
    },
    {
      "cell_type": "code",
      "execution_count": null,
      "metadata": {
        "id": "dHMsxfOD8jgw"
      },
      "outputs": [],
      "source": [
        "ypred_Broadband_Subscribsions = lr_BS.predict(xtest_Broadband_Subscribsions)"
      ]
    },
    {
      "cell_type": "code",
      "execution_count": null,
      "metadata": {
        "colab": {
          "base_uri": "https://localhost:8080/"
        },
        "id": "a2X1YwVA8rBt",
        "outputId": "718d4275-bb51-42b7-b44c-754562fcffab"
      },
      "outputs": [
        {
          "name": "stdout",
          "output_type": "stream",
          "text": [
            "[ 7.16114709  6.80718565  9.67597704  9.60907195 -0.01593509  6.64650703]\n"
          ]
        }
      ],
      "source": [
        "print(ypred_Broadband_Subscribsions)"
      ]
    },
    {
      "cell_type": "markdown",
      "metadata": {
        "id": "UUzrLfmvukb1"
      },
      "source": [
        "**Filling missing values of Project score overall**"
      ]
    },
    {
      "cell_type": "code",
      "execution_count": null,
      "metadata": {
        "id": "Kg8SvIsAuxNg"
      },
      "outputs": [],
      "source": [
        "df_project_score_overall = df.drop(['ISO2','country_name','project_score_retail','project_score_wholesale','search_interest_normalized','central_bankers_speech_stance_index_normalized'], axis=1)"
      ]
    },
    {
      "cell_type": "code",
      "execution_count": null,
      "metadata": {
        "id": "HvRQsyvYu83Y"
      },
      "outputs": [],
      "source": [
        "test_data_project_score_overall = df_project_score_overall[df_project_score_overall['project_score_overall'].isnull()]"
      ]
    },
    {
      "cell_type": "code",
      "execution_count": null,
      "metadata": {
        "colab": {
          "base_uri": "https://localhost:8080/"
        },
        "id": "-2EmgQXUvHx_",
        "outputId": "2791dfa5-a4a3-4808-fbd2-22c23ce88ea9"
      },
      "outputs": [
        {
          "name": "stderr",
          "output_type": "stream",
          "text": [
            "/usr/local/lib/python3.7/dist-packages/pandas/core/frame.py:3641: SettingWithCopyWarning: \n",
            "A value is trying to be set on a copy of a slice from a DataFrame.\n",
            "Try using .loc[row_indexer,col_indexer] = value instead\n",
            "\n",
            "See the caveats in the documentation: https://pandas.pydata.org/pandas-docs/stable/user_guide/indexing.html#returning-a-view-versus-a-copy\n",
            "  self[k1] = value[k2]\n"
          ]
        }
      ],
      "source": [
        "test_data_project_score_overall[['search_interest','central_bankers_speech_stance_index','Mobile_Cellular_sub','Financial_Development_Index','Trade (% of GDP)','GDP(USD)','VoiceandAccountability','GovernmentEffectiveness','Broadband_Subscribsions(per100people)','Innovation_Score','Account_Ownership','Secure_Internet_Servers','Trade_Openness','Access_to_Electricity','Individual_Internet_Users','Regulatory quality','Population ages 65 and above (% of total population)']] = test_data_project_score_overall[['search_interest','central_bankers_speech_stance_index','Mobile_Cellular_sub','Financial_Development_Index','Trade (% of GDP)','GDP(USD)','VoiceandAccountability','GovernmentEffectiveness','Broadband_Subscribsions(per100people)','Innovation_Score','Account_Ownership','Secure_Internet_Servers','Trade_Openness','Access_to_Electricity','Individual_Internet_Users','Regulatory quality','Population ages 65 and above (% of total population)']].fillna((test_data_project_score_overall[['search_interest','central_bankers_speech_stance_index','Mobile_Cellular_sub','Financial_Development_Index','Trade (% of GDP)','GDP(USD)','VoiceandAccountability','GovernmentEffectiveness','Broadband_Subscribsions(per100people)','Innovation_Score','Account_Ownership','Secure_Internet_Servers','Trade_Openness','Access_to_Electricity','Individual_Internet_Users','Regulatory quality','Population ages 65 and above (% of total population)']].mean()))"
      ]
    },
    {
      "cell_type": "code",
      "execution_count": null,
      "metadata": {
        "id": "e6ZeAmlOv7_c"
      },
      "outputs": [],
      "source": [
        "df_project_score_overall.dropna(inplace=True)"
      ]
    },
    {
      "cell_type": "code",
      "execution_count": null,
      "metadata": {
        "id": "VmPbRO0pwBQX"
      },
      "outputs": [],
      "source": [
        "xtrain_project_score_overall = df_project_score_overall.drop('project_score_overall',axis=1)"
      ]
    },
    {
      "cell_type": "code",
      "execution_count": null,
      "metadata": {
        "id": "IpWp4HfFwINH"
      },
      "outputs": [],
      "source": [
        "ytrain_project_score_overall = df_project_score_overall['project_score_overall']"
      ]
    },
    {
      "cell_type": "code",
      "execution_count": null,
      "metadata": {
        "id": "_ySqXbxlwPpc"
      },
      "outputs": [],
      "source": [
        "from sklearn.linear_model import LinearRegression\n",
        "lr_PO = LinearRegression()"
      ]
    },
    {
      "cell_type": "code",
      "execution_count": null,
      "metadata": {
        "colab": {
          "base_uri": "https://localhost:8080/"
        },
        "id": "ZygpfUl7wUil",
        "outputId": "9c2299a1-3d94-40b1-f6cc-c36661575b1e"
      },
      "outputs": [
        {
          "data": {
            "text/plain": [
              "LinearRegression()"
            ]
          },
          "execution_count": 12,
          "metadata": {},
          "output_type": "execute_result"
        }
      ],
      "source": [
        "lr_PO.fit(xtrain_project_score_overall,ytrain_project_score_overall)"
      ]
    },
    {
      "cell_type": "code",
      "execution_count": null,
      "metadata": {
        "id": "r15i_D09wef2"
      },
      "outputs": [],
      "source": [
        "xtest_project_score_overall = test_data_project_score_overall[['search_interest','central_bankers_speech_stance_index','Mobile_Cellular_sub','Financial_Development_Index','Trade (% of GDP)','GDP(USD)','VoiceandAccountability','GovernmentEffectiveness','Broadband_Subscribsions(per100people)','Innovation_Score','Account_Ownership','Secure_Internet_Servers','Trade_Openness','Access_to_Electricity','Individual_Internet_Users','Regulatory quality','Population ages 65 and above (% of total population)']]"
      ]
    },
    {
      "cell_type": "code",
      "execution_count": null,
      "metadata": {
        "id": "YDHjmQm7w6v5"
      },
      "outputs": [],
      "source": [
        "ypred_project_score_overall = lr_PO.predict(xtest_project_score_overall)"
      ]
    },
    {
      "cell_type": "code",
      "execution_count": null,
      "metadata": {
        "colab": {
          "base_uri": "https://localhost:8080/"
        },
        "id": "Pf-NjzWZxGCH",
        "outputId": "c3ba8c56-4cba-4f4b-b534-0b673511b720"
      },
      "outputs": [
        {
          "data": {
            "text/plain": [
              "array([0.290382  , 0.37582156])"
            ]
          },
          "execution_count": 15,
          "metadata": {},
          "output_type": "execute_result"
        }
      ],
      "source": [
        "ypred_project_score_overall"
      ]
    },
    {
      "cell_type": "markdown",
      "metadata": {
        "id": "rtogeLkjLzN4"
      },
      "source": [
        "**Filling missing values of VoiceandAccountability**"
      ]
    },
    {
      "cell_type": "code",
      "execution_count": null,
      "metadata": {
        "id": "7x0JaCXvMfwH"
      },
      "outputs": [],
      "source": [
        "df_VoiceandAccountability = df.drop(['ISO2','country_name','project_score_overall','project_score_retail','project_score_wholesale','search_interest_normalized','central_bankers_speech_stance_index_normalized'], axis=1)"
      ]
    },
    {
      "cell_type": "code",
      "execution_count": null,
      "metadata": {
        "id": "4qCHrlE-M3R5"
      },
      "outputs": [],
      "source": [
        "test_data_VoiceandAccountability = df_VoiceandAccountability[df_VoiceandAccountability['VoiceandAccountability'].isnull()]"
      ]
    },
    {
      "cell_type": "code",
      "execution_count": null,
      "metadata": {
        "colab": {
          "base_uri": "https://localhost:8080/"
        },
        "id": "LVyf0JnkNCUO",
        "outputId": "f0e3f07c-d43c-4dd6-8808-f071ea08713e"
      },
      "outputs": [
        {
          "name": "stderr",
          "output_type": "stream",
          "text": [
            "/usr/local/lib/python3.7/dist-packages/pandas/core/frame.py:3641: SettingWithCopyWarning: \n",
            "A value is trying to be set on a copy of a slice from a DataFrame.\n",
            "Try using .loc[row_indexer,col_indexer] = value instead\n",
            "\n",
            "See the caveats in the documentation: https://pandas.pydata.org/pandas-docs/stable/user_guide/indexing.html#returning-a-view-versus-a-copy\n",
            "  self[k1] = value[k2]\n"
          ]
        }
      ],
      "source": [
        "test_data_VoiceandAccountability[['search_interest','central_bankers_speech_stance_index','Mobile_Cellular_sub','Financial_Development_Index','Trade (% of GDP)','GDP(USD)','GovernmentEffectiveness','Broadband_Subscribsions(per100people)','Innovation_Score','Account_Ownership','Secure_Internet_Servers','Trade_Openness','Access_to_Electricity','Individual_Internet_Users','Regulatory quality','Population ages 65 and above (% of total population)']] = test_data_VoiceandAccountability[['search_interest','central_bankers_speech_stance_index','Mobile_Cellular_sub','Financial_Development_Index','Trade (% of GDP)','GDP(USD)','GovernmentEffectiveness','Broadband_Subscribsions(per100people)','Innovation_Score','Account_Ownership','Secure_Internet_Servers','Trade_Openness','Access_to_Electricity','Individual_Internet_Users','Regulatory quality','Population ages 65 and above (% of total population)']].fillna((test_data_VoiceandAccountability[['search_interest','central_bankers_speech_stance_index','Mobile_Cellular_sub','Financial_Development_Index','Trade (% of GDP)','GDP(USD)','GovernmentEffectiveness','Broadband_Subscribsions(per100people)','Innovation_Score','Account_Ownership','Secure_Internet_Servers','Trade_Openness','Access_to_Electricity','Individual_Internet_Users','Regulatory quality','Population ages 65 and above (% of total population)']].mean()))"
      ]
    },
    {
      "cell_type": "code",
      "execution_count": null,
      "metadata": {
        "id": "ggtTxM_LOFif"
      },
      "outputs": [],
      "source": [
        "df_VoiceandAccountability.dropna(inplace=True)"
      ]
    },
    {
      "cell_type": "code",
      "execution_count": null,
      "metadata": {
        "id": "qMmXH3d7OLmD"
      },
      "outputs": [],
      "source": [
        "xtrain_VoiceandAccountability = df_VoiceandAccountability.drop('VoiceandAccountability',axis=1)"
      ]
    },
    {
      "cell_type": "code",
      "execution_count": null,
      "metadata": {
        "id": "90O88XVrOV30"
      },
      "outputs": [],
      "source": [
        "ytrain_VoiceandAccountability = df_VoiceandAccountability['VoiceandAccountability']"
      ]
    },
    {
      "cell_type": "code",
      "execution_count": null,
      "metadata": {
        "id": "oqZkpCZOZFhE"
      },
      "outputs": [],
      "source": [
        "from sklearn.linear_model import LinearRegression\n",
        "lr_VA = LinearRegression()"
      ]
    },
    {
      "cell_type": "code",
      "execution_count": null,
      "metadata": {
        "colab": {
          "base_uri": "https://localhost:8080/"
        },
        "id": "HMulF_SOZKOE",
        "outputId": "0529f3d5-253d-4042-a4dd-5f06dfc71d67"
      },
      "outputs": [
        {
          "data": {
            "text/plain": [
              "LinearRegression()"
            ]
          },
          "execution_count": 13,
          "metadata": {},
          "output_type": "execute_result"
        }
      ],
      "source": [
        "lr_VA.fit(xtrain_VoiceandAccountability,ytrain_VoiceandAccountability )"
      ]
    },
    {
      "cell_type": "code",
      "execution_count": null,
      "metadata": {
        "id": "97QTo-O3ZVbd"
      },
      "outputs": [],
      "source": [
        "xtest_VoiceandAccountability = test_data_VoiceandAccountability[['search_interest','central_bankers_speech_stance_index','Mobile_Cellular_sub','Financial_Development_Index','Trade (% of GDP)','GDP(USD)','GovernmentEffectiveness','Broadband_Subscribsions(per100people)','Innovation_Score','Account_Ownership','Secure_Internet_Servers','Trade_Openness','Access_to_Electricity','Individual_Internet_Users','Regulatory quality','Population ages 65 and above (% of total population)']]"
      ]
    },
    {
      "cell_type": "code",
      "execution_count": null,
      "metadata": {
        "id": "aEwUNNFpZyYp"
      },
      "outputs": [],
      "source": [
        "print(xtest_VoiceandAccountability)"
      ]
    },
    {
      "cell_type": "code",
      "execution_count": null,
      "metadata": {
        "id": "brblmT2DZlZD"
      },
      "outputs": [],
      "source": [
        "ypred_VoiceandAccountability = lr_VA.predict(xtest_VoiceandAccountability)"
      ]
    },
    {
      "cell_type": "code",
      "execution_count": null,
      "metadata": {
        "colab": {
          "base_uri": "https://localhost:8080/"
        },
        "id": "exmOpq51Z-G4",
        "outputId": "bb02e953-daee-4e18-da61-9b328342dace"
      },
      "outputs": [
        {
          "data": {
            "text/plain": [
              "array([0.82881337, 1.16054252, 1.19953404, 1.44499994, 1.28172091,\n",
              "       1.46283921])"
            ]
          },
          "execution_count": 16,
          "metadata": {},
          "output_type": "execute_result"
        }
      ],
      "source": [
        "ypred_VoiceandAccountability"
      ]
    },
    {
      "cell_type": "markdown",
      "metadata": {
        "id": "21wVur6A8tQc"
      },
      "source": [
        "**Filling missing values of Trade_Openness**"
      ]
    },
    {
      "cell_type": "code",
      "execution_count": null,
      "metadata": {
        "id": "gYRBGZG-93xP"
      },
      "outputs": [],
      "source": [
        "df_Trade_Openness = df.drop(['ISO2','country_name','project_score_overall','project_score_retail','project_score_wholesale','search_interest_normalized','central_bankers_speech_stance_index_normalized'], axis=1)"
      ]
    },
    {
      "cell_type": "code",
      "execution_count": null,
      "metadata": {
        "id": "hrL0pmD0AHeC"
      },
      "outputs": [],
      "source": [
        "test_data_Trade_Openness = df_Trade_Openness[df_Trade_Openness['Trade_Openness'].isnull()]"
      ]
    },
    {
      "cell_type": "code",
      "execution_count": null,
      "metadata": {
        "colab": {
          "base_uri": "https://localhost:8080/"
        },
        "id": "wpxLY31RBJxh",
        "outputId": "f87b3663-d6d7-42ef-86bf-1e119cce7e99"
      },
      "outputs": [
        {
          "name": "stderr",
          "output_type": "stream",
          "text": [
            "/usr/local/lib/python3.7/dist-packages/pandas/core/frame.py:3641: SettingWithCopyWarning: \n",
            "A value is trying to be set on a copy of a slice from a DataFrame.\n",
            "Try using .loc[row_indexer,col_indexer] = value instead\n",
            "\n",
            "See the caveats in the documentation: https://pandas.pydata.org/pandas-docs/stable/user_guide/indexing.html#returning-a-view-versus-a-copy\n",
            "  self[k1] = value[k2]\n"
          ]
        }
      ],
      "source": [
        "test_data_Trade_Openness[['search_interest','central_bankers_speech_stance_index','Mobile_Cellular_sub','Financial_Development_Index','Trade (% of GDP)','GDP(USD)','VoiceandAccountability','GovernmentEffectiveness','Broadband_Subscribsions(per100people)','Innovation_Score','Account_Ownership','Secure_Internet_Servers','Access_to_Electricity','Individual_Internet_Users','Regulatory quality','Population ages 65 and above (% of total population)']] = test_data_Trade_Openness[['search_interest','central_bankers_speech_stance_index','Mobile_Cellular_sub','Financial_Development_Index','Trade (% of GDP)','GDP(USD)','VoiceandAccountability','GovernmentEffectiveness','Broadband_Subscribsions(per100people)','Innovation_Score','Account_Ownership','Secure_Internet_Servers','Access_to_Electricity','Individual_Internet_Users','Regulatory quality','Population ages 65 and above (% of total population)']].fillna((test_data_Trade_Openness[['search_interest','central_bankers_speech_stance_index','Mobile_Cellular_sub','Financial_Development_Index','Trade (% of GDP)','GDP(USD)','VoiceandAccountability','GovernmentEffectiveness','Broadband_Subscribsions(per100people)','Innovation_Score','Account_Ownership','Secure_Internet_Servers','Access_to_Electricity','Individual_Internet_Users','Regulatory quality','Population ages 65 and above (% of total population)']].mean()))"
      ]
    },
    {
      "cell_type": "code",
      "execution_count": null,
      "metadata": {
        "id": "utgW12sWI5hp"
      },
      "outputs": [],
      "source": [
        "df_Trade_Openness.dropna(inplace=True)"
      ]
    },
    {
      "cell_type": "code",
      "execution_count": null,
      "metadata": {
        "id": "gFxi6G1_JCSW"
      },
      "outputs": [],
      "source": [
        "xtrain_Trade_Openness = df_Trade_Openness.drop('Trade_Openness',axis=1)"
      ]
    },
    {
      "cell_type": "code",
      "execution_count": null,
      "metadata": {
        "id": "ZJzA929GJNCe"
      },
      "outputs": [],
      "source": [
        "ytrain_Trade_Openness = df_Trade_Openness['Trade_Openness']"
      ]
    },
    {
      "cell_type": "code",
      "execution_count": null,
      "metadata": {
        "id": "lZozKWxcJV-O"
      },
      "outputs": [],
      "source": [
        "from sklearn.linear_model import LinearRegression\n",
        "lr_Trade_Openness = LinearRegression()"
      ]
    },
    {
      "cell_type": "code",
      "execution_count": null,
      "metadata": {
        "colab": {
          "base_uri": "https://localhost:8080/"
        },
        "id": "5M9E6EcaJWGg",
        "outputId": "73f481e3-4445-45c0-f980-00531c992c38"
      },
      "outputs": [
        {
          "data": {
            "text/plain": [
              "LinearRegression()"
            ]
          },
          "execution_count": 12,
          "metadata": {},
          "output_type": "execute_result"
        }
      ],
      "source": [
        "lr_Trade_Openness.fit(xtrain_Trade_Openness,ytrain_Trade_Openness )"
      ]
    },
    {
      "cell_type": "code",
      "execution_count": null,
      "metadata": {
        "id": "KTp801VXJnLY"
      },
      "outputs": [],
      "source": [
        "xtest_Trade_Openness = test_data_Trade_Openness[['search_interest','central_bankers_speech_stance_index','Mobile_Cellular_sub','Financial_Development_Index','Trade (% of GDP)','GDP(USD)','VoiceandAccountability','GovernmentEffectiveness','Broadband_Subscribsions(per100people)','Innovation_Score','Account_Ownership','Secure_Internet_Servers','Access_to_Electricity','Individual_Internet_Users','Regulatory quality','Population ages 65 and above (% of total population)']]"
      ]
    },
    {
      "cell_type": "code",
      "execution_count": null,
      "metadata": {
        "id": "HR5rNmliJ-t6"
      },
      "outputs": [],
      "source": [
        "ypred_Trade_Openness = lr_Trade_Openness.predict(xtest_Trade_Openness)"
      ]
    },
    {
      "cell_type": "code",
      "execution_count": null,
      "metadata": {
        "colab": {
          "base_uri": "https://localhost:8080/"
        },
        "id": "mnThYVj4KIuW",
        "outputId": "8f1c71dd-94f0-4670-824e-5be2b932ca20"
      },
      "outputs": [
        {
          "data": {
            "text/plain": [
              "array([ 98.41259548,  97.98142083,  99.82902942,  82.89526896,\n",
              "        90.47970388, 146.1819324 ])"
            ]
          },
          "execution_count": 15,
          "metadata": {},
          "output_type": "execute_result"
        }
      ],
      "source": [
        "ypred_Trade_Openness"
      ]
    },
    {
      "cell_type": "markdown",
      "metadata": {
        "id": "9I4MdhpMZAj7"
      },
      "source": [
        "***Filling missing values of Trade (% of GDP) ***"
      ]
    },
    {
      "cell_type": "code",
      "execution_count": null,
      "metadata": {
        "id": "V4FbVKjEZM-h"
      },
      "outputs": [],
      "source": [
        "df_Trade = df.drop(['ISO2','country_name','project_score_overall','project_score_retail','project_score_wholesale','search_interest_normalized','central_bankers_speech_stance_index_normalized'], axis=1)"
      ]
    },
    {
      "cell_type": "code",
      "execution_count": null,
      "metadata": {
        "id": "DS9sCrdjZg17"
      },
      "outputs": [],
      "source": [
        "test_data_Trade = df_Trade[df_Trade['Trade (% of GDP)'].isnull()]"
      ]
    },
    {
      "cell_type": "code",
      "execution_count": null,
      "metadata": {
        "id": "CveA6JVQZtKJ"
      },
      "outputs": [],
      "source": [
        "test_data_Trade[['search_interest','central_bankers_speech_stance_index','Mobile_Cellular_sub','Financial_Development_Index','GDP(USD)','VoiceandAccountability','GovernmentEffectiveness','Broadband_Subscribsions(per100people)','Innovation_Score','Account_Ownership','Secure_Internet_Servers','Trade_Openness','Access_to_Electricity','Individual_Internet_Users','Regulatory quality','Population ages 65 and above (% of total population)']] = test_data_Trade[['search_interest','central_bankers_speech_stance_index','Mobile_Cellular_sub','Financial_Development_Index','GDP(USD)','VoiceandAccountability','GovernmentEffectiveness','Broadband_Subscribsions(per100people)','Innovation_Score','Account_Ownership','Secure_Internet_Servers','Trade_Openness','Access_to_Electricity','Individual_Internet_Users','Regulatory quality','Population ages 65 and above (% of total population)']].fillna((test_data_Trade[['search_interest','central_bankers_speech_stance_index','Mobile_Cellular_sub','Financial_Development_Index','GDP(USD)','VoiceandAccountability','GovernmentEffectiveness','Broadband_Subscribsions(per100people)','Innovation_Score','Account_Ownership','Secure_Internet_Servers','Trade_Openness','Access_to_Electricity','Individual_Internet_Users','Regulatory quality','Population ages 65 and above (% of total population)']].mean()))"
      ]
    },
    {
      "cell_type": "code",
      "execution_count": null,
      "metadata": {
        "id": "pAoZdrHqabB7"
      },
      "outputs": [],
      "source": [
        "df_Trade.dropna(inplace=True)"
      ]
    },
    {
      "cell_type": "code",
      "execution_count": null,
      "metadata": {
        "id": "6gi2auwiag_q"
      },
      "outputs": [],
      "source": [
        "xtrain_Trade = df_Trade.drop('Trade (% of GDP)',axis=1)"
      ]
    },
    {
      "cell_type": "code",
      "execution_count": null,
      "metadata": {
        "id": "3-nqIOKbasd9"
      },
      "outputs": [],
      "source": [
        "ytrain_Trade = df_Trade['Trade (% of GDP)']"
      ]
    },
    {
      "cell_type": "code",
      "execution_count": null,
      "metadata": {
        "id": "6lpf1lJWa5Fj"
      },
      "outputs": [],
      "source": [
        "from sklearn.linear_model import LinearRegression\n",
        "lr_Trade= LinearRegression()"
      ]
    },
    {
      "cell_type": "code",
      "execution_count": null,
      "metadata": {
        "colab": {
          "base_uri": "https://localhost:8080/"
        },
        "id": "JvERUAM8bD_s",
        "outputId": "7693957f-7794-4762-c1d9-a54bb87ac917"
      },
      "outputs": [
        {
          "data": {
            "text/plain": [
              "LinearRegression()"
            ]
          },
          "execution_count": 13,
          "metadata": {},
          "output_type": "execute_result"
        }
      ],
      "source": [
        "lr_Trade.fit(xtrain_Trade,ytrain_Trade)"
      ]
    },
    {
      "cell_type": "code",
      "execution_count": null,
      "metadata": {
        "id": "Q4-SAPpobOvS"
      },
      "outputs": [],
      "source": [
        "xtest_Trade = test_data_Trade[['search_interest','central_bankers_speech_stance_index','Mobile_Cellular_sub','Financial_Development_Index','GDP(USD)','VoiceandAccountability','GovernmentEffectiveness','Broadband_Subscribsions(per100people)','Innovation_Score','Account_Ownership','Secure_Internet_Servers','Trade_Openness','Access_to_Electricity','Individual_Internet_Users','Regulatory quality','Population ages 65 and above (% of total population)']]"
      ]
    },
    {
      "cell_type": "code",
      "execution_count": null,
      "metadata": {
        "id": "oHUEJjb9blWT"
      },
      "outputs": [],
      "source": [
        "ypred_Trade = lr_Trade.predict(xtest_Trade)"
      ]
    },
    {
      "cell_type": "code",
      "execution_count": null,
      "metadata": {
        "id": "JKz3bUZUJC7H"
      },
      "outputs": [],
      "source": [
        "ypred_Trade"
      ]
    },
    {
      "cell_type": "code",
      "execution_count": null,
      "metadata": {
        "colab": {
          "base_uri": "https://localhost:8080/"
        },
        "id": "tbaTlKRkbvL0",
        "outputId": "971a3729-a7bf-431b-b25e-d301d0048a4f"
      },
      "outputs": [
        {
          "name": "stderr",
          "output_type": "stream",
          "text": [
            "/usr/local/lib/python3.7/dist-packages/ipykernel_launcher.py:1: SettingWithCopyWarning: \n",
            "A value is trying to be set on a copy of a slice from a DataFrame.\n",
            "Try using .loc[row_indexer,col_indexer] = value instead\n",
            "\n",
            "See the caveats in the documentation: https://pandas.pydata.org/pandas-docs/stable/user_guide/indexing.html#returning-a-view-versus-a-copy\n",
            "  \"\"\"Entry point for launching an IPython kernel.\n"
          ]
        }
      ],
      "source": [
        "test_data_Trade['ypred_Trade'] = ypred_Trade"
      ]
    },
    {
      "cell_type": "code",
      "execution_count": null,
      "metadata": {
        "id": "vq-y77gDb5cN"
      },
      "outputs": [],
      "source": [
        "test_data_Trade.to_csv(\"test_data_Trade.csv\", encoding='utf-8', index=False)"
      ]
    },
    {
      "cell_type": "markdown",
      "metadata": {
        "id": "FsC12o0gS-jR"
      },
      "source": [
        "**Filling missing values of Financial Development Index column with machine learning**"
      ]
    },
    {
      "cell_type": "code",
      "execution_count": null,
      "metadata": {
        "id": "dHGfRzr9TJmZ"
      },
      "outputs": [],
      "source": [
        "df_Financial_Development_Index = df.drop(['ISO2','country_name','project_score_overall','project_score_retail','project_score_wholesale','search_interest_normalized','central_bankers_speech_stance_index_normalized'], axis=1)"
      ]
    },
    {
      "cell_type": "code",
      "execution_count": null,
      "metadata": {
        "id": "5OckaQwvTSfn"
      },
      "outputs": [],
      "source": [
        "test_Financial_Development_Index= df_Financial_Development_Index[df_Financial_Development_Index['Financial_Development_Index'].isnull()]"
      ]
    },
    {
      "cell_type": "code",
      "execution_count": null,
      "metadata": {
        "colab": {
          "base_uri": "https://localhost:8080/"
        },
        "id": "Md6LRPT9TgBY",
        "outputId": "b34f1a09-f66c-4e92-8257-8653801283e2"
      },
      "outputs": [
        {
          "name": "stderr",
          "output_type": "stream",
          "text": [
            "/usr/local/lib/python3.7/dist-packages/pandas/core/frame.py:3641: SettingWithCopyWarning: \n",
            "A value is trying to be set on a copy of a slice from a DataFrame.\n",
            "Try using .loc[row_indexer,col_indexer] = value instead\n",
            "\n",
            "See the caveats in the documentation: https://pandas.pydata.org/pandas-docs/stable/user_guide/indexing.html#returning-a-view-versus-a-copy\n",
            "  self[k1] = value[k2]\n"
          ]
        }
      ],
      "source": [
        "test_Financial_Development_Index[['search_interest','central_bankers_speech_stance_index','Mobile_Cellular_sub','Trade (% of GDP)','GDP(USD)','VoiceandAccountability','GovernmentEffectiveness','Broadband_Subscribsions(per100people)','Innovation_Score','Account_Ownership','Secure_Internet_Servers','Trade_Openness','Access_to_Electricity','Individual_Internet_Users','Regulatory quality','Population ages 65 and above (% of total population)']] = test_Financial_Development_Index[['search_interest','central_bankers_speech_stance_index','Mobile_Cellular_sub','Trade (% of GDP)','GDP(USD)','VoiceandAccountability','GovernmentEffectiveness','Broadband_Subscribsions(per100people)','Innovation_Score','Account_Ownership','Secure_Internet_Servers','Trade_Openness','Access_to_Electricity','Individual_Internet_Users','Regulatory quality','Population ages 65 and above (% of total population)']].fillna((test_Financial_Development_Index[['search_interest','central_bankers_speech_stance_index','Mobile_Cellular_sub','Trade (% of GDP)','GDP(USD)','VoiceandAccountability','GovernmentEffectiveness','Broadband_Subscribsions(per100people)','Innovation_Score','Account_Ownership','Secure_Internet_Servers','Trade_Openness','Access_to_Electricity','Individual_Internet_Users','Regulatory quality','Population ages 65 and above (% of total population)']].mean()))"
      ]
    },
    {
      "cell_type": "code",
      "execution_count": null,
      "metadata": {
        "id": "b9zC_71OUNFB"
      },
      "outputs": [],
      "source": [
        "df_Financial_Development_Index.dropna(inplace=True)"
      ]
    },
    {
      "cell_type": "code",
      "execution_count": null,
      "metadata": {
        "id": "o4hsXXBtUTzP"
      },
      "outputs": [],
      "source": [
        "xtrain_Financial_Development_Index = df_Financial_Development_Index.drop('Financial_Development_Index',axis=1)"
      ]
    },
    {
      "cell_type": "code",
      "execution_count": null,
      "metadata": {
        "id": "Vod5VWr1Uct3"
      },
      "outputs": [],
      "source": [
        "ytrain_Financial_Development_Index = df_Financial_Development_Index['Financial_Development_Index']"
      ]
    },
    {
      "cell_type": "code",
      "execution_count": null,
      "metadata": {
        "id": "tgheu3b5Uk82"
      },
      "outputs": [],
      "source": [
        "from sklearn.linear_model import LinearRegression\n",
        "lr_FDI= LinearRegression()"
      ]
    },
    {
      "cell_type": "code",
      "execution_count": null,
      "metadata": {
        "colab": {
          "base_uri": "https://localhost:8080/"
        },
        "id": "Ffzhq5eIUnx1",
        "outputId": "09ff6723-3652-4ead-f433-4abbbf57789f"
      },
      "outputs": [
        {
          "data": {
            "text/plain": [
              "LinearRegression()"
            ]
          },
          "execution_count": 12,
          "metadata": {},
          "output_type": "execute_result"
        }
      ],
      "source": [
        "lr_FDI.fit(xtrain_Financial_Development_Index,ytrain_Financial_Development_Index)"
      ]
    },
    {
      "cell_type": "code",
      "execution_count": null,
      "metadata": {
        "id": "qbPAKn-dU1QW"
      },
      "outputs": [],
      "source": [
        "xtest_Financial_Development_Index = test_Financial_Development_Index[['search_interest','central_bankers_speech_stance_index','Mobile_Cellular_sub','Trade (% of GDP)','GDP(USD)','VoiceandAccountability','GovernmentEffectiveness','Broadband_Subscribsions(per100people)','Innovation_Score','Account_Ownership','Secure_Internet_Servers','Trade_Openness','Access_to_Electricity','Individual_Internet_Users','Regulatory quality','Population ages 65 and above (% of total population)']]"
      ]
    },
    {
      "cell_type": "code",
      "execution_count": null,
      "metadata": {
        "id": "X3dW398FVLB3"
      },
      "outputs": [],
      "source": [
        "ypred_Financial_Development_Index = lr_FDI.predict(xtest_Financial_Development_Index)"
      ]
    },
    {
      "cell_type": "code",
      "execution_count": null,
      "metadata": {
        "colab": {
          "base_uri": "https://localhost:8080/"
        },
        "id": "4q0Jca5DLU78",
        "outputId": "5d8b59ad-92e0-4b98-89af-6b31e6581c55"
      },
      "outputs": [
        {
          "data": {
            "text/plain": [
              "array([0.46182211, 0.01226048, 0.65019633, 0.30441643, 0.28594052,\n",
              "       0.51759897, 0.25968718, 0.34170039, 0.41859429, 0.35787264,\n",
              "       0.10450674, 0.2120352 , 0.53294204, 0.79626496, 0.65898581,\n",
              "       0.32157098, 0.17079506, 0.33149135, 0.19047859, 0.1919027 ,\n",
              "       0.20943829, 0.01937605, 0.1342105 , 0.38394752, 0.37948699,\n",
              "       0.16002203])"
            ]
          },
          "execution_count": 15,
          "metadata": {},
          "output_type": "execute_result"
        }
      ],
      "source": [
        "ypred_Financial_Development_Index"
      ]
    },
    {
      "cell_type": "code",
      "execution_count": null,
      "metadata": {
        "colab": {
          "base_uri": "https://localhost:8080/"
        },
        "id": "JTYnQoGXVTGO",
        "outputId": "ab6a6ca1-7e40-4025-f9d5-80d504e61c25"
      },
      "outputs": [
        {
          "name": "stderr",
          "output_type": "stream",
          "text": [
            "/usr/local/lib/python3.7/dist-packages/ipykernel_launcher.py:1: SettingWithCopyWarning: \n",
            "A value is trying to be set on a copy of a slice from a DataFrame.\n",
            "Try using .loc[row_indexer,col_indexer] = value instead\n",
            "\n",
            "See the caveats in the documentation: https://pandas.pydata.org/pandas-docs/stable/user_guide/indexing.html#returning-a-view-versus-a-copy\n",
            "  \"\"\"Entry point for launching an IPython kernel.\n"
          ]
        }
      ],
      "source": [
        "test_Financial_Development_Index['ypred_Financial_Development_Index'] = ypred_Financial_Development_Index"
      ]
    },
    {
      "cell_type": "code",
      "execution_count": null,
      "metadata": {
        "id": "7sr5RbYJVmsr"
      },
      "outputs": [],
      "source": [
        "test_Financial_Development_Index.to_csv(\"test_data_Financial_Development_Index.csv\", encoding='utf-8', index=False)"
      ]
    },
    {
      "cell_type": "code",
      "execution_count": null,
      "metadata": {
        "id": "piIGg9piv2Pt"
      },
      "outputs": [],
      "source": [
        "df.info()"
      ]
    },
    {
      "cell_type": "markdown",
      "metadata": {
        "id": "z9KMd4GA_o0E"
      },
      "source": [
        "**Filling missing values of Account ownership column with machine learning**"
      ]
    },
    {
      "cell_type": "code",
      "execution_count": null,
      "metadata": {
        "id": "Oyp39RS7_Rxj"
      },
      "outputs": [],
      "source": [
        "df_account_ownership = df.drop(['ISO2','country_name','project_score_overall','project_score_retail','project_score_wholesale','search_interest_normalized','central_bankers_speech_stance_index_normalized'], axis=1)"
      ]
    },
    {
      "cell_type": "code",
      "execution_count": null,
      "metadata": {
        "id": "HiO_Zftp-pe7"
      },
      "outputs": [],
      "source": [
        "test_data_account_ownership = df_account_ownership[df_account_ownership['Account_Ownership'].isnull()]"
      ]
    },
    {
      "cell_type": "code",
      "execution_count": null,
      "metadata": {
        "id": "eNj6gbXrX22Z"
      },
      "outputs": [],
      "source": [
        "print(test_data_account_ownership)"
      ]
    },
    {
      "cell_type": "code",
      "execution_count": null,
      "metadata": {
        "colab": {
          "base_uri": "https://localhost:8080/"
        },
        "id": "foqkoAf_HerB",
        "outputId": "31b4b50e-8303-42d9-8a1f-31e21e335063"
      },
      "outputs": [
        {
          "name": "stderr",
          "output_type": "stream",
          "text": [
            "/usr/local/lib/python3.7/dist-packages/pandas/core/frame.py:3641: SettingWithCopyWarning: \n",
            "A value is trying to be set on a copy of a slice from a DataFrame.\n",
            "Try using .loc[row_indexer,col_indexer] = value instead\n",
            "\n",
            "See the caveats in the documentation: https://pandas.pydata.org/pandas-docs/stable/user_guide/indexing.html#returning-a-view-versus-a-copy\n",
            "  self[k1] = value[k2]\n"
          ]
        }
      ],
      "source": [
        "test_data_account_ownership[['search_interest','central_bankers_speech_stance_index','Mobile_Cellular_sub','Financial_Development_Index','Trade (% of GDP)','GDP(USD)','VoiceandAccountability','GovernmentEffectiveness','Broadband_Subscribsions(per100people)','Innovation_Score','Secure_Internet_Servers','Trade_Openness','Access_to_Electricity','Individual_Internet_Users','Regulatory quality','Population ages 65 and above (% of total population)']] = test_data_account_ownership[['search_interest','central_bankers_speech_stance_index','Mobile_Cellular_sub','Financial_Development_Index','Trade (% of GDP)','GDP(USD)','VoiceandAccountability','GovernmentEffectiveness','Broadband_Subscribsions(per100people)','Innovation_Score','Secure_Internet_Servers','Trade_Openness','Access_to_Electricity','Individual_Internet_Users','Regulatory quality','Population ages 65 and above (% of total population)']].fillna((test_data_account_ownership[['search_interest','central_bankers_speech_stance_index','Mobile_Cellular_sub','Financial_Development_Index','Trade (% of GDP)','GDP(USD)','VoiceandAccountability','GovernmentEffectiveness','Broadband_Subscribsions(per100people)','Innovation_Score','Secure_Internet_Servers','Trade_Openness','Access_to_Electricity','Individual_Internet_Users','Regulatory quality','Population ages 65 and above (% of total population)']].mean()))"
      ]
    },
    {
      "cell_type": "code",
      "execution_count": null,
      "metadata": {
        "id": "hiscVkMDAI3p"
      },
      "outputs": [],
      "source": [
        "df_account_ownership.dropna(inplace=True)"
      ]
    },
    {
      "cell_type": "code",
      "execution_count": null,
      "metadata": {
        "id": "4qvyQyI1AaiR"
      },
      "outputs": [],
      "source": [
        "xtrain_account_ownership = df_account_ownership.drop('Account_Ownership',axis=1)"
      ]
    },
    {
      "cell_type": "code",
      "execution_count": null,
      "metadata": {
        "id": "7-xmNJenAvAb"
      },
      "outputs": [],
      "source": [
        "ytrain_account_ownership = df_account_ownership['Account_Ownership']"
      ]
    },
    {
      "cell_type": "code",
      "execution_count": null,
      "metadata": {
        "id": "sER7ZgEIA-lL"
      },
      "outputs": [],
      "source": [
        "from sklearn.linear_model import LinearRegression\n",
        "lr_ao = LinearRegression()"
      ]
    },
    {
      "cell_type": "code",
      "execution_count": null,
      "metadata": {
        "colab": {
          "base_uri": "https://localhost:8080/"
        },
        "id": "UlQRXGG3BcTK",
        "outputId": "a0a4ea63-fd0b-4ae7-b89a-a7470e3a9a5a"
      },
      "outputs": [
        {
          "data": {
            "text/plain": [
              "LinearRegression()"
            ]
          },
          "execution_count": 12,
          "metadata": {},
          "output_type": "execute_result"
        }
      ],
      "source": [
        "lr_ao.fit(xtrain_account_ownership,ytrain_account_ownership)"
      ]
    },
    {
      "cell_type": "code",
      "execution_count": null,
      "metadata": {
        "id": "YBXXkNUeBoEc"
      },
      "outputs": [],
      "source": [
        "xtest_account_ownership = test_data_account_ownership[['search_interest','central_bankers_speech_stance_index','Mobile_Cellular_sub','Financial_Development_Index','Trade (% of GDP)','GDP(USD)','VoiceandAccountability','GovernmentEffectiveness','Broadband_Subscribsions(per100people)','Innovation_Score','Secure_Internet_Servers','Trade_Openness','Access_to_Electricity','Individual_Internet_Users','Regulatory quality','Population ages 65 and above (% of total population)']]"
      ]
    },
    {
      "cell_type": "code",
      "execution_count": null,
      "metadata": {
        "id": "hVpbJcLPCCtF"
      },
      "outputs": [],
      "source": [
        "ypred_account_ownership = lr_ao.predict(xtest_account_ownership)"
      ]
    },
    {
      "cell_type": "code",
      "execution_count": null,
      "metadata": {
        "colab": {
          "base_uri": "https://localhost:8080/"
        },
        "id": "jM7rJit3JOyu",
        "outputId": "f8ce8632-c9ff-47ec-9887-762a24594414"
      },
      "outputs": [
        {
          "data": {
            "text/plain": [
              "array([91.6629705 , 30.30489041, 77.90293512, 87.00220864, 75.0248295 ,\n",
              "       64.88300487, 78.42567039, 61.64930713, 50.98908999, 69.67980346,\n",
              "       57.80715739, 64.19612671, 41.38045447, 57.49046691, 32.69012685,\n",
              "       58.60980786, 55.7641388 , 81.95110061, 63.12651314, 58.82131247,\n",
              "       54.81164715, 52.47274668, 28.72628426, 48.97698116, 86.49065626,\n",
              "       79.76337269, 76.31098067, 40.73488715, 92.99758286, 62.96635969,\n",
              "       57.29158405, 41.83166856, 57.49333265, 58.84789388, 62.25350941,\n",
              "       40.46008865, 85.74484186, 32.59350508, 77.54642894, 40.43175216,\n",
              "       63.57509637, 38.16264035, 47.59044309, 57.88863101, 49.77644001,\n",
              "       54.16081259, 62.28377838, 47.12927353, 57.75122379, 22.2173326 ])"
            ]
          },
          "execution_count": 15,
          "metadata": {},
          "output_type": "execute_result"
        }
      ],
      "source": [
        "ypred_account_ownership"
      ]
    },
    {
      "cell_type": "code",
      "execution_count": null,
      "metadata": {
        "colab": {
          "base_uri": "https://localhost:8080/"
        },
        "id": "XsnAJ9ebOww4",
        "outputId": "14864530-b7ce-4c27-d10a-b6565bb7a410"
      },
      "outputs": [
        {
          "name": "stderr",
          "output_type": "stream",
          "text": [
            "/usr/local/lib/python3.7/dist-packages/ipykernel_launcher.py:1: SettingWithCopyWarning: \n",
            "A value is trying to be set on a copy of a slice from a DataFrame.\n",
            "Try using .loc[row_indexer,col_indexer] = value instead\n",
            "\n",
            "See the caveats in the documentation: https://pandas.pydata.org/pandas-docs/stable/user_guide/indexing.html#returning-a-view-versus-a-copy\n",
            "  \"\"\"Entry point for launching an IPython kernel.\n"
          ]
        }
      ],
      "source": [
        "test_data_account_ownership['ypred_account_ownership'] = ypred_account_ownership"
      ]
    },
    {
      "cell_type": "code",
      "execution_count": null,
      "metadata": {
        "id": "Oeiqbd9xPMSF"
      },
      "outputs": [],
      "source": [
        "test_data_account_ownership.to_csv(\"test_data_account_ownership.csv\", encoding='utf-8', index=False)"
      ]
    },
    {
      "cell_type": "markdown",
      "metadata": {
        "id": "MsQ2yat4ktyN"
      },
      "source": [
        "**Filling up missing values of Innovation score column with machine learning**"
      ]
    },
    {
      "cell_type": "code",
      "execution_count": null,
      "metadata": {
        "id": "laqDH1Xkk307"
      },
      "outputs": [],
      "source": [
        "df_innovation_score = df.drop(['ISO2','country_name','project_score_overall','project_score_retail','project_score_wholesale','search_interest_normalized','central_bankers_speech_stance_index_normalized'], axis=1)"
      ]
    },
    {
      "cell_type": "code",
      "execution_count": null,
      "metadata": {
        "id": "zGRAIYi2kZyt"
      },
      "outputs": [],
      "source": [
        "test_data_innovation_score = df_innovation_score[df_innovation_score['Innovation_Score'].isnull()]"
      ]
    },
    {
      "cell_type": "code",
      "execution_count": null,
      "metadata": {
        "colab": {
          "base_uri": "https://localhost:8080/"
        },
        "id": "nmXRk5Iqkv23",
        "outputId": "cfdc0d30-ef31-43d5-cb94-b47a80401d11"
      },
      "outputs": [
        {
          "name": "stderr",
          "output_type": "stream",
          "text": [
            "/usr/local/lib/python3.7/dist-packages/pandas/core/frame.py:3641: SettingWithCopyWarning: \n",
            "A value is trying to be set on a copy of a slice from a DataFrame.\n",
            "Try using .loc[row_indexer,col_indexer] = value instead\n",
            "\n",
            "See the caveats in the documentation: https://pandas.pydata.org/pandas-docs/stable/user_guide/indexing.html#returning-a-view-versus-a-copy\n",
            "  self[k1] = value[k2]\n"
          ]
        }
      ],
      "source": [
        "test_data_innovation_score[['search_interest','central_bankers_speech_stance_index','Mobile_Cellular_sub','Financial_Development_Index','Trade (% of GDP)','GDP(USD)','VoiceandAccountability','GovernmentEffectiveness','Broadband_Subscribsions(per100people)','Account_Ownership','Secure_Internet_Servers','Trade_Openness','Access_to_Electricity','Individual_Internet_Users','Regulatory quality','Population ages 65 and above (% of total population)']] = test_data_innovation_score[['search_interest','central_bankers_speech_stance_index','Mobile_Cellular_sub','Financial_Development_Index','Trade (% of GDP)','GDP(USD)','VoiceandAccountability','GovernmentEffectiveness','Broadband_Subscribsions(per100people)','Account_Ownership','Secure_Internet_Servers','Trade_Openness','Access_to_Electricity','Individual_Internet_Users','Regulatory quality','Population ages 65 and above (% of total population)']].fillna((test_data_innovation_score[['search_interest','central_bankers_speech_stance_index','Mobile_Cellular_sub','Financial_Development_Index','Trade (% of GDP)','GDP(USD)','VoiceandAccountability','GovernmentEffectiveness','Broadband_Subscribsions(per100people)','Account_Ownership','Secure_Internet_Servers','Trade_Openness','Access_to_Electricity','Individual_Internet_Users','Regulatory quality','Population ages 65 and above (% of total population)']].mean()))"
      ]
    },
    {
      "cell_type": "code",
      "execution_count": null,
      "metadata": {
        "id": "4gO4Ipc1lTGn"
      },
      "outputs": [],
      "source": [
        "df_innovation_score.dropna(inplace=True)"
      ]
    },
    {
      "cell_type": "code",
      "execution_count": null,
      "metadata": {
        "id": "dJALpXc0lkS3"
      },
      "outputs": [],
      "source": [
        "xtrain_innovation_score = df_innovation_score.drop('Innovation_Score',axis=1)"
      ]
    },
    {
      "cell_type": "code",
      "execution_count": null,
      "metadata": {
        "id": "T6lyZdZNl2Dy"
      },
      "outputs": [],
      "source": [
        "ytrain_innovation_score = df_innovation_score['Innovation_Score']"
      ]
    },
    {
      "cell_type": "code",
      "execution_count": null,
      "metadata": {
        "id": "MS_y0XmvmGxu"
      },
      "outputs": [],
      "source": [
        "from sklearn.linear_model import LinearRegression\n",
        "lr_IS = LinearRegression()"
      ]
    },
    {
      "cell_type": "code",
      "execution_count": null,
      "metadata": {
        "colab": {
          "base_uri": "https://localhost:8080/"
        },
        "id": "3cOckItImN9g",
        "outputId": "90ee2a73-7b06-465f-ecb8-4a1404256c1c"
      },
      "outputs": [
        {
          "data": {
            "text/plain": [
              "LinearRegression()"
            ]
          },
          "execution_count": 12,
          "metadata": {},
          "output_type": "execute_result"
        }
      ],
      "source": [
        "lr_IS.fit(xtrain_innovation_score,ytrain_innovation_score)"
      ]
    },
    {
      "cell_type": "code",
      "execution_count": null,
      "metadata": {
        "id": "5A2jGC2rmmGF"
      },
      "outputs": [],
      "source": [
        "xtest_innovation_score = test_data_innovation_score[['search_interest','central_bankers_speech_stance_index','Mobile_Cellular_sub','Financial_Development_Index','Trade (% of GDP)','GDP(USD)','VoiceandAccountability','GovernmentEffectiveness','Broadband_Subscribsions(per100people)','Account_Ownership','Secure_Internet_Servers','Trade_Openness','Access_to_Electricity','Individual_Internet_Users','Regulatory quality','Population ages 65 and above (% of total population)']]"
      ]
    },
    {
      "cell_type": "code",
      "execution_count": null,
      "metadata": {
        "id": "fKy8GNFrm6hr"
      },
      "outputs": [],
      "source": [
        "ypred_innovation_score = lr_IS.predict(xtest_innovation_score)"
      ]
    },
    {
      "cell_type": "code",
      "execution_count": null,
      "metadata": {
        "colab": {
          "base_uri": "https://localhost:8080/"
        },
        "id": "NZ0sMsf2nFyA",
        "outputId": "a22e1c9a-8835-4660-a387-2198e5056e98"
      },
      "outputs": [
        {
          "data": {
            "text/plain": [
              "array([44.66240611, 23.14562911, 35.37621788, 38.1967598 , 43.86858832,\n",
              "       37.16301601, 26.81489277, 27.96815156, 28.40363139, 26.87937064,\n",
              "       22.48496518, 37.66543449, 27.08352925, 18.30736381, 25.82292351,\n",
              "       23.6331143 , 29.65379977, 37.40030731, 20.43457314, 27.35517335,\n",
              "       25.76692654, 16.00093784, 22.56140255, 23.64172368, 19.99457162,\n",
              "       21.45738089, 44.62550717, 49.29874339, 20.0160568 , 21.59543305,\n",
              "       16.51341769, 44.15271453, 20.65607511, 39.39168612, 20.32684619,\n",
              "       26.53936649, 29.38952638, 23.27650211, 33.68134087, 26.79715436,\n",
              "       24.57277362, 19.20211353, 38.49872282, 18.12005045, 19.95133023,\n",
              "       34.0958071 , 23.42251925, 25.24183369,  6.63300831, 20.0357    ,\n",
              "       21.76021219, 15.3690823 , 26.77325935, 21.68066628, 27.52147787,\n",
              "       25.69612514, 38.81969348, 22.68689142, 28.04084981])"
            ]
          },
          "execution_count": 15,
          "metadata": {},
          "output_type": "execute_result"
        }
      ],
      "source": [
        "ypred_innovation_score"
      ]
    },
    {
      "cell_type": "code",
      "execution_count": null,
      "metadata": {
        "colab": {
          "base_uri": "https://localhost:8080/"
        },
        "id": "IjTR02i2nXPp",
        "outputId": "6c1f18d3-c4af-4249-f322-3f32684b7b50"
      },
      "outputs": [
        {
          "name": "stderr",
          "output_type": "stream",
          "text": [
            "/usr/local/lib/python3.7/dist-packages/ipykernel_launcher.py:1: SettingWithCopyWarning: \n",
            "A value is trying to be set on a copy of a slice from a DataFrame.\n",
            "Try using .loc[row_indexer,col_indexer] = value instead\n",
            "\n",
            "See the caveats in the documentation: https://pandas.pydata.org/pandas-docs/stable/user_guide/indexing.html#returning-a-view-versus-a-copy\n",
            "  \"\"\"Entry point for launching an IPython kernel.\n"
          ]
        }
      ],
      "source": [
        "test_data_innovation_score['ypred_innovation_score'] = ypred_innovation_score"
      ]
    },
    {
      "cell_type": "code",
      "execution_count": null,
      "metadata": {
        "id": "0Q03MIaYneYc"
      },
      "outputs": [],
      "source": [
        "test_data_innovation_score.to_csv(\"test_data_innovation_score.csv\", encoding='utf-8', index=False)"
      ]
    },
    {
      "cell_type": "markdown",
      "metadata": {
        "id": "cul4ItpvYYWS"
      },
      "source": [
        "**Filling missing values of population of 65 and beyond age group**"
      ]
    },
    {
      "cell_type": "code",
      "execution_count": null,
      "metadata": {
        "id": "q5iJi9ygYjE8"
      },
      "outputs": [],
      "source": [
        "df_population_age = df.drop(['ISO2','country_name','project_score_overall','project_score_retail','project_score_wholesale','search_interest_normalized','central_bankers_speech_stance_index_normalized'], axis=1)"
      ]
    },
    {
      "cell_type": "code",
      "execution_count": null,
      "metadata": {
        "id": "dk5fIByKYwCq"
      },
      "outputs": [],
      "source": [
        "test_data_population_age = df_population_age[df_population_age['Population ages 65 and above (% of total population)'].isnull()]"
      ]
    },
    {
      "cell_type": "code",
      "execution_count": null,
      "metadata": {
        "colab": {
          "base_uri": "https://localhost:8080/"
        },
        "id": "HHyKfTB1ZJj1",
        "outputId": "27041e39-2311-405d-aa87-2df86e4b24d7"
      },
      "outputs": [
        {
          "name": "stderr",
          "output_type": "stream",
          "text": [
            "/usr/local/lib/python3.7/dist-packages/pandas/core/frame.py:3641: SettingWithCopyWarning: \n",
            "A value is trying to be set on a copy of a slice from a DataFrame.\n",
            "Try using .loc[row_indexer,col_indexer] = value instead\n",
            "\n",
            "See the caveats in the documentation: https://pandas.pydata.org/pandas-docs/stable/user_guide/indexing.html#returning-a-view-versus-a-copy\n",
            "  self[k1] = value[k2]\n"
          ]
        }
      ],
      "source": [
        "test_data_population_age[['search_interest','central_bankers_speech_stance_index','Mobile_Cellular_sub','Financial_Development_Index','Trade (% of GDP)','GDP(USD)','VoiceandAccountability','GovernmentEffectiveness','Broadband_Subscribsions(per100people)','Innovation_Score','Account_Ownership','Secure_Internet_Servers','Trade_Openness','Access_to_Electricity','Individual_Internet_Users','Regulatory quality']] = test_data_population_age[['search_interest','central_bankers_speech_stance_index','Mobile_Cellular_sub','Financial_Development_Index','Trade (% of GDP)','GDP(USD)','VoiceandAccountability','GovernmentEffectiveness','Broadband_Subscribsions(per100people)','Innovation_Score','Account_Ownership','Secure_Internet_Servers','Trade_Openness','Access_to_Electricity','Individual_Internet_Users','Regulatory quality']].fillna((test_data_population_age[['search_interest','central_bankers_speech_stance_index','Mobile_Cellular_sub','Financial_Development_Index','Trade (% of GDP)','GDP(USD)','VoiceandAccountability','GovernmentEffectiveness','Broadband_Subscribsions(per100people)','Innovation_Score','Account_Ownership','Secure_Internet_Servers','Trade_Openness','Access_to_Electricity','Individual_Internet_Users','Regulatory quality']].mean()))"
      ]
    },
    {
      "cell_type": "code",
      "execution_count": null,
      "metadata": {
        "id": "Ju1haOf8ZphA"
      },
      "outputs": [],
      "source": [
        "df_population_age.dropna(inplace=True)"
      ]
    },
    {
      "cell_type": "code",
      "execution_count": null,
      "metadata": {
        "id": "TVKpo8vrZwW9"
      },
      "outputs": [],
      "source": [
        "xtrain_population_age = df_population_age.drop(['Population ages 65 and above (% of total population)'],axis=1)"
      ]
    },
    {
      "cell_type": "code",
      "execution_count": null,
      "metadata": {
        "id": "qle8UJTiZ8ZJ"
      },
      "outputs": [],
      "source": [
        "ytrain_population_age = df_population_age['Population ages 65 and above (% of total population)']"
      ]
    },
    {
      "cell_type": "code",
      "execution_count": null,
      "metadata": {
        "id": "yN-DW6XwaJ4d"
      },
      "outputs": [],
      "source": [
        "from sklearn.linear_model import LinearRegression\n",
        "lr_PAT = LinearRegression()"
      ]
    },
    {
      "cell_type": "code",
      "execution_count": null,
      "metadata": {
        "colab": {
          "base_uri": "https://localhost:8080/"
        },
        "id": "dp5BJscZaNzN",
        "outputId": "1c0489f2-d8c8-49b9-fe5a-a8fc38d6b5cf"
      },
      "outputs": [
        {
          "data": {
            "text/plain": [
              "LinearRegression()"
            ]
          },
          "execution_count": 12,
          "metadata": {},
          "output_type": "execute_result"
        }
      ],
      "source": [
        "lr_PAT.fit(xtrain_population_age,ytrain_population_age)"
      ]
    },
    {
      "cell_type": "code",
      "execution_count": null,
      "metadata": {
        "id": "MET6JYFzaZTb"
      },
      "outputs": [],
      "source": [
        "xtest_population_age = test_data_population_age[['search_interest','central_bankers_speech_stance_index','Mobile_Cellular_sub','Financial_Development_Index','Trade (% of GDP)','GDP(USD)','VoiceandAccountability','GovernmentEffectiveness','Broadband_Subscribsions(per100people)','Innovation_Score','Account_Ownership','Secure_Internet_Servers','Trade_Openness','Access_to_Electricity','Individual_Internet_Users','Regulatory quality']]"
      ]
    },
    {
      "cell_type": "code",
      "execution_count": null,
      "metadata": {
        "id": "4QF8YHOgqVcp"
      },
      "outputs": [],
      "source": [
        "print(xtest_population_age)"
      ]
    },
    {
      "cell_type": "code",
      "execution_count": null,
      "metadata": {
        "id": "Q4PnYpYXa7XH"
      },
      "outputs": [],
      "source": [
        "ypred_population_age = lr_PAT.predict(xtest_population_age)"
      ]
    },
    {
      "cell_type": "code",
      "execution_count": null,
      "metadata": {
        "colab": {
          "base_uri": "https://localhost:8080/"
        },
        "id": "k7oupqmpbIHL",
        "outputId": "60ec38a2-1ed2-4319-d46d-4373c97e5d24"
      },
      "outputs": [
        {
          "data": {
            "text/plain": [
              "array([20.36825484, 12.99405788, 16.94790884,  9.2462492 ,  7.83844759,\n",
              "       13.28267482, 19.50726801, 13.09621136, 14.38174266,  9.02178007,\n",
              "        8.58867577,  8.61205639, 15.49150467,  8.99584986,  9.3031824 ])"
            ]
          },
          "execution_count": 15,
          "metadata": {},
          "output_type": "execute_result"
        }
      ],
      "source": [
        "ypred_population_age"
      ]
    },
    {
      "cell_type": "code",
      "execution_count": null,
      "metadata": {
        "colab": {
          "base_uri": "https://localhost:8080/"
        },
        "id": "Jvgqsut7bL9I",
        "outputId": "2e16e712-f59e-437a-a500-7960c944e12d"
      },
      "outputs": [
        {
          "name": "stderr",
          "output_type": "stream",
          "text": [
            "/usr/local/lib/python3.7/dist-packages/ipykernel_launcher.py:1: SettingWithCopyWarning: \n",
            "A value is trying to be set on a copy of a slice from a DataFrame.\n",
            "Try using .loc[row_indexer,col_indexer] = value instead\n",
            "\n",
            "See the caveats in the documentation: https://pandas.pydata.org/pandas-docs/stable/user_guide/indexing.html#returning-a-view-versus-a-copy\n",
            "  \"\"\"Entry point for launching an IPython kernel.\n"
          ]
        }
      ],
      "source": [
        "test_data_population_age['ypred_population_age'] = ypred_population_age"
      ]
    },
    {
      "cell_type": "code",
      "execution_count": null,
      "metadata": {
        "id": "MiiyfHLObkS5"
      },
      "outputs": [],
      "source": [
        "test_data_population_age.to_csv(\"test_data_population_age.csv\", encoding='utf-8', index=False)"
      ]
    },
    {
      "cell_type": "code",
      "execution_count": null,
      "metadata": {
        "id": "y-La8AsHfiiH"
      },
      "outputs": [],
      "source": [
        "df['project_score_overall'] = df['project_score_overall'].fillna(0)\n"
      ]
    },
    {
      "cell_type": "code",
      "execution_count": null,
      "metadata": {
        "id": "cdjKzfjIfvDP"
      },
      "outputs": [],
      "source": [
        "df['project_score_retail'] = df['project_score_retail'].fillna(0)\n"
      ]
    },
    {
      "cell_type": "code",
      "execution_count": null,
      "metadata": {
        "id": "iNk6Wzxyf1AC"
      },
      "outputs": [],
      "source": [
        "df['project_score_wholesale'] = df['project_score_wholesale'].fillna(0)\n"
      ]
    },
    {
      "cell_type": "code",
      "execution_count": null,
      "metadata": {
        "id": "9WgaeFdAusJO"
      },
      "outputs": [],
      "source": [
        "df['Innovation_Score'] = df['Innovation_Score'].fillna(0)\n"
      ]
    },
    {
      "cell_type": "code",
      "execution_count": null,
      "metadata": {
        "id": "p6ZhBXplu0fT"
      },
      "outputs": [],
      "source": [
        "df['Account_Ownership'] = df['Account_Ownership'].fillna(0)"
      ]
    },
    {
      "cell_type": "code",
      "execution_count": null,
      "metadata": {
        "id": "huVAnZetvC2m"
      },
      "outputs": [],
      "source": [
        "df['Secure_Internet_Servers'] = df['Secure_Internet_Servers'].fillna(0)"
      ]
    },
    {
      "cell_type": "code",
      "execution_count": null,
      "metadata": {
        "id": "YBwdnknmlXWr"
      },
      "outputs": [],
      "source": [
        "missing_values_Count = df.isnull().sum()"
      ]
    },
    {
      "cell_type": "code",
      "execution_count": null,
      "metadata": {
        "id": "ZQ5GEaeVu4Rx"
      },
      "outputs": [],
      "source": [
        "missing_values_Count[0:25]"
      ]
    },
    {
      "cell_type": "code",
      "execution_count": null,
      "metadata": {
        "id": "hJWwa4mRkxzR"
      },
      "outputs": [],
      "source": [
        "#How many total missing values do we have?\n",
        "total_cells = np.product(df.shape)\n",
        "total_missing = missing_values_Count.sum()\n",
        "\n",
        "#percent of data that is missing\n",
        "(total_missing/total_cells) * 100"
      ]
    },
    {
      "cell_type": "code",
      "execution_count": null,
      "metadata": {
        "id": "L4oL33Mo7JfM"
      },
      "outputs": [],
      "source": [
        "df = df.dropna()"
      ]
    },
    {
      "cell_type": "code",
      "execution_count": null,
      "metadata": {
        "id": "EBLVxPoK8-Ts"
      },
      "outputs": [],
      "source": [
        "df_country_pso = df.query('project_score_overall == \"3\" | project_score_overall == \"2\" | project_score_overall == \"1\"')\n"
      ]
    },
    {
      "cell_type": "code",
      "execution_count": null,
      "metadata": {
        "id": "rPdYuWRSSnr9"
      },
      "outputs": [],
      "source": [
        "#np.any(np.isnan(df))\n"
      ]
    },
    {
      "cell_type": "code",
      "execution_count": null,
      "metadata": {
        "id": "GWdUzjdsdnY8"
      },
      "outputs": [],
      "source": [
        "missing_values_Count[0:20]"
      ]
    },
    {
      "cell_type": "code",
      "execution_count": null,
      "metadata": {
        "id": "3-Vh0WquPI0L"
      },
      "outputs": [],
      "source": [
        "df['Broadband_Subscribsions(per100people)'] = df['Broadband_Subscribsions(per100people)'].fillna(df['Broadband_Subscribsions(per100people)'].mean())"
      ]
    },
    {
      "cell_type": "code",
      "execution_count": null,
      "metadata": {
        "id": "ClvmC-p2P5jJ"
      },
      "outputs": [],
      "source": [
        "print(df['Broadband_Subscribsions(per100people)'])"
      ]
    },
    {
      "cell_type": "code",
      "execution_count": null,
      "metadata": {
        "colab": {
          "base_uri": "https://localhost:8080/"
        },
        "id": "vweHU65UdwMm",
        "outputId": "977694d4-5f75-4b6b-e295-25ba587c8db5"
      },
      "outputs": [
        {
          "output_type": "stream",
          "name": "stdout",
          "text": [
            "<class 'pandas.core.frame.DataFrame'>\n",
            "Int64Index: 162 entries, 0 to 167\n",
            "Data columns (total 24 columns):\n",
            " #   Column                                            Non-Null Count  Dtype  \n",
            "---  ------                                            --------------  -----  \n",
            " 0   ISO2                                              162 non-null    object \n",
            " 1   country_name                                      162 non-null    object \n",
            " 2   project_score_overall                             162 non-null    float64\n",
            " 3   project_score_retail                              162 non-null    float64\n",
            " 4   project_score_wholesale                           162 non-null    float64\n",
            " 5   search_interest_normalized                        162 non-null    float64\n",
            " 6   central_bankers_speech_stance_index_normalized    162 non-null    float64\n",
            " 7   search_interest                                   162 non-null    float64\n",
            " 8   central_bankers_speech_stance_index               162 non-null    float64\n",
            " 9   Mobile_Cellular_sub                               162 non-null    float64\n",
            " 10  Financial_Development_Index                       162 non-null    float64\n",
            " 11  Trade_GDP                                         162 non-null    float64\n",
            " 12  GDP_USD                                           162 non-null    float64\n",
            " 13  VoiceandAccountability                            162 non-null    float64\n",
            " 14  GovernmentEffectiveness                           162 non-null    float64\n",
            " 15  Broadband_Subscribsions_per100people              162 non-null    float64\n",
            " 16  Innovation_Score                                  162 non-null    float64\n",
            " 17  Account_Ownership                                 162 non-null    float64\n",
            " 18  Secure_Internet_Servers                           162 non-null    float64\n",
            " 19  Trade_Openness                                    162 non-null    float64\n",
            " 20  Access_to_Electricity                             162 non-null    float64\n",
            " 21  Individual_Internet_Users                         162 non-null    float64\n",
            " 22  Regulatory_quality                                162 non-null    float64\n",
            " 23  Population_ages_65_and_above_of_total_population  162 non-null    float64\n",
            "dtypes: float64(22), object(2)\n",
            "memory usage: 31.6+ KB\n"
          ]
        }
      ],
      "source": [
        "df.info()"
      ]
    },
    {
      "cell_type": "code",
      "execution_count": null,
      "metadata": {
        "id": "Y44MkExidesw"
      },
      "outputs": [],
      "source": [
        "#np.all(np.isfinite(df))\n"
      ]
    },
    {
      "cell_type": "code",
      "source": [
        "df.tail()"
      ],
      "metadata": {
        "id": "itLNQAWh4d0j"
      },
      "execution_count": null,
      "outputs": []
    },
    {
      "cell_type": "markdown",
      "source": [
        "**Visualization**"
      ],
      "metadata": {
        "id": "1dpFE4Wf1do6"
      }
    },
    {
      "cell_type": "code",
      "source": [
        "fig1 = px.pie(df, values = df['project_score_overall'].value_counts().values, names = df['project_score_overall'].value_counts().index)\n",
        "fig1.show()"
      ],
      "metadata": {
        "colab": {
          "base_uri": "https://localhost:8080/",
          "height": 542
        },
        "id": "MYjkxrAC1jOL",
        "outputId": "c0fcb292-c15e-46aa-fe2b-2c9d34801455"
      },
      "execution_count": null,
      "outputs": [
        {
          "output_type": "display_data",
          "data": {
            "text/html": [
              "<html>\n",
              "<head><meta charset=\"utf-8\" /></head>\n",
              "<body>\n",
              "    <div>            <script src=\"https://cdnjs.cloudflare.com/ajax/libs/mathjax/2.7.5/MathJax.js?config=TeX-AMS-MML_SVG\"></script><script type=\"text/javascript\">if (window.MathJax) {MathJax.Hub.Config({SVG: {font: \"STIX-Web\"}});}</script>                <script type=\"text/javascript\">window.PlotlyConfig = {MathJaxConfig: 'local'};</script>\n",
              "        <script src=\"https://cdn.plot.ly/plotly-2.8.3.min.js\"></script>                <div id=\"83c8224f-08c0-406b-b7ce-3edccc5556f4\" class=\"plotly-graph-div\" style=\"height:525px; width:100%;\"></div>            <script type=\"text/javascript\">                                    window.PLOTLYENV=window.PLOTLYENV || {};                                    if (document.getElementById(\"83c8224f-08c0-406b-b7ce-3edccc5556f4\")) {                    Plotly.newPlot(                        \"83c8224f-08c0-406b-b7ce-3edccc5556f4\",                        [{\"domain\":{\"x\":[0.0,1.0],\"y\":[0.0,1.0]},\"hovertemplate\":\"label=%{label}<br>value=%{value}<extra></extra>\",\"labels\":[0.0,1.0,2.0,3.0],\"legendgroup\":\"\",\"name\":\"\",\"showlegend\":true,\"values\":[95,37,27,3],\"type\":\"pie\"}],                        {\"template\":{\"data\":{\"bar\":[{\"error_x\":{\"color\":\"#2a3f5f\"},\"error_y\":{\"color\":\"#2a3f5f\"},\"marker\":{\"line\":{\"color\":\"#E5ECF6\",\"width\":0.5},\"pattern\":{\"fillmode\":\"overlay\",\"size\":10,\"solidity\":0.2}},\"type\":\"bar\"}],\"barpolar\":[{\"marker\":{\"line\":{\"color\":\"#E5ECF6\",\"width\":0.5},\"pattern\":{\"fillmode\":\"overlay\",\"size\":10,\"solidity\":0.2}},\"type\":\"barpolar\"}],\"carpet\":[{\"aaxis\":{\"endlinecolor\":\"#2a3f5f\",\"gridcolor\":\"white\",\"linecolor\":\"white\",\"minorgridcolor\":\"white\",\"startlinecolor\":\"#2a3f5f\"},\"baxis\":{\"endlinecolor\":\"#2a3f5f\",\"gridcolor\":\"white\",\"linecolor\":\"white\",\"minorgridcolor\":\"white\",\"startlinecolor\":\"#2a3f5f\"},\"type\":\"carpet\"}],\"choropleth\":[{\"colorbar\":{\"outlinewidth\":0,\"ticks\":\"\"},\"type\":\"choropleth\"}],\"contour\":[{\"colorbar\":{\"outlinewidth\":0,\"ticks\":\"\"},\"colorscale\":[[0.0,\"#0d0887\"],[0.1111111111111111,\"#46039f\"],[0.2222222222222222,\"#7201a8\"],[0.3333333333333333,\"#9c179e\"],[0.4444444444444444,\"#bd3786\"],[0.5555555555555556,\"#d8576b\"],[0.6666666666666666,\"#ed7953\"],[0.7777777777777778,\"#fb9f3a\"],[0.8888888888888888,\"#fdca26\"],[1.0,\"#f0f921\"]],\"type\":\"contour\"}],\"contourcarpet\":[{\"colorbar\":{\"outlinewidth\":0,\"ticks\":\"\"},\"type\":\"contourcarpet\"}],\"heatmap\":[{\"colorbar\":{\"outlinewidth\":0,\"ticks\":\"\"},\"colorscale\":[[0.0,\"#0d0887\"],[0.1111111111111111,\"#46039f\"],[0.2222222222222222,\"#7201a8\"],[0.3333333333333333,\"#9c179e\"],[0.4444444444444444,\"#bd3786\"],[0.5555555555555556,\"#d8576b\"],[0.6666666666666666,\"#ed7953\"],[0.7777777777777778,\"#fb9f3a\"],[0.8888888888888888,\"#fdca26\"],[1.0,\"#f0f921\"]],\"type\":\"heatmap\"}],\"heatmapgl\":[{\"colorbar\":{\"outlinewidth\":0,\"ticks\":\"\"},\"colorscale\":[[0.0,\"#0d0887\"],[0.1111111111111111,\"#46039f\"],[0.2222222222222222,\"#7201a8\"],[0.3333333333333333,\"#9c179e\"],[0.4444444444444444,\"#bd3786\"],[0.5555555555555556,\"#d8576b\"],[0.6666666666666666,\"#ed7953\"],[0.7777777777777778,\"#fb9f3a\"],[0.8888888888888888,\"#fdca26\"],[1.0,\"#f0f921\"]],\"type\":\"heatmapgl\"}],\"histogram\":[{\"marker\":{\"pattern\":{\"fillmode\":\"overlay\",\"size\":10,\"solidity\":0.2}},\"type\":\"histogram\"}],\"histogram2d\":[{\"colorbar\":{\"outlinewidth\":0,\"ticks\":\"\"},\"colorscale\":[[0.0,\"#0d0887\"],[0.1111111111111111,\"#46039f\"],[0.2222222222222222,\"#7201a8\"],[0.3333333333333333,\"#9c179e\"],[0.4444444444444444,\"#bd3786\"],[0.5555555555555556,\"#d8576b\"],[0.6666666666666666,\"#ed7953\"],[0.7777777777777778,\"#fb9f3a\"],[0.8888888888888888,\"#fdca26\"],[1.0,\"#f0f921\"]],\"type\":\"histogram2d\"}],\"histogram2dcontour\":[{\"colorbar\":{\"outlinewidth\":0,\"ticks\":\"\"},\"colorscale\":[[0.0,\"#0d0887\"],[0.1111111111111111,\"#46039f\"],[0.2222222222222222,\"#7201a8\"],[0.3333333333333333,\"#9c179e\"],[0.4444444444444444,\"#bd3786\"],[0.5555555555555556,\"#d8576b\"],[0.6666666666666666,\"#ed7953\"],[0.7777777777777778,\"#fb9f3a\"],[0.8888888888888888,\"#fdca26\"],[1.0,\"#f0f921\"]],\"type\":\"histogram2dcontour\"}],\"mesh3d\":[{\"colorbar\":{\"outlinewidth\":0,\"ticks\":\"\"},\"type\":\"mesh3d\"}],\"parcoords\":[{\"line\":{\"colorbar\":{\"outlinewidth\":0,\"ticks\":\"\"}},\"type\":\"parcoords\"}],\"pie\":[{\"automargin\":true,\"type\":\"pie\"}],\"scatter\":[{\"marker\":{\"colorbar\":{\"outlinewidth\":0,\"ticks\":\"\"}},\"type\":\"scatter\"}],\"scatter3d\":[{\"line\":{\"colorbar\":{\"outlinewidth\":0,\"ticks\":\"\"}},\"marker\":{\"colorbar\":{\"outlinewidth\":0,\"ticks\":\"\"}},\"type\":\"scatter3d\"}],\"scattercarpet\":[{\"marker\":{\"colorbar\":{\"outlinewidth\":0,\"ticks\":\"\"}},\"type\":\"scattercarpet\"}],\"scattergeo\":[{\"marker\":{\"colorbar\":{\"outlinewidth\":0,\"ticks\":\"\"}},\"type\":\"scattergeo\"}],\"scattergl\":[{\"marker\":{\"colorbar\":{\"outlinewidth\":0,\"ticks\":\"\"}},\"type\":\"scattergl\"}],\"scattermapbox\":[{\"marker\":{\"colorbar\":{\"outlinewidth\":0,\"ticks\":\"\"}},\"type\":\"scattermapbox\"}],\"scatterpolar\":[{\"marker\":{\"colorbar\":{\"outlinewidth\":0,\"ticks\":\"\"}},\"type\":\"scatterpolar\"}],\"scatterpolargl\":[{\"marker\":{\"colorbar\":{\"outlinewidth\":0,\"ticks\":\"\"}},\"type\":\"scatterpolargl\"}],\"scatterternary\":[{\"marker\":{\"colorbar\":{\"outlinewidth\":0,\"ticks\":\"\"}},\"type\":\"scatterternary\"}],\"surface\":[{\"colorbar\":{\"outlinewidth\":0,\"ticks\":\"\"},\"colorscale\":[[0.0,\"#0d0887\"],[0.1111111111111111,\"#46039f\"],[0.2222222222222222,\"#7201a8\"],[0.3333333333333333,\"#9c179e\"],[0.4444444444444444,\"#bd3786\"],[0.5555555555555556,\"#d8576b\"],[0.6666666666666666,\"#ed7953\"],[0.7777777777777778,\"#fb9f3a\"],[0.8888888888888888,\"#fdca26\"],[1.0,\"#f0f921\"]],\"type\":\"surface\"}],\"table\":[{\"cells\":{\"fill\":{\"color\":\"#EBF0F8\"},\"line\":{\"color\":\"white\"}},\"header\":{\"fill\":{\"color\":\"#C8D4E3\"},\"line\":{\"color\":\"white\"}},\"type\":\"table\"}]},\"layout\":{\"annotationdefaults\":{\"arrowcolor\":\"#2a3f5f\",\"arrowhead\":0,\"arrowwidth\":1},\"autotypenumbers\":\"strict\",\"coloraxis\":{\"colorbar\":{\"outlinewidth\":0,\"ticks\":\"\"}},\"colorscale\":{\"diverging\":[[0,\"#8e0152\"],[0.1,\"#c51b7d\"],[0.2,\"#de77ae\"],[0.3,\"#f1b6da\"],[0.4,\"#fde0ef\"],[0.5,\"#f7f7f7\"],[0.6,\"#e6f5d0\"],[0.7,\"#b8e186\"],[0.8,\"#7fbc41\"],[0.9,\"#4d9221\"],[1,\"#276419\"]],\"sequential\":[[0.0,\"#0d0887\"],[0.1111111111111111,\"#46039f\"],[0.2222222222222222,\"#7201a8\"],[0.3333333333333333,\"#9c179e\"],[0.4444444444444444,\"#bd3786\"],[0.5555555555555556,\"#d8576b\"],[0.6666666666666666,\"#ed7953\"],[0.7777777777777778,\"#fb9f3a\"],[0.8888888888888888,\"#fdca26\"],[1.0,\"#f0f921\"]],\"sequentialminus\":[[0.0,\"#0d0887\"],[0.1111111111111111,\"#46039f\"],[0.2222222222222222,\"#7201a8\"],[0.3333333333333333,\"#9c179e\"],[0.4444444444444444,\"#bd3786\"],[0.5555555555555556,\"#d8576b\"],[0.6666666666666666,\"#ed7953\"],[0.7777777777777778,\"#fb9f3a\"],[0.8888888888888888,\"#fdca26\"],[1.0,\"#f0f921\"]]},\"colorway\":[\"#636efa\",\"#EF553B\",\"#00cc96\",\"#ab63fa\",\"#FFA15A\",\"#19d3f3\",\"#FF6692\",\"#B6E880\",\"#FF97FF\",\"#FECB52\"],\"font\":{\"color\":\"#2a3f5f\"},\"geo\":{\"bgcolor\":\"white\",\"lakecolor\":\"white\",\"landcolor\":\"#E5ECF6\",\"showlakes\":true,\"showland\":true,\"subunitcolor\":\"white\"},\"hoverlabel\":{\"align\":\"left\"},\"hovermode\":\"closest\",\"mapbox\":{\"style\":\"light\"},\"paper_bgcolor\":\"white\",\"plot_bgcolor\":\"#E5ECF6\",\"polar\":{\"angularaxis\":{\"gridcolor\":\"white\",\"linecolor\":\"white\",\"ticks\":\"\"},\"bgcolor\":\"#E5ECF6\",\"radialaxis\":{\"gridcolor\":\"white\",\"linecolor\":\"white\",\"ticks\":\"\"}},\"scene\":{\"xaxis\":{\"backgroundcolor\":\"#E5ECF6\",\"gridcolor\":\"white\",\"gridwidth\":2,\"linecolor\":\"white\",\"showbackground\":true,\"ticks\":\"\",\"zerolinecolor\":\"white\"},\"yaxis\":{\"backgroundcolor\":\"#E5ECF6\",\"gridcolor\":\"white\",\"gridwidth\":2,\"linecolor\":\"white\",\"showbackground\":true,\"ticks\":\"\",\"zerolinecolor\":\"white\"},\"zaxis\":{\"backgroundcolor\":\"#E5ECF6\",\"gridcolor\":\"white\",\"gridwidth\":2,\"linecolor\":\"white\",\"showbackground\":true,\"ticks\":\"\",\"zerolinecolor\":\"white\"}},\"shapedefaults\":{\"line\":{\"color\":\"#2a3f5f\"}},\"ternary\":{\"aaxis\":{\"gridcolor\":\"white\",\"linecolor\":\"white\",\"ticks\":\"\"},\"baxis\":{\"gridcolor\":\"white\",\"linecolor\":\"white\",\"ticks\":\"\"},\"bgcolor\":\"#E5ECF6\",\"caxis\":{\"gridcolor\":\"white\",\"linecolor\":\"white\",\"ticks\":\"\"}},\"title\":{\"x\":0.05},\"xaxis\":{\"automargin\":true,\"gridcolor\":\"white\",\"linecolor\":\"white\",\"ticks\":\"\",\"title\":{\"standoff\":15},\"zerolinecolor\":\"white\",\"zerolinewidth\":2},\"yaxis\":{\"automargin\":true,\"gridcolor\":\"white\",\"linecolor\":\"white\",\"ticks\":\"\",\"title\":{\"standoff\":15},\"zerolinecolor\":\"white\",\"zerolinewidth\":2}}},\"legend\":{\"tracegroupgap\":0},\"margin\":{\"t\":60}},                        {\"responsive\": true}                    ).then(function(){\n",
              "                            \n",
              "var gd = document.getElementById('83c8224f-08c0-406b-b7ce-3edccc5556f4');\n",
              "var x = new MutationObserver(function (mutations, observer) {{\n",
              "        var display = window.getComputedStyle(gd).display;\n",
              "        if (!display || display === 'none') {{\n",
              "            console.log([gd, 'removed!']);\n",
              "            Plotly.purge(gd);\n",
              "            observer.disconnect();\n",
              "        }}\n",
              "}});\n",
              "\n",
              "// Listen for the removal of the full notebook cells\n",
              "var notebookContainer = gd.closest('#notebook-container');\n",
              "if (notebookContainer) {{\n",
              "    x.observe(notebookContainer, {childList: true});\n",
              "}}\n",
              "\n",
              "// Listen for the clearing of the current output cell\n",
              "var outputEl = gd.closest('.output');\n",
              "if (outputEl) {{\n",
              "    x.observe(outputEl, {childList: true});\n",
              "}}\n",
              "\n",
              "                        })                };                            </script>        </div>\n",
              "</body>\n",
              "</html>"
            ]
          },
          "metadata": {}
        }
      ]
    },
    {
      "cell_type": "code",
      "source": [
        "sns.pairplot(df)"
      ],
      "metadata": {
        "id": "txxTMHtN4Y0K"
      },
      "execution_count": null,
      "outputs": []
    },
    {
      "cell_type": "code",
      "source": [
        "fig = px.box(df, x=\"project_score_overall\", y=\"search_interest\",\n",
        "             title=\"Box plot for project score overall vs search interest\",\n",
        "            )\n",
        "fig.show()"
      ],
      "metadata": {
        "colab": {
          "base_uri": "https://localhost:8080/",
          "height": 542
        },
        "id": "o1oHdewkELfd",
        "outputId": "5774b219-1198-47f0-8c18-07779b289b1a"
      },
      "execution_count": null,
      "outputs": [
        {
          "output_type": "display_data",
          "data": {
            "text/html": [
              "<html>\n",
              "<head><meta charset=\"utf-8\" /></head>\n",
              "<body>\n",
              "    <div>            <script src=\"https://cdnjs.cloudflare.com/ajax/libs/mathjax/2.7.5/MathJax.js?config=TeX-AMS-MML_SVG\"></script><script type=\"text/javascript\">if (window.MathJax) {MathJax.Hub.Config({SVG: {font: \"STIX-Web\"}});}</script>                <script type=\"text/javascript\">window.PlotlyConfig = {MathJaxConfig: 'local'};</script>\n",
              "        <script src=\"https://cdn.plot.ly/plotly-2.8.3.min.js\"></script>                <div id=\"5baf9b9b-d004-4cd0-bbdb-c68435507e6c\" class=\"plotly-graph-div\" style=\"height:525px; width:100%;\"></div>            <script type=\"text/javascript\">                                    window.PLOTLYENV=window.PLOTLYENV || {};                                    if (document.getElementById(\"5baf9b9b-d004-4cd0-bbdb-c68435507e6c\")) {                    Plotly.newPlot(                        \"5baf9b9b-d004-4cd0-bbdb-c68435507e6c\",                        [{\"alignmentgroup\":\"True\",\"hovertemplate\":\"project_score_overall=%{x}<br>search_interest=%{y}<extra></extra>\",\"legendgroup\":\"\",\"marker\":{\"color\":\"#636efa\"},\"name\":\"\",\"notched\":false,\"offsetgroup\":\"\",\"orientation\":\"v\",\"showlegend\":false,\"x\":[2.0,0.0,0.0,0.0,0.0,1.0,2.0,2.0,0.0,0.0,0.0,0.0,0.0,0.0,0.0,1.0,0.0,0.0,0.0,1.0,3.0,2.0,0.0,0.0,0.0,2.0,2.0,1.0,2.0,0.0,0.0,0.0,0.0,0.0,1.0,0.0,0.0,1.0,0.0,0.0,2.0,1.0,0.0,0.0,1.0,0.0,1.0,0.0,2.0,1.0,1.0,2.0,0.0,0.0,0.0,0.0,0.0,0.0,2.0,1.0,0.0,1.0,2.0,1.0,0.0,2.0,1.0,0.0,1.0,1.0,1.0,3.0,0.0,2.0,1.0,0.0,0.0,0.0,0.0,2.0,1.0,0.0,2.0,0.0,0.0,0.0,0.0,1.0,0.0,0.0,0.0,1.0,0.0,1.0,0.0,0.0,0.0,0.0,0.0,0.0,1.0,0.0,0.0,1.0,2.0,0.0,3.0,0.0,1.0,1.0,0.0,1.0,0.0,0.0,1.0,0.0,2.0,1.0,1.0,0.0,0.0,0.0,1.0,0.0,0.0,2.0,2.0,0.0,0.0,0.0,2.0,2.0,0.0,0.0,0.0,0.0,0.0,0.0,0.0,2.0,0.0,0.0,0.0,1.0,0.0,2.0,1.0,0.0,0.0,2.0,0.0,1.0,2.0,0.0,1.0,1.0,0.0,0.0,0.0,2.0,0.0,0.0],\"x0\":\" \",\"xaxis\":\"x\",\"y\":[20.39473684,0.0,0.0,0.0,0.0,12.29385965,13.73245614,12.93859649,0.0,0.0,0.0,0.0,5.105263158,10.42105263,10.31140351,0.0,0.0,0.0,0.0,13.62719298,0.0,0.0,0.0,0.0,0.0,36.79385965,12.40789474,5.780701754,5.106525177,10.53070175,0.0,0.0,0.0,0.0,9.684210526,18.98245614,0.0,9.280701754,0.0,0.0,0.0,0.0,4.557017544,0.0,12.46052632,0.0,9.526315789,0.0,16.03947368,11.09649123,6.407894737,7.302631579,0.0,0.0,0.0,8.307017544,0.0,0.0,15.09649123,0.0,0.0,0.0,9.850877193,14.08333333,10.76315789,25.10526316,6.706140351,0.0,11.42105263,0.0,10.50877193,5.596491228,5.666666667,13.24122807,4.934210526,0.0,0.0,0.0,0.0,9.153508772,0.0,0.0,0.0,0.0,0.0,0.0,0.0,0.0,0.0,0.0,0.0,8.535087719,0.0,0.0,0.0,0.0,0.0,0.0,0.0,0.0,0.0,0.0,0.0,9.394736842,10.68421053,0.0,5.929824561,0.0,15.39035088,6.98245614,6.035087719,5.964912281,0.0,0.0,7.26754386,0.0,15.35087719,9.403508772,9.254385965,0.0,7.478070175,0.0,0.0,25.34649123,0.0,11.36842105,11.38596491,0.0,0.0,0.0,9.254385965,14.37280702,5.061403509,0.0,0.8771929825,0.0,0.0,0.0,0.0,8.442982456,0.0,0.0,0.0,1.557017544,0.0,12.38157895,0.0,0.0,4.26754386,11.59210526,0.0,10.35526316,0.0,0.0,8.328947368,10.63596491,0.0,0.0,0.0,13.36842105,0.0,0.0],\"y0\":\" \",\"yaxis\":\"y\",\"type\":\"box\"}],                        {\"template\":{\"data\":{\"bar\":[{\"error_x\":{\"color\":\"#2a3f5f\"},\"error_y\":{\"color\":\"#2a3f5f\"},\"marker\":{\"line\":{\"color\":\"#E5ECF6\",\"width\":0.5},\"pattern\":{\"fillmode\":\"overlay\",\"size\":10,\"solidity\":0.2}},\"type\":\"bar\"}],\"barpolar\":[{\"marker\":{\"line\":{\"color\":\"#E5ECF6\",\"width\":0.5},\"pattern\":{\"fillmode\":\"overlay\",\"size\":10,\"solidity\":0.2}},\"type\":\"barpolar\"}],\"carpet\":[{\"aaxis\":{\"endlinecolor\":\"#2a3f5f\",\"gridcolor\":\"white\",\"linecolor\":\"white\",\"minorgridcolor\":\"white\",\"startlinecolor\":\"#2a3f5f\"},\"baxis\":{\"endlinecolor\":\"#2a3f5f\",\"gridcolor\":\"white\",\"linecolor\":\"white\",\"minorgridcolor\":\"white\",\"startlinecolor\":\"#2a3f5f\"},\"type\":\"carpet\"}],\"choropleth\":[{\"colorbar\":{\"outlinewidth\":0,\"ticks\":\"\"},\"type\":\"choropleth\"}],\"contour\":[{\"colorbar\":{\"outlinewidth\":0,\"ticks\":\"\"},\"colorscale\":[[0.0,\"#0d0887\"],[0.1111111111111111,\"#46039f\"],[0.2222222222222222,\"#7201a8\"],[0.3333333333333333,\"#9c179e\"],[0.4444444444444444,\"#bd3786\"],[0.5555555555555556,\"#d8576b\"],[0.6666666666666666,\"#ed7953\"],[0.7777777777777778,\"#fb9f3a\"],[0.8888888888888888,\"#fdca26\"],[1.0,\"#f0f921\"]],\"type\":\"contour\"}],\"contourcarpet\":[{\"colorbar\":{\"outlinewidth\":0,\"ticks\":\"\"},\"type\":\"contourcarpet\"}],\"heatmap\":[{\"colorbar\":{\"outlinewidth\":0,\"ticks\":\"\"},\"colorscale\":[[0.0,\"#0d0887\"],[0.1111111111111111,\"#46039f\"],[0.2222222222222222,\"#7201a8\"],[0.3333333333333333,\"#9c179e\"],[0.4444444444444444,\"#bd3786\"],[0.5555555555555556,\"#d8576b\"],[0.6666666666666666,\"#ed7953\"],[0.7777777777777778,\"#fb9f3a\"],[0.8888888888888888,\"#fdca26\"],[1.0,\"#f0f921\"]],\"type\":\"heatmap\"}],\"heatmapgl\":[{\"colorbar\":{\"outlinewidth\":0,\"ticks\":\"\"},\"colorscale\":[[0.0,\"#0d0887\"],[0.1111111111111111,\"#46039f\"],[0.2222222222222222,\"#7201a8\"],[0.3333333333333333,\"#9c179e\"],[0.4444444444444444,\"#bd3786\"],[0.5555555555555556,\"#d8576b\"],[0.6666666666666666,\"#ed7953\"],[0.7777777777777778,\"#fb9f3a\"],[0.8888888888888888,\"#fdca26\"],[1.0,\"#f0f921\"]],\"type\":\"heatmapgl\"}],\"histogram\":[{\"marker\":{\"pattern\":{\"fillmode\":\"overlay\",\"size\":10,\"solidity\":0.2}},\"type\":\"histogram\"}],\"histogram2d\":[{\"colorbar\":{\"outlinewidth\":0,\"ticks\":\"\"},\"colorscale\":[[0.0,\"#0d0887\"],[0.1111111111111111,\"#46039f\"],[0.2222222222222222,\"#7201a8\"],[0.3333333333333333,\"#9c179e\"],[0.4444444444444444,\"#bd3786\"],[0.5555555555555556,\"#d8576b\"],[0.6666666666666666,\"#ed7953\"],[0.7777777777777778,\"#fb9f3a\"],[0.8888888888888888,\"#fdca26\"],[1.0,\"#f0f921\"]],\"type\":\"histogram2d\"}],\"histogram2dcontour\":[{\"colorbar\":{\"outlinewidth\":0,\"ticks\":\"\"},\"colorscale\":[[0.0,\"#0d0887\"],[0.1111111111111111,\"#46039f\"],[0.2222222222222222,\"#7201a8\"],[0.3333333333333333,\"#9c179e\"],[0.4444444444444444,\"#bd3786\"],[0.5555555555555556,\"#d8576b\"],[0.6666666666666666,\"#ed7953\"],[0.7777777777777778,\"#fb9f3a\"],[0.8888888888888888,\"#fdca26\"],[1.0,\"#f0f921\"]],\"type\":\"histogram2dcontour\"}],\"mesh3d\":[{\"colorbar\":{\"outlinewidth\":0,\"ticks\":\"\"},\"type\":\"mesh3d\"}],\"parcoords\":[{\"line\":{\"colorbar\":{\"outlinewidth\":0,\"ticks\":\"\"}},\"type\":\"parcoords\"}],\"pie\":[{\"automargin\":true,\"type\":\"pie\"}],\"scatter\":[{\"marker\":{\"colorbar\":{\"outlinewidth\":0,\"ticks\":\"\"}},\"type\":\"scatter\"}],\"scatter3d\":[{\"line\":{\"colorbar\":{\"outlinewidth\":0,\"ticks\":\"\"}},\"marker\":{\"colorbar\":{\"outlinewidth\":0,\"ticks\":\"\"}},\"type\":\"scatter3d\"}],\"scattercarpet\":[{\"marker\":{\"colorbar\":{\"outlinewidth\":0,\"ticks\":\"\"}},\"type\":\"scattercarpet\"}],\"scattergeo\":[{\"marker\":{\"colorbar\":{\"outlinewidth\":0,\"ticks\":\"\"}},\"type\":\"scattergeo\"}],\"scattergl\":[{\"marker\":{\"colorbar\":{\"outlinewidth\":0,\"ticks\":\"\"}},\"type\":\"scattergl\"}],\"scattermapbox\":[{\"marker\":{\"colorbar\":{\"outlinewidth\":0,\"ticks\":\"\"}},\"type\":\"scattermapbox\"}],\"scatterpolar\":[{\"marker\":{\"colorbar\":{\"outlinewidth\":0,\"ticks\":\"\"}},\"type\":\"scatterpolar\"}],\"scatterpolargl\":[{\"marker\":{\"colorbar\":{\"outlinewidth\":0,\"ticks\":\"\"}},\"type\":\"scatterpolargl\"}],\"scatterternary\":[{\"marker\":{\"colorbar\":{\"outlinewidth\":0,\"ticks\":\"\"}},\"type\":\"scatterternary\"}],\"surface\":[{\"colorbar\":{\"outlinewidth\":0,\"ticks\":\"\"},\"colorscale\":[[0.0,\"#0d0887\"],[0.1111111111111111,\"#46039f\"],[0.2222222222222222,\"#7201a8\"],[0.3333333333333333,\"#9c179e\"],[0.4444444444444444,\"#bd3786\"],[0.5555555555555556,\"#d8576b\"],[0.6666666666666666,\"#ed7953\"],[0.7777777777777778,\"#fb9f3a\"],[0.8888888888888888,\"#fdca26\"],[1.0,\"#f0f921\"]],\"type\":\"surface\"}],\"table\":[{\"cells\":{\"fill\":{\"color\":\"#EBF0F8\"},\"line\":{\"color\":\"white\"}},\"header\":{\"fill\":{\"color\":\"#C8D4E3\"},\"line\":{\"color\":\"white\"}},\"type\":\"table\"}]},\"layout\":{\"annotationdefaults\":{\"arrowcolor\":\"#2a3f5f\",\"arrowhead\":0,\"arrowwidth\":1},\"autotypenumbers\":\"strict\",\"coloraxis\":{\"colorbar\":{\"outlinewidth\":0,\"ticks\":\"\"}},\"colorscale\":{\"diverging\":[[0,\"#8e0152\"],[0.1,\"#c51b7d\"],[0.2,\"#de77ae\"],[0.3,\"#f1b6da\"],[0.4,\"#fde0ef\"],[0.5,\"#f7f7f7\"],[0.6,\"#e6f5d0\"],[0.7,\"#b8e186\"],[0.8,\"#7fbc41\"],[0.9,\"#4d9221\"],[1,\"#276419\"]],\"sequential\":[[0.0,\"#0d0887\"],[0.1111111111111111,\"#46039f\"],[0.2222222222222222,\"#7201a8\"],[0.3333333333333333,\"#9c179e\"],[0.4444444444444444,\"#bd3786\"],[0.5555555555555556,\"#d8576b\"],[0.6666666666666666,\"#ed7953\"],[0.7777777777777778,\"#fb9f3a\"],[0.8888888888888888,\"#fdca26\"],[1.0,\"#f0f921\"]],\"sequentialminus\":[[0.0,\"#0d0887\"],[0.1111111111111111,\"#46039f\"],[0.2222222222222222,\"#7201a8\"],[0.3333333333333333,\"#9c179e\"],[0.4444444444444444,\"#bd3786\"],[0.5555555555555556,\"#d8576b\"],[0.6666666666666666,\"#ed7953\"],[0.7777777777777778,\"#fb9f3a\"],[0.8888888888888888,\"#fdca26\"],[1.0,\"#f0f921\"]]},\"colorway\":[\"#636efa\",\"#EF553B\",\"#00cc96\",\"#ab63fa\",\"#FFA15A\",\"#19d3f3\",\"#FF6692\",\"#B6E880\",\"#FF97FF\",\"#FECB52\"],\"font\":{\"color\":\"#2a3f5f\"},\"geo\":{\"bgcolor\":\"white\",\"lakecolor\":\"white\",\"landcolor\":\"#E5ECF6\",\"showlakes\":true,\"showland\":true,\"subunitcolor\":\"white\"},\"hoverlabel\":{\"align\":\"left\"},\"hovermode\":\"closest\",\"mapbox\":{\"style\":\"light\"},\"paper_bgcolor\":\"white\",\"plot_bgcolor\":\"#E5ECF6\",\"polar\":{\"angularaxis\":{\"gridcolor\":\"white\",\"linecolor\":\"white\",\"ticks\":\"\"},\"bgcolor\":\"#E5ECF6\",\"radialaxis\":{\"gridcolor\":\"white\",\"linecolor\":\"white\",\"ticks\":\"\"}},\"scene\":{\"xaxis\":{\"backgroundcolor\":\"#E5ECF6\",\"gridcolor\":\"white\",\"gridwidth\":2,\"linecolor\":\"white\",\"showbackground\":true,\"ticks\":\"\",\"zerolinecolor\":\"white\"},\"yaxis\":{\"backgroundcolor\":\"#E5ECF6\",\"gridcolor\":\"white\",\"gridwidth\":2,\"linecolor\":\"white\",\"showbackground\":true,\"ticks\":\"\",\"zerolinecolor\":\"white\"},\"zaxis\":{\"backgroundcolor\":\"#E5ECF6\",\"gridcolor\":\"white\",\"gridwidth\":2,\"linecolor\":\"white\",\"showbackground\":true,\"ticks\":\"\",\"zerolinecolor\":\"white\"}},\"shapedefaults\":{\"line\":{\"color\":\"#2a3f5f\"}},\"ternary\":{\"aaxis\":{\"gridcolor\":\"white\",\"linecolor\":\"white\",\"ticks\":\"\"},\"baxis\":{\"gridcolor\":\"white\",\"linecolor\":\"white\",\"ticks\":\"\"},\"bgcolor\":\"#E5ECF6\",\"caxis\":{\"gridcolor\":\"white\",\"linecolor\":\"white\",\"ticks\":\"\"}},\"title\":{\"x\":0.05},\"xaxis\":{\"automargin\":true,\"gridcolor\":\"white\",\"linecolor\":\"white\",\"ticks\":\"\",\"title\":{\"standoff\":15},\"zerolinecolor\":\"white\",\"zerolinewidth\":2},\"yaxis\":{\"automargin\":true,\"gridcolor\":\"white\",\"linecolor\":\"white\",\"ticks\":\"\",\"title\":{\"standoff\":15},\"zerolinecolor\":\"white\",\"zerolinewidth\":2}}},\"xaxis\":{\"anchor\":\"y\",\"domain\":[0.0,1.0],\"title\":{\"text\":\"project_score_overall\"}},\"yaxis\":{\"anchor\":\"x\",\"domain\":[0.0,1.0],\"title\":{\"text\":\"search_interest\"}},\"legend\":{\"tracegroupgap\":0},\"title\":{\"text\":\"Box plot for project score overall vs search interest\"},\"boxmode\":\"group\"},                        {\"responsive\": true}                    ).then(function(){\n",
              "                            \n",
              "var gd = document.getElementById('5baf9b9b-d004-4cd0-bbdb-c68435507e6c');\n",
              "var x = new MutationObserver(function (mutations, observer) {{\n",
              "        var display = window.getComputedStyle(gd).display;\n",
              "        if (!display || display === 'none') {{\n",
              "            console.log([gd, 'removed!']);\n",
              "            Plotly.purge(gd);\n",
              "            observer.disconnect();\n",
              "        }}\n",
              "}});\n",
              "\n",
              "// Listen for the removal of the full notebook cells\n",
              "var notebookContainer = gd.closest('#notebook-container');\n",
              "if (notebookContainer) {{\n",
              "    x.observe(notebookContainer, {childList: true});\n",
              "}}\n",
              "\n",
              "// Listen for the clearing of the current output cell\n",
              "var outputEl = gd.closest('.output');\n",
              "if (outputEl) {{\n",
              "    x.observe(outputEl, {childList: true});\n",
              "}}\n",
              "\n",
              "                        })                };                            </script>        </div>\n",
              "</body>\n",
              "</html>"
            ]
          },
          "metadata": {}
        }
      ]
    },
    {
      "cell_type": "code",
      "source": [
        "df.info()"
      ],
      "metadata": {
        "colab": {
          "base_uri": "https://localhost:8080/"
        },
        "id": "BUE2M9Je9KYT",
        "outputId": "fdb4a56f-99f2-47c6-8337-1397600ed7a8"
      },
      "execution_count": null,
      "outputs": [
        {
          "output_type": "stream",
          "name": "stdout",
          "text": [
            "<class 'pandas.core.frame.DataFrame'>\n",
            "Int64Index: 162 entries, 0 to 167\n",
            "Data columns (total 24 columns):\n",
            " #   Column                                            Non-Null Count  Dtype  \n",
            "---  ------                                            --------------  -----  \n",
            " 0   ISO2                                              162 non-null    object \n",
            " 1   country_name                                      162 non-null    object \n",
            " 2   project_score_overall                             162 non-null    float64\n",
            " 3   project_score_retail                              162 non-null    float64\n",
            " 4   project_score_wholesale                           162 non-null    float64\n",
            " 5   search_interest_normalized                        162 non-null    float64\n",
            " 6   central_bankers_speech_stance_index_normalized    162 non-null    float64\n",
            " 7   search_interest                                   162 non-null    float64\n",
            " 8   central_bankers_speech_stance_index               162 non-null    float64\n",
            " 9   Mobile_Cellular_sub                               162 non-null    float64\n",
            " 10  Financial_Development_Index                       162 non-null    float64\n",
            " 11  Trade_GDP                                         162 non-null    float64\n",
            " 12  GDP_USD                                           162 non-null    float64\n",
            " 13  VoiceandAccountability                            162 non-null    float64\n",
            " 14  GovernmentEffectiveness                           162 non-null    float64\n",
            " 15  Broadband_Subscribsions_per100people              162 non-null    float64\n",
            " 16  Innovation_Score                                  162 non-null    float64\n",
            " 17  Account_Ownership                                 162 non-null    float64\n",
            " 18  Secure_Internet_Servers                           162 non-null    float64\n",
            " 19  Trade_Openness                                    162 non-null    float64\n",
            " 20  Access_to_Electricity                             162 non-null    float64\n",
            " 21  Individual_Internet_Users                         162 non-null    float64\n",
            " 22  Regulatory_quality                                162 non-null    float64\n",
            " 23  Population_ages_65_and_above_of_total_population  162 non-null    float64\n",
            "dtypes: float64(22), object(2)\n",
            "memory usage: 31.6+ KB\n"
          ]
        }
      ]
    },
    {
      "cell_type": "code",
      "source": [
        "fig = px.scatter(df,x=\"GovernmentEffectiveness\", y=\"Innovation_Score\", color=\"project_score_overall\")\n",
        "fig.show()"
      ],
      "metadata": {
        "colab": {
          "base_uri": "https://localhost:8080/",
          "height": 542
        },
        "id": "eWDPNSAUGkbm",
        "outputId": "5242aeb8-333a-4043-809b-e7e494558bd9"
      },
      "execution_count": null,
      "outputs": [
        {
          "output_type": "display_data",
          "data": {
            "text/html": [
              "<html>\n",
              "<head><meta charset=\"utf-8\" /></head>\n",
              "<body>\n",
              "    <div>            <script src=\"https://cdnjs.cloudflare.com/ajax/libs/mathjax/2.7.5/MathJax.js?config=TeX-AMS-MML_SVG\"></script><script type=\"text/javascript\">if (window.MathJax) {MathJax.Hub.Config({SVG: {font: \"STIX-Web\"}});}</script>                <script type=\"text/javascript\">window.PlotlyConfig = {MathJaxConfig: 'local'};</script>\n",
              "        <script src=\"https://cdn.plot.ly/plotly-2.8.3.min.js\"></script>                <div id=\"b1f9d736-fa65-4e3a-b9ad-2171e94107e4\" class=\"plotly-graph-div\" style=\"height:525px; width:100%;\"></div>            <script type=\"text/javascript\">                                    window.PLOTLYENV=window.PLOTLYENV || {};                                    if (document.getElementById(\"b1f9d736-fa65-4e3a-b9ad-2171e94107e4\")) {                    Plotly.newPlot(                        \"b1f9d736-fa65-4e3a-b9ad-2171e94107e4\",                        [{\"hovertemplate\":\"GovernmentEffectiveness=%{x}<br>Innovation_Score=%{y}<br>project_score_overall=%{marker.color}<extra></extra>\",\"legendgroup\":\"\",\"marker\":{\"color\":[2.0,0.0,0.0,0.0,0.0,1.0,2.0,2.0,0.0,0.0,0.0,0.0,0.0,0.0,0.0,1.0,0.0,0.0,0.0,1.0,3.0,2.0,0.0,0.0,0.0,2.0,2.0,1.0,2.0,0.0,0.0,0.0,0.0,0.0,1.0,0.0,0.0,1.0,0.0,0.0,2.0,1.0,0.0,0.0,1.0,0.0,1.0,0.0,2.0,1.0,1.0,2.0,0.0,0.0,0.0,0.0,0.0,0.0,2.0,1.0,0.0,1.0,2.0,1.0,0.0,2.0,1.0,0.0,1.0,1.0,1.0,3.0,0.0,2.0,1.0,0.0,0.0,0.0,0.0,2.0,1.0,0.0,2.0,0.0,0.0,0.0,0.0,1.0,0.0,0.0,0.0,1.0,0.0,1.0,0.0,0.0,0.0,0.0,0.0,0.0,1.0,0.0,0.0,1.0,2.0,0.0,3.0,0.0,1.0,1.0,0.0,1.0,0.0,0.0,1.0,0.0,2.0,1.0,1.0,0.0,0.0,0.0,1.0,0.0,0.0,2.0,2.0,0.0,0.0,0.0,2.0,2.0,0.0,0.0,0.0,0.0,0.0,0.0,0.0,2.0,0.0,0.0,0.0,1.0,0.0,2.0,1.0,0.0,0.0,2.0,0.0,1.0,2.0,0.0,1.0,1.0,0.0,0.0,0.0,2.0,0.0,0.0],\"coloraxis\":\"coloraxis\",\"symbol\":\"circle\"},\"mode\":\"markers\",\"name\":\"\",\"orientation\":\"v\",\"showlegend\":false,\"x\":[1.39,-1.4,-0.01,-0.1,-1.08,0.01,1.54,1.58,1.01,-0.16,-0.62,0.69,-0.74,1.25,0.16,0.29,1.4,1.25,-0.51,-0.3,0.55,0.42,0.4,-0.41,-0.66,1.75,2.02,1.03,0.48,-0.01,0.36,-0.17,0.23,0.94,1.0,1.56,-0.86,1.86,-0.34,-0.54,-0.39,1.18,-0.57,-1.7,1.01,-0.63,1.98,0.12,1.37,1.47,0.66,-0.17,0.83,-0.68,-0.94,0.3,-0.66,-0.34,1.81,-0.61,0.5,-2.02,0.52,0.16,1.37,1.27,0.2,-1.3,-0.47,1.47,0.49,0.46,0.11,1.66,-0.36,-0.69,-0.58,-0.26,-1.6,1.22,-0.11,1.18,0.05,-0.76,-0.12,-1.35,-0.85,1.04,1.75,0.99,-1.89,-0.13,-0.49,-1.12,0.12,-1.05,-0.23,1.21,-0.7,0.97,0.9,-0.31,-0.73,-0.06,0.96,-0.83,-1.05,-0.72,1.84,1.91,-0.92,1.71,0.19,0.06,-0.17,-0.75,0.02,-0.62,0.54,-0.64,1.19,-0.62,0.74,-0.12,0.08,-0.02,0.26,-0.99,0.46,-1.53,1.71,2.24,1.13,0.66,-2.18,-0.55,-2.41,-0.38,-1.74,0.35,-1.0,-0.93,-1.19,-0.15,-0.01,0.03,0.18,-0.73,-0.72,-0.42,-0.58,1.48,0.62,-0.54,-1.55,0.05,-0.65,0.54,-2.11,0.32,-0.66,-1.2],\"xaxis\":\"x\",\"y\":[42.56,22.70907343,28.86,33.3,15.0,30.54,51.26,50.16,35.19377478,29.32,30.26,38.0143167,22.14,49.78,41.62,30.94,43.71652314,31.2,23.82,33.28,36.98057291,26.63244967,26.78,31.08,27.78570845,53.2,66.98,36.42,53.7,32.82,35.38,26.71477207,24.8,47.06,49.28,57.68,22.30252207,58.06,27.86,22.32,26.4,49.92,26.0,18.1249207,47.28,21.8,58.66,25.6404804,54.3,60.38,34.12,23.6,37.0818881,20.43457314,18.32,37.94,25.0,25.13008322,54.38,24.52,38.58,16.00093784,43.06,28.64,55.02,55.0,35.86,22.57924709,32.74,51.9,46.2,30.06,29.4,54.32,29.54,26.6,24.92,23.45928057,19.81212851,57.26,32.68,44.30708796,30.22,27.68,27.2,19.56165659,21.59543305,40.6,52.84,42.42,16.51341769,30.74,35.04,22.86,33.62,17.9,35.38,39.20924302,20.32684619,48.68,33.26,26.53936649,22.78,35.06,42.54,21.78,21.04,22.5,61.1,51.46,24.04,49.66,30.3,31.18,31.52,22.63965879,34.16,24.0,40.98,26.81499889,44.82,27.32,34.14,37.04,35.16,37.3,33.22,19.01967042,38.31627971,17.93760734,63.24,58.26,45.0,41.64,23.25792068,25.05939058,6.633008306,25.3,19.8532569,37.62,25.44,21.57776909,15.3690823,31.98,26.59081625,37.28,26.74,20.90784686,26.78,37.08,23.68,60.96,33.2,25.95,25.69612514,37.82,22.50444831,27.8584067,14.82,34.06,20.22,21.82],\"yaxis\":\"y\",\"type\":\"scatter\"}],                        {\"template\":{\"data\":{\"bar\":[{\"error_x\":{\"color\":\"#2a3f5f\"},\"error_y\":{\"color\":\"#2a3f5f\"},\"marker\":{\"line\":{\"color\":\"#E5ECF6\",\"width\":0.5},\"pattern\":{\"fillmode\":\"overlay\",\"size\":10,\"solidity\":0.2}},\"type\":\"bar\"}],\"barpolar\":[{\"marker\":{\"line\":{\"color\":\"#E5ECF6\",\"width\":0.5},\"pattern\":{\"fillmode\":\"overlay\",\"size\":10,\"solidity\":0.2}},\"type\":\"barpolar\"}],\"carpet\":[{\"aaxis\":{\"endlinecolor\":\"#2a3f5f\",\"gridcolor\":\"white\",\"linecolor\":\"white\",\"minorgridcolor\":\"white\",\"startlinecolor\":\"#2a3f5f\"},\"baxis\":{\"endlinecolor\":\"#2a3f5f\",\"gridcolor\":\"white\",\"linecolor\":\"white\",\"minorgridcolor\":\"white\",\"startlinecolor\":\"#2a3f5f\"},\"type\":\"carpet\"}],\"choropleth\":[{\"colorbar\":{\"outlinewidth\":0,\"ticks\":\"\"},\"type\":\"choropleth\"}],\"contour\":[{\"colorbar\":{\"outlinewidth\":0,\"ticks\":\"\"},\"colorscale\":[[0.0,\"#0d0887\"],[0.1111111111111111,\"#46039f\"],[0.2222222222222222,\"#7201a8\"],[0.3333333333333333,\"#9c179e\"],[0.4444444444444444,\"#bd3786\"],[0.5555555555555556,\"#d8576b\"],[0.6666666666666666,\"#ed7953\"],[0.7777777777777778,\"#fb9f3a\"],[0.8888888888888888,\"#fdca26\"],[1.0,\"#f0f921\"]],\"type\":\"contour\"}],\"contourcarpet\":[{\"colorbar\":{\"outlinewidth\":0,\"ticks\":\"\"},\"type\":\"contourcarpet\"}],\"heatmap\":[{\"colorbar\":{\"outlinewidth\":0,\"ticks\":\"\"},\"colorscale\":[[0.0,\"#0d0887\"],[0.1111111111111111,\"#46039f\"],[0.2222222222222222,\"#7201a8\"],[0.3333333333333333,\"#9c179e\"],[0.4444444444444444,\"#bd3786\"],[0.5555555555555556,\"#d8576b\"],[0.6666666666666666,\"#ed7953\"],[0.7777777777777778,\"#fb9f3a\"],[0.8888888888888888,\"#fdca26\"],[1.0,\"#f0f921\"]],\"type\":\"heatmap\"}],\"heatmapgl\":[{\"colorbar\":{\"outlinewidth\":0,\"ticks\":\"\"},\"colorscale\":[[0.0,\"#0d0887\"],[0.1111111111111111,\"#46039f\"],[0.2222222222222222,\"#7201a8\"],[0.3333333333333333,\"#9c179e\"],[0.4444444444444444,\"#bd3786\"],[0.5555555555555556,\"#d8576b\"],[0.6666666666666666,\"#ed7953\"],[0.7777777777777778,\"#fb9f3a\"],[0.8888888888888888,\"#fdca26\"],[1.0,\"#f0f921\"]],\"type\":\"heatmapgl\"}],\"histogram\":[{\"marker\":{\"pattern\":{\"fillmode\":\"overlay\",\"size\":10,\"solidity\":0.2}},\"type\":\"histogram\"}],\"histogram2d\":[{\"colorbar\":{\"outlinewidth\":0,\"ticks\":\"\"},\"colorscale\":[[0.0,\"#0d0887\"],[0.1111111111111111,\"#46039f\"],[0.2222222222222222,\"#7201a8\"],[0.3333333333333333,\"#9c179e\"],[0.4444444444444444,\"#bd3786\"],[0.5555555555555556,\"#d8576b\"],[0.6666666666666666,\"#ed7953\"],[0.7777777777777778,\"#fb9f3a\"],[0.8888888888888888,\"#fdca26\"],[1.0,\"#f0f921\"]],\"type\":\"histogram2d\"}],\"histogram2dcontour\":[{\"colorbar\":{\"outlinewidth\":0,\"ticks\":\"\"},\"colorscale\":[[0.0,\"#0d0887\"],[0.1111111111111111,\"#46039f\"],[0.2222222222222222,\"#7201a8\"],[0.3333333333333333,\"#9c179e\"],[0.4444444444444444,\"#bd3786\"],[0.5555555555555556,\"#d8576b\"],[0.6666666666666666,\"#ed7953\"],[0.7777777777777778,\"#fb9f3a\"],[0.8888888888888888,\"#fdca26\"],[1.0,\"#f0f921\"]],\"type\":\"histogram2dcontour\"}],\"mesh3d\":[{\"colorbar\":{\"outlinewidth\":0,\"ticks\":\"\"},\"type\":\"mesh3d\"}],\"parcoords\":[{\"line\":{\"colorbar\":{\"outlinewidth\":0,\"ticks\":\"\"}},\"type\":\"parcoords\"}],\"pie\":[{\"automargin\":true,\"type\":\"pie\"}],\"scatter\":[{\"marker\":{\"colorbar\":{\"outlinewidth\":0,\"ticks\":\"\"}},\"type\":\"scatter\"}],\"scatter3d\":[{\"line\":{\"colorbar\":{\"outlinewidth\":0,\"ticks\":\"\"}},\"marker\":{\"colorbar\":{\"outlinewidth\":0,\"ticks\":\"\"}},\"type\":\"scatter3d\"}],\"scattercarpet\":[{\"marker\":{\"colorbar\":{\"outlinewidth\":0,\"ticks\":\"\"}},\"type\":\"scattercarpet\"}],\"scattergeo\":[{\"marker\":{\"colorbar\":{\"outlinewidth\":0,\"ticks\":\"\"}},\"type\":\"scattergeo\"}],\"scattergl\":[{\"marker\":{\"colorbar\":{\"outlinewidth\":0,\"ticks\":\"\"}},\"type\":\"scattergl\"}],\"scattermapbox\":[{\"marker\":{\"colorbar\":{\"outlinewidth\":0,\"ticks\":\"\"}},\"type\":\"scattermapbox\"}],\"scatterpolar\":[{\"marker\":{\"colorbar\":{\"outlinewidth\":0,\"ticks\":\"\"}},\"type\":\"scatterpolar\"}],\"scatterpolargl\":[{\"marker\":{\"colorbar\":{\"outlinewidth\":0,\"ticks\":\"\"}},\"type\":\"scatterpolargl\"}],\"scatterternary\":[{\"marker\":{\"colorbar\":{\"outlinewidth\":0,\"ticks\":\"\"}},\"type\":\"scatterternary\"}],\"surface\":[{\"colorbar\":{\"outlinewidth\":0,\"ticks\":\"\"},\"colorscale\":[[0.0,\"#0d0887\"],[0.1111111111111111,\"#46039f\"],[0.2222222222222222,\"#7201a8\"],[0.3333333333333333,\"#9c179e\"],[0.4444444444444444,\"#bd3786\"],[0.5555555555555556,\"#d8576b\"],[0.6666666666666666,\"#ed7953\"],[0.7777777777777778,\"#fb9f3a\"],[0.8888888888888888,\"#fdca26\"],[1.0,\"#f0f921\"]],\"type\":\"surface\"}],\"table\":[{\"cells\":{\"fill\":{\"color\":\"#EBF0F8\"},\"line\":{\"color\":\"white\"}},\"header\":{\"fill\":{\"color\":\"#C8D4E3\"},\"line\":{\"color\":\"white\"}},\"type\":\"table\"}]},\"layout\":{\"annotationdefaults\":{\"arrowcolor\":\"#2a3f5f\",\"arrowhead\":0,\"arrowwidth\":1},\"autotypenumbers\":\"strict\",\"coloraxis\":{\"colorbar\":{\"outlinewidth\":0,\"ticks\":\"\"}},\"colorscale\":{\"diverging\":[[0,\"#8e0152\"],[0.1,\"#c51b7d\"],[0.2,\"#de77ae\"],[0.3,\"#f1b6da\"],[0.4,\"#fde0ef\"],[0.5,\"#f7f7f7\"],[0.6,\"#e6f5d0\"],[0.7,\"#b8e186\"],[0.8,\"#7fbc41\"],[0.9,\"#4d9221\"],[1,\"#276419\"]],\"sequential\":[[0.0,\"#0d0887\"],[0.1111111111111111,\"#46039f\"],[0.2222222222222222,\"#7201a8\"],[0.3333333333333333,\"#9c179e\"],[0.4444444444444444,\"#bd3786\"],[0.5555555555555556,\"#d8576b\"],[0.6666666666666666,\"#ed7953\"],[0.7777777777777778,\"#fb9f3a\"],[0.8888888888888888,\"#fdca26\"],[1.0,\"#f0f921\"]],\"sequentialminus\":[[0.0,\"#0d0887\"],[0.1111111111111111,\"#46039f\"],[0.2222222222222222,\"#7201a8\"],[0.3333333333333333,\"#9c179e\"],[0.4444444444444444,\"#bd3786\"],[0.5555555555555556,\"#d8576b\"],[0.6666666666666666,\"#ed7953\"],[0.7777777777777778,\"#fb9f3a\"],[0.8888888888888888,\"#fdca26\"],[1.0,\"#f0f921\"]]},\"colorway\":[\"#636efa\",\"#EF553B\",\"#00cc96\",\"#ab63fa\",\"#FFA15A\",\"#19d3f3\",\"#FF6692\",\"#B6E880\",\"#FF97FF\",\"#FECB52\"],\"font\":{\"color\":\"#2a3f5f\"},\"geo\":{\"bgcolor\":\"white\",\"lakecolor\":\"white\",\"landcolor\":\"#E5ECF6\",\"showlakes\":true,\"showland\":true,\"subunitcolor\":\"white\"},\"hoverlabel\":{\"align\":\"left\"},\"hovermode\":\"closest\",\"mapbox\":{\"style\":\"light\"},\"paper_bgcolor\":\"white\",\"plot_bgcolor\":\"#E5ECF6\",\"polar\":{\"angularaxis\":{\"gridcolor\":\"white\",\"linecolor\":\"white\",\"ticks\":\"\"},\"bgcolor\":\"#E5ECF6\",\"radialaxis\":{\"gridcolor\":\"white\",\"linecolor\":\"white\",\"ticks\":\"\"}},\"scene\":{\"xaxis\":{\"backgroundcolor\":\"#E5ECF6\",\"gridcolor\":\"white\",\"gridwidth\":2,\"linecolor\":\"white\",\"showbackground\":true,\"ticks\":\"\",\"zerolinecolor\":\"white\"},\"yaxis\":{\"backgroundcolor\":\"#E5ECF6\",\"gridcolor\":\"white\",\"gridwidth\":2,\"linecolor\":\"white\",\"showbackground\":true,\"ticks\":\"\",\"zerolinecolor\":\"white\"},\"zaxis\":{\"backgroundcolor\":\"#E5ECF6\",\"gridcolor\":\"white\",\"gridwidth\":2,\"linecolor\":\"white\",\"showbackground\":true,\"ticks\":\"\",\"zerolinecolor\":\"white\"}},\"shapedefaults\":{\"line\":{\"color\":\"#2a3f5f\"}},\"ternary\":{\"aaxis\":{\"gridcolor\":\"white\",\"linecolor\":\"white\",\"ticks\":\"\"},\"baxis\":{\"gridcolor\":\"white\",\"linecolor\":\"white\",\"ticks\":\"\"},\"bgcolor\":\"#E5ECF6\",\"caxis\":{\"gridcolor\":\"white\",\"linecolor\":\"white\",\"ticks\":\"\"}},\"title\":{\"x\":0.05},\"xaxis\":{\"automargin\":true,\"gridcolor\":\"white\",\"linecolor\":\"white\",\"ticks\":\"\",\"title\":{\"standoff\":15},\"zerolinecolor\":\"white\",\"zerolinewidth\":2},\"yaxis\":{\"automargin\":true,\"gridcolor\":\"white\",\"linecolor\":\"white\",\"ticks\":\"\",\"title\":{\"standoff\":15},\"zerolinecolor\":\"white\",\"zerolinewidth\":2}}},\"xaxis\":{\"anchor\":\"y\",\"domain\":[0.0,1.0],\"title\":{\"text\":\"GovernmentEffectiveness\"}},\"yaxis\":{\"anchor\":\"x\",\"domain\":[0.0,1.0],\"title\":{\"text\":\"Innovation_Score\"}},\"coloraxis\":{\"colorbar\":{\"title\":{\"text\":\"project_score_overall\"}},\"colorscale\":[[0.0,\"#0d0887\"],[0.1111111111111111,\"#46039f\"],[0.2222222222222222,\"#7201a8\"],[0.3333333333333333,\"#9c179e\"],[0.4444444444444444,\"#bd3786\"],[0.5555555555555556,\"#d8576b\"],[0.6666666666666666,\"#ed7953\"],[0.7777777777777778,\"#fb9f3a\"],[0.8888888888888888,\"#fdca26\"],[1.0,\"#f0f921\"]]},\"legend\":{\"tracegroupgap\":0},\"margin\":{\"t\":60}},                        {\"responsive\": true}                    ).then(function(){\n",
              "                            \n",
              "var gd = document.getElementById('b1f9d736-fa65-4e3a-b9ad-2171e94107e4');\n",
              "var x = new MutationObserver(function (mutations, observer) {{\n",
              "        var display = window.getComputedStyle(gd).display;\n",
              "        if (!display || display === 'none') {{\n",
              "            console.log([gd, 'removed!']);\n",
              "            Plotly.purge(gd);\n",
              "            observer.disconnect();\n",
              "        }}\n",
              "}});\n",
              "\n",
              "// Listen for the removal of the full notebook cells\n",
              "var notebookContainer = gd.closest('#notebook-container');\n",
              "if (notebookContainer) {{\n",
              "    x.observe(notebookContainer, {childList: true});\n",
              "}}\n",
              "\n",
              "// Listen for the clearing of the current output cell\n",
              "var outputEl = gd.closest('.output');\n",
              "if (outputEl) {{\n",
              "    x.observe(outputEl, {childList: true});\n",
              "}}\n",
              "\n",
              "                        })                };                            </script>        </div>\n",
              "</body>\n",
              "</html>"
            ]
          },
          "metadata": {}
        }
      ]
    },
    {
      "cell_type": "code",
      "source": [
        "fig = px.scatter(df,x=\"Innovation_Score\", y=\"Financial_Development_Index\", color=\"project_score_overall\")\n",
        "fig.show()"
      ],
      "metadata": {
        "colab": {
          "base_uri": "https://localhost:8080/",
          "height": 542
        },
        "id": "qZ5HUe6_c3yI",
        "outputId": "188de764-0e12-49c2-911a-f29b5deb5be6"
      },
      "execution_count": null,
      "outputs": [
        {
          "output_type": "display_data",
          "data": {
            "text/html": [
              "<html>\n",
              "<head><meta charset=\"utf-8\" /></head>\n",
              "<body>\n",
              "    <div>            <script src=\"https://cdnjs.cloudflare.com/ajax/libs/mathjax/2.7.5/MathJax.js?config=TeX-AMS-MML_SVG\"></script><script type=\"text/javascript\">if (window.MathJax) {MathJax.Hub.Config({SVG: {font: \"STIX-Web\"}});}</script>                <script type=\"text/javascript\">window.PlotlyConfig = {MathJaxConfig: 'local'};</script>\n",
              "        <script src=\"https://cdn.plot.ly/plotly-2.8.3.min.js\"></script>                <div id=\"7bb82758-4b7a-4fc1-8da1-3738e3b58932\" class=\"plotly-graph-div\" style=\"height:525px; width:100%;\"></div>            <script type=\"text/javascript\">                                    window.PLOTLYENV=window.PLOTLYENV || {};                                    if (document.getElementById(\"7bb82758-4b7a-4fc1-8da1-3738e3b58932\")) {                    Plotly.newPlot(                        \"7bb82758-4b7a-4fc1-8da1-3738e3b58932\",                        [{\"hovertemplate\":\"Innovation_Score=%{x}<br>Financial_Development_Index=%{y}<br>project_score_overall=%{marker.color}<extra></extra>\",\"legendgroup\":\"\",\"marker\":{\"color\":[2.0,0.0,0.0,0.0,0.0,1.0,2.0,2.0,0.0,0.0,0.0,0.0,0.0,0.0,0.0,1.0,0.0,0.0,0.0,1.0,3.0,2.0,0.0,0.0,0.0,2.0,2.0,1.0,2.0,0.0,0.0,0.0,0.0,0.0,1.0,0.0,0.0,1.0,0.0,0.0,2.0,1.0,0.0,0.0,1.0,0.0,1.0,0.0,2.0,1.0,1.0,2.0,0.0,0.0,0.0,0.0,0.0,0.0,2.0,1.0,0.0,1.0,2.0,1.0,0.0,2.0,1.0,0.0,1.0,1.0,1.0,3.0,0.0,2.0,1.0,0.0,0.0,0.0,0.0,2.0,1.0,0.0,2.0,0.0,0.0,0.0,0.0,1.0,0.0,0.0,0.0,1.0,0.0,1.0,0.0,0.0,0.0,0.0,0.0,0.0,1.0,0.0,0.0,1.0,2.0,0.0,3.0,0.0,1.0,1.0,0.0,1.0,0.0,0.0,1.0,0.0,2.0,1.0,1.0,0.0,0.0,0.0,1.0,0.0,0.0,2.0,2.0,0.0,0.0,0.0,2.0,2.0,0.0,0.0,0.0,0.0,0.0,0.0,0.0,2.0,0.0,0.0,0.0,1.0,0.0,2.0,1.0,0.0,0.0,2.0,0.0,1.0,2.0,0.0,1.0,1.0,0.0,0.0,0.0,2.0,0.0,0.0],\"coloraxis\":\"coloraxis\",\"symbol\":\"circle\"},\"mode\":\"markers\",\"name\":\"\",\"orientation\":\"v\",\"showlegend\":false,\"x\":[42.56,22.70907343,28.86,33.3,15.0,30.54,51.26,50.16,35.19377478,29.32,30.26,38.0143167,22.14,49.78,41.62,30.94,43.71652314,31.2,23.82,33.28,36.98057291,26.63244967,26.78,31.08,27.78570845,53.2,66.98,36.42,53.7,32.82,35.38,26.71477207,24.8,47.06,49.28,57.68,22.30252207,58.06,27.86,22.32,26.4,49.92,26.0,18.1249207,47.28,21.8,58.66,25.6404804,54.3,60.38,34.12,23.6,37.0818881,20.43457314,18.32,37.94,25.0,25.13008322,54.38,24.52,38.58,16.00093784,43.06,28.64,55.02,55.0,35.86,22.57924709,32.74,51.9,46.2,30.06,29.4,54.32,29.54,26.6,24.92,23.45928057,19.81212851,57.26,32.68,44.30708796,30.22,27.68,27.2,19.56165659,21.59543305,40.6,52.84,42.42,16.51341769,30.74,35.04,22.86,33.62,17.9,35.38,39.20924302,20.32684619,48.68,33.26,26.53936649,22.78,35.06,42.54,21.78,21.04,22.5,61.1,51.46,24.04,49.66,30.3,31.18,31.52,22.63965879,34.16,24.0,40.98,26.81499889,44.82,27.32,34.14,37.04,35.16,37.3,33.22,19.01967042,38.31627971,17.93760734,63.24,58.26,45.0,41.64,23.25792068,25.05939058,6.633008306,25.3,19.8532569,37.62,25.44,21.57776909,15.3690823,31.98,26.59081625,37.28,26.74,20.90784686,26.78,37.08,23.68,60.96,33.2,25.95,25.69612514,37.82,22.50444831,27.8584067,14.82,34.06,20.22,21.82],\"xaxis\":\"x\",\"y\":[0.4815689524,0.04124934029,0.1921064208,0.2400397261,0.14489986,0.3049031695,0.6157249709,0.9014582535,0.2937696377,0.1723085518,0.2548488776,0.4171507607,0.253828682,0.6640316248,0.3710464935,0.4099351714,0.6289792973,0.3260284513,0.3082066526,0.6361238162,0.4383200208,0.2044929241,0.3425956766,0.1584430312,0.2109574924,0.8935696383,0.953501453,0.4975267251,0.6367440621,0.3849814584,0.2805417081,0.2773118851,0.248363326,0.5071362257,0.4632493009,0.7228035529,0.1297500717,0.668957601,0.174389792,0.1328470955,0.1543105642,0.2753731658,0.2886863401,0.08246140058,0.8552421232,0.1149082519,0.6433018943,0.206990314,0.8046945532,0.8975812991,0.2899442514,0.1664770891,0.4050946903,0.08640686795,0.08859506622,0.5074208528,0.2220880737,0.1457587704,0.7704015474,0.2065379222,0.4839552244,0.09860392536,0.435899054,0.3572550466,0.6674603621,0.5763569077,0.4488500804,0.1091649789,0.4058057715,0.5089375128,0.7725680868,0.3586694151,0.3626775642,0.8871910373,0.1750488902,0.1212733599,0.1633900652,0.09755716473,0.04872292777,0.830017815,0.4481187811,0.5080331511,0.3224210987,0.2923710247,0.2640838226,0.1370197882,0.1416489929,0.2111376251,0.7318076193,0.2343087023,0.129435312,0.3467213313,0.2261655405,0.09780963634,0.2522787377,0.1123502764,0.3635645558,0.453502665,0.1127169058,0.5353098909,0.4508396188,0.1778286174,0.08398461839,0.3930668036,0.6674868564,0.1290708656,0.2211264248,0.1376935964,0.7091684441,0.6678090791,0.184326676,0.590595454,0.3790515363,0.431973512,0.3821739207,0.1770564839,0.3563108891,0.2286037728,0.4481819222,0.1905696025,0.6817208131,0.1595087573,0.4885838479,0.2730391125,0.2466436476,0.4851525227,0.4557310939,0.09114736815,0.34491388,0.09500737861,0.7670285205,0.7131966154,0.3557169537,0.2843719572,0.01985234995,0.2027520413,0.05120721273,0.2183195551,0.1056780592,0.7165544331,0.137966536,0.09626863028,0.1019643148,0.2363171677,0.2235055243,0.5224305888,0.3549492657,0.1519862616,0.09195657447,0.2017644445,0.09032931303,0.9106420179,0.2718097096,0.2307652036,0.2493520156,0.3787694524,0.1908368294,0.2053910643,0.1082543458,0.6277025739,0.1944782684,0.1611513498],\"yaxis\":\"y\",\"type\":\"scatter\"}],                        {\"template\":{\"data\":{\"bar\":[{\"error_x\":{\"color\":\"#2a3f5f\"},\"error_y\":{\"color\":\"#2a3f5f\"},\"marker\":{\"line\":{\"color\":\"#E5ECF6\",\"width\":0.5},\"pattern\":{\"fillmode\":\"overlay\",\"size\":10,\"solidity\":0.2}},\"type\":\"bar\"}],\"barpolar\":[{\"marker\":{\"line\":{\"color\":\"#E5ECF6\",\"width\":0.5},\"pattern\":{\"fillmode\":\"overlay\",\"size\":10,\"solidity\":0.2}},\"type\":\"barpolar\"}],\"carpet\":[{\"aaxis\":{\"endlinecolor\":\"#2a3f5f\",\"gridcolor\":\"white\",\"linecolor\":\"white\",\"minorgridcolor\":\"white\",\"startlinecolor\":\"#2a3f5f\"},\"baxis\":{\"endlinecolor\":\"#2a3f5f\",\"gridcolor\":\"white\",\"linecolor\":\"white\",\"minorgridcolor\":\"white\",\"startlinecolor\":\"#2a3f5f\"},\"type\":\"carpet\"}],\"choropleth\":[{\"colorbar\":{\"outlinewidth\":0,\"ticks\":\"\"},\"type\":\"choropleth\"}],\"contour\":[{\"colorbar\":{\"outlinewidth\":0,\"ticks\":\"\"},\"colorscale\":[[0.0,\"#0d0887\"],[0.1111111111111111,\"#46039f\"],[0.2222222222222222,\"#7201a8\"],[0.3333333333333333,\"#9c179e\"],[0.4444444444444444,\"#bd3786\"],[0.5555555555555556,\"#d8576b\"],[0.6666666666666666,\"#ed7953\"],[0.7777777777777778,\"#fb9f3a\"],[0.8888888888888888,\"#fdca26\"],[1.0,\"#f0f921\"]],\"type\":\"contour\"}],\"contourcarpet\":[{\"colorbar\":{\"outlinewidth\":0,\"ticks\":\"\"},\"type\":\"contourcarpet\"}],\"heatmap\":[{\"colorbar\":{\"outlinewidth\":0,\"ticks\":\"\"},\"colorscale\":[[0.0,\"#0d0887\"],[0.1111111111111111,\"#46039f\"],[0.2222222222222222,\"#7201a8\"],[0.3333333333333333,\"#9c179e\"],[0.4444444444444444,\"#bd3786\"],[0.5555555555555556,\"#d8576b\"],[0.6666666666666666,\"#ed7953\"],[0.7777777777777778,\"#fb9f3a\"],[0.8888888888888888,\"#fdca26\"],[1.0,\"#f0f921\"]],\"type\":\"heatmap\"}],\"heatmapgl\":[{\"colorbar\":{\"outlinewidth\":0,\"ticks\":\"\"},\"colorscale\":[[0.0,\"#0d0887\"],[0.1111111111111111,\"#46039f\"],[0.2222222222222222,\"#7201a8\"],[0.3333333333333333,\"#9c179e\"],[0.4444444444444444,\"#bd3786\"],[0.5555555555555556,\"#d8576b\"],[0.6666666666666666,\"#ed7953\"],[0.7777777777777778,\"#fb9f3a\"],[0.8888888888888888,\"#fdca26\"],[1.0,\"#f0f921\"]],\"type\":\"heatmapgl\"}],\"histogram\":[{\"marker\":{\"pattern\":{\"fillmode\":\"overlay\",\"size\":10,\"solidity\":0.2}},\"type\":\"histogram\"}],\"histogram2d\":[{\"colorbar\":{\"outlinewidth\":0,\"ticks\":\"\"},\"colorscale\":[[0.0,\"#0d0887\"],[0.1111111111111111,\"#46039f\"],[0.2222222222222222,\"#7201a8\"],[0.3333333333333333,\"#9c179e\"],[0.4444444444444444,\"#bd3786\"],[0.5555555555555556,\"#d8576b\"],[0.6666666666666666,\"#ed7953\"],[0.7777777777777778,\"#fb9f3a\"],[0.8888888888888888,\"#fdca26\"],[1.0,\"#f0f921\"]],\"type\":\"histogram2d\"}],\"histogram2dcontour\":[{\"colorbar\":{\"outlinewidth\":0,\"ticks\":\"\"},\"colorscale\":[[0.0,\"#0d0887\"],[0.1111111111111111,\"#46039f\"],[0.2222222222222222,\"#7201a8\"],[0.3333333333333333,\"#9c179e\"],[0.4444444444444444,\"#bd3786\"],[0.5555555555555556,\"#d8576b\"],[0.6666666666666666,\"#ed7953\"],[0.7777777777777778,\"#fb9f3a\"],[0.8888888888888888,\"#fdca26\"],[1.0,\"#f0f921\"]],\"type\":\"histogram2dcontour\"}],\"mesh3d\":[{\"colorbar\":{\"outlinewidth\":0,\"ticks\":\"\"},\"type\":\"mesh3d\"}],\"parcoords\":[{\"line\":{\"colorbar\":{\"outlinewidth\":0,\"ticks\":\"\"}},\"type\":\"parcoords\"}],\"pie\":[{\"automargin\":true,\"type\":\"pie\"}],\"scatter\":[{\"marker\":{\"colorbar\":{\"outlinewidth\":0,\"ticks\":\"\"}},\"type\":\"scatter\"}],\"scatter3d\":[{\"line\":{\"colorbar\":{\"outlinewidth\":0,\"ticks\":\"\"}},\"marker\":{\"colorbar\":{\"outlinewidth\":0,\"ticks\":\"\"}},\"type\":\"scatter3d\"}],\"scattercarpet\":[{\"marker\":{\"colorbar\":{\"outlinewidth\":0,\"ticks\":\"\"}},\"type\":\"scattercarpet\"}],\"scattergeo\":[{\"marker\":{\"colorbar\":{\"outlinewidth\":0,\"ticks\":\"\"}},\"type\":\"scattergeo\"}],\"scattergl\":[{\"marker\":{\"colorbar\":{\"outlinewidth\":0,\"ticks\":\"\"}},\"type\":\"scattergl\"}],\"scattermapbox\":[{\"marker\":{\"colorbar\":{\"outlinewidth\":0,\"ticks\":\"\"}},\"type\":\"scattermapbox\"}],\"scatterpolar\":[{\"marker\":{\"colorbar\":{\"outlinewidth\":0,\"ticks\":\"\"}},\"type\":\"scatterpolar\"}],\"scatterpolargl\":[{\"marker\":{\"colorbar\":{\"outlinewidth\":0,\"ticks\":\"\"}},\"type\":\"scatterpolargl\"}],\"scatterternary\":[{\"marker\":{\"colorbar\":{\"outlinewidth\":0,\"ticks\":\"\"}},\"type\":\"scatterternary\"}],\"surface\":[{\"colorbar\":{\"outlinewidth\":0,\"ticks\":\"\"},\"colorscale\":[[0.0,\"#0d0887\"],[0.1111111111111111,\"#46039f\"],[0.2222222222222222,\"#7201a8\"],[0.3333333333333333,\"#9c179e\"],[0.4444444444444444,\"#bd3786\"],[0.5555555555555556,\"#d8576b\"],[0.6666666666666666,\"#ed7953\"],[0.7777777777777778,\"#fb9f3a\"],[0.8888888888888888,\"#fdca26\"],[1.0,\"#f0f921\"]],\"type\":\"surface\"}],\"table\":[{\"cells\":{\"fill\":{\"color\":\"#EBF0F8\"},\"line\":{\"color\":\"white\"}},\"header\":{\"fill\":{\"color\":\"#C8D4E3\"},\"line\":{\"color\":\"white\"}},\"type\":\"table\"}]},\"layout\":{\"annotationdefaults\":{\"arrowcolor\":\"#2a3f5f\",\"arrowhead\":0,\"arrowwidth\":1},\"autotypenumbers\":\"strict\",\"coloraxis\":{\"colorbar\":{\"outlinewidth\":0,\"ticks\":\"\"}},\"colorscale\":{\"diverging\":[[0,\"#8e0152\"],[0.1,\"#c51b7d\"],[0.2,\"#de77ae\"],[0.3,\"#f1b6da\"],[0.4,\"#fde0ef\"],[0.5,\"#f7f7f7\"],[0.6,\"#e6f5d0\"],[0.7,\"#b8e186\"],[0.8,\"#7fbc41\"],[0.9,\"#4d9221\"],[1,\"#276419\"]],\"sequential\":[[0.0,\"#0d0887\"],[0.1111111111111111,\"#46039f\"],[0.2222222222222222,\"#7201a8\"],[0.3333333333333333,\"#9c179e\"],[0.4444444444444444,\"#bd3786\"],[0.5555555555555556,\"#d8576b\"],[0.6666666666666666,\"#ed7953\"],[0.7777777777777778,\"#fb9f3a\"],[0.8888888888888888,\"#fdca26\"],[1.0,\"#f0f921\"]],\"sequentialminus\":[[0.0,\"#0d0887\"],[0.1111111111111111,\"#46039f\"],[0.2222222222222222,\"#7201a8\"],[0.3333333333333333,\"#9c179e\"],[0.4444444444444444,\"#bd3786\"],[0.5555555555555556,\"#d8576b\"],[0.6666666666666666,\"#ed7953\"],[0.7777777777777778,\"#fb9f3a\"],[0.8888888888888888,\"#fdca26\"],[1.0,\"#f0f921\"]]},\"colorway\":[\"#636efa\",\"#EF553B\",\"#00cc96\",\"#ab63fa\",\"#FFA15A\",\"#19d3f3\",\"#FF6692\",\"#B6E880\",\"#FF97FF\",\"#FECB52\"],\"font\":{\"color\":\"#2a3f5f\"},\"geo\":{\"bgcolor\":\"white\",\"lakecolor\":\"white\",\"landcolor\":\"#E5ECF6\",\"showlakes\":true,\"showland\":true,\"subunitcolor\":\"white\"},\"hoverlabel\":{\"align\":\"left\"},\"hovermode\":\"closest\",\"mapbox\":{\"style\":\"light\"},\"paper_bgcolor\":\"white\",\"plot_bgcolor\":\"#E5ECF6\",\"polar\":{\"angularaxis\":{\"gridcolor\":\"white\",\"linecolor\":\"white\",\"ticks\":\"\"},\"bgcolor\":\"#E5ECF6\",\"radialaxis\":{\"gridcolor\":\"white\",\"linecolor\":\"white\",\"ticks\":\"\"}},\"scene\":{\"xaxis\":{\"backgroundcolor\":\"#E5ECF6\",\"gridcolor\":\"white\",\"gridwidth\":2,\"linecolor\":\"white\",\"showbackground\":true,\"ticks\":\"\",\"zerolinecolor\":\"white\"},\"yaxis\":{\"backgroundcolor\":\"#E5ECF6\",\"gridcolor\":\"white\",\"gridwidth\":2,\"linecolor\":\"white\",\"showbackground\":true,\"ticks\":\"\",\"zerolinecolor\":\"white\"},\"zaxis\":{\"backgroundcolor\":\"#E5ECF6\",\"gridcolor\":\"white\",\"gridwidth\":2,\"linecolor\":\"white\",\"showbackground\":true,\"ticks\":\"\",\"zerolinecolor\":\"white\"}},\"shapedefaults\":{\"line\":{\"color\":\"#2a3f5f\"}},\"ternary\":{\"aaxis\":{\"gridcolor\":\"white\",\"linecolor\":\"white\",\"ticks\":\"\"},\"baxis\":{\"gridcolor\":\"white\",\"linecolor\":\"white\",\"ticks\":\"\"},\"bgcolor\":\"#E5ECF6\",\"caxis\":{\"gridcolor\":\"white\",\"linecolor\":\"white\",\"ticks\":\"\"}},\"title\":{\"x\":0.05},\"xaxis\":{\"automargin\":true,\"gridcolor\":\"white\",\"linecolor\":\"white\",\"ticks\":\"\",\"title\":{\"standoff\":15},\"zerolinecolor\":\"white\",\"zerolinewidth\":2},\"yaxis\":{\"automargin\":true,\"gridcolor\":\"white\",\"linecolor\":\"white\",\"ticks\":\"\",\"title\":{\"standoff\":15},\"zerolinecolor\":\"white\",\"zerolinewidth\":2}}},\"xaxis\":{\"anchor\":\"y\",\"domain\":[0.0,1.0],\"title\":{\"text\":\"Innovation_Score\"}},\"yaxis\":{\"anchor\":\"x\",\"domain\":[0.0,1.0],\"title\":{\"text\":\"Financial_Development_Index\"}},\"coloraxis\":{\"colorbar\":{\"title\":{\"text\":\"project_score_overall\"}},\"colorscale\":[[0.0,\"#0d0887\"],[0.1111111111111111,\"#46039f\"],[0.2222222222222222,\"#7201a8\"],[0.3333333333333333,\"#9c179e\"],[0.4444444444444444,\"#bd3786\"],[0.5555555555555556,\"#d8576b\"],[0.6666666666666666,\"#ed7953\"],[0.7777777777777778,\"#fb9f3a\"],[0.8888888888888888,\"#fdca26\"],[1.0,\"#f0f921\"]]},\"legend\":{\"tracegroupgap\":0},\"margin\":{\"t\":60}},                        {\"responsive\": true}                    ).then(function(){\n",
              "                            \n",
              "var gd = document.getElementById('7bb82758-4b7a-4fc1-8da1-3738e3b58932');\n",
              "var x = new MutationObserver(function (mutations, observer) {{\n",
              "        var display = window.getComputedStyle(gd).display;\n",
              "        if (!display || display === 'none') {{\n",
              "            console.log([gd, 'removed!']);\n",
              "            Plotly.purge(gd);\n",
              "            observer.disconnect();\n",
              "        }}\n",
              "}});\n",
              "\n",
              "// Listen for the removal of the full notebook cells\n",
              "var notebookContainer = gd.closest('#notebook-container');\n",
              "if (notebookContainer) {{\n",
              "    x.observe(notebookContainer, {childList: true});\n",
              "}}\n",
              "\n",
              "// Listen for the clearing of the current output cell\n",
              "var outputEl = gd.closest('.output');\n",
              "if (outputEl) {{\n",
              "    x.observe(outputEl, {childList: true});\n",
              "}}\n",
              "\n",
              "                        })                };                            </script>        </div>\n",
              "</body>\n",
              "</html>"
            ]
          },
          "metadata": {}
        }
      ]
    },
    {
      "cell_type": "code",
      "source": [
        "plt.figure(figsize=(18,14))\n",
        "sns.heatmap(data = df.corr(), annot = True, cmap = 'viridis')"
      ],
      "metadata": {
        "colab": {
          "base_uri": "https://localhost:8080/",
          "height": 769
        },
        "id": "ZKCSIiFflIcm",
        "outputId": "5bba8037-749e-4c90-9670-f7215c4859e3"
      },
      "execution_count": null,
      "outputs": [
        {
          "output_type": "execute_result",
          "data": {
            "text/plain": [
              "<matplotlib.axes._subplots.AxesSubplot at 0x7f44a2949d50>"
            ]
          },
          "metadata": {},
          "execution_count": 17
        },
        {
          "output_type": "display_data",
          "data": {
            "text/plain": [
              "<Figure size 1296x1008 with 2 Axes>"
            ],
            "image/png": "[encoded data removed]"
          },
          "metadata": {
            "needs_background": "light"
          }
        }
      ]
    },
    {
      "cell_type": "markdown",
      "metadata": {
        "id": "169IV-yO2BZd"
      },
      "source": [
        "**Project Score Overall**"
      ]
    },
    {
      "cell_type": "code",
      "execution_count": null,
      "metadata": {
        "id": "IXhkfVjl7uRr"
      },
      "outputs": [],
      "source": [
        "X = df.drop(['ISO2','country_name','project_score_overall','project_score_retail','project_score_wholesale','search_interest_normalized','central_bankers_speech_stance_index_normalized'], axis=1)\n",
        "Y = df['project_score_overall']"
      ]
    },
    {
      "cell_type": "code",
      "execution_count": null,
      "metadata": {
        "colab": {
          "base_uri": "https://localhost:8080/"
        },
        "id": "FwwDOIenzVat",
        "outputId": "d44d045f-3ba2-43b3-974d-4616a12c9717"
      },
      "outputs": [
        {
          "output_type": "execute_result",
          "data": {
            "text/plain": [
              "((162, 17), (162,))"
            ]
          },
          "metadata": {},
          "execution_count": 25
        }
      ],
      "source": [
        "X.shape, Y.shape"
      ]
    },
    {
      "cell_type": "code",
      "execution_count": null,
      "metadata": {
        "id": "MPIEOf3BCBGD"
      },
      "outputs": [],
      "source": [
        "# split X and y into training and testing sets\n",
        "\n",
        "from sklearn.model_selection import train_test_split\n",
        "X_train, X_test, y_train, y_test = train_test_split(X, Y, test_size = 0.25, random_state = 42)"
      ]
    },
    {
      "cell_type": "markdown",
      "metadata": {
        "id": "7RDbhQL-2Grl"
      },
      "source": [
        "**Project Score Retail**"
      ]
    },
    {
      "cell_type": "code",
      "execution_count": null,
      "metadata": {
        "id": "5UYBoaXF15o_"
      },
      "outputs": [],
      "source": [
        "X = df.drop(['ISO2','country_name','project_score_overall','project_score_retail','project_score_wholesale','search_interest_normalized','central_bankers_speech_stance_index_normalized'], axis=1)\n",
        "Y = df['project_score_retail']"
      ]
    },
    {
      "cell_type": "code",
      "execution_count": null,
      "metadata": {
        "colab": {
          "base_uri": "https://localhost:8080/"
        },
        "id": "E_RkPCIu2bQu",
        "outputId": "95ca069e-5010-48bc-cf2e-85736f00bdd0"
      },
      "outputs": [
        {
          "output_type": "execute_result",
          "data": {
            "text/plain": [
              "((162, 17), (162,))"
            ]
          },
          "metadata": {},
          "execution_count": 8
        }
      ],
      "source": [
        "X.shape, Y.shape"
      ]
    },
    {
      "cell_type": "code",
      "execution_count": null,
      "metadata": {
        "id": "xaYXQE7T2dW2"
      },
      "outputs": [],
      "source": [
        "# split X and y into training and testing sets\n",
        "\n",
        "from sklearn.model_selection import train_test_split\n",
        "X_train, X_test, y_train, y_test = train_test_split(X, Y, test_size = 0.25, random_state = 42)"
      ]
    },
    {
      "cell_type": "markdown",
      "metadata": {
        "id": "7OlSKXPW2LSk"
      },
      "source": [
        "**Project Score Wholesale**"
      ]
    },
    {
      "cell_type": "code",
      "execution_count": null,
      "metadata": {
        "id": "2UZSsxXh2fuq"
      },
      "outputs": [],
      "source": [
        "X = df.drop(['ISO2','country_name','project_score_overall','project_score_retail','project_score_wholesale','search_interest_normalized','central_bankers_speech_stance_index_normalized'], axis=1)\n",
        "Y = df['project_score_wholesale']"
      ]
    },
    {
      "cell_type": "code",
      "execution_count": null,
      "metadata": {
        "colab": {
          "base_uri": "https://localhost:8080/"
        },
        "id": "FNYKFzPf2hQW",
        "outputId": "925f6c3c-ebed-47d5-e961-a15ede379773"
      },
      "outputs": [
        {
          "output_type": "execute_result",
          "data": {
            "text/plain": [
              "((162, 17), (162,))"
            ]
          },
          "metadata": {},
          "execution_count": 97
        }
      ],
      "source": [
        "X.shape, Y.shape"
      ]
    },
    {
      "cell_type": "code",
      "execution_count": null,
      "metadata": {
        "id": "0x0KhXkr2jFA"
      },
      "outputs": [],
      "source": [
        "# split X and y into training and testing sets\n",
        "\n",
        "from sklearn.model_selection import train_test_split\n",
        "X_train, X_test, y_train, y_test = train_test_split(X, Y, test_size = 0.20, random_state = 1)"
      ]
    },
    {
      "cell_type": "markdown",
      "metadata": {
        "id": "pGgp83_8R4SF"
      },
      "source": [
        "**Voting Classifier**"
      ]
    },
    {
      "cell_type": "code",
      "execution_count": null,
      "metadata": {
        "id": "XXYTPGhRSQFg"
      },
      "outputs": [],
      "source": [
        "from sklearn.linear_model import LogisticRegression\n",
        "from sklearn.ensemble import VotingClassifier\n",
        "from sklearn.svm import SVC\n",
        "from sklearn.naive_bayes import GaussianNB"
      ]
    },
    {
      "cell_type": "code",
      "execution_count": null,
      "metadata": {
        "colab": {
          "base_uri": "https://localhost:8080/"
        },
        "id": "5Nzp6Wx4R7ol",
        "outputId": "0d92fa1f-80dc-48bc-8673-9f65ec1eaff8"
      },
      "outputs": [
        {
          "name": "stderr",
          "output_type": "stream",
          "text": [
            "/usr/local/lib/python3.7/dist-packages/sklearn/linear_model/_logistic.py:818: ConvergenceWarning: lbfgs failed to converge (status=1):\n",
            "STOP: TOTAL NO. of ITERATIONS REACHED LIMIT.\n",
            "\n",
            "Increase the number of iterations (max_iter) or scale the data as shown in:\n",
            "    https://scikit-learn.org/stable/modules/preprocessing.html\n",
            "Please also refer to the documentation for alternative solver options:\n",
            "    https://scikit-learn.org/stable/modules/linear_model.html#logistic-regression\n",
            "  extra_warning_msg=_LOGISTIC_SOLVER_CONVERGENCE_MSG,\n"
          ]
        },
        {
          "data": {
            "text/plain": [
              "VotingClassifier(estimators=[('LR', LogisticRegression(random_state=42)),\n",
              "                             ('RF', RandomForestClassifier(random_state=42)),\n",
              "                             ('GNB', GaussianNB()),\n",
              "                             ('SVC', SVC(probability=True, random_state=42))],\n",
              "                 voting='soft', weights=[1, 2, 1, 1])"
            ]
          },
          "execution_count": 19,
          "metadata": {},
          "output_type": "execute_result"
        }
      ],
      "source": [
        "clf1 = LogisticRegression(random_state=42)\n",
        "clf2 = RandomForestClassifier(random_state=42)\n",
        "clf3 = GaussianNB()\n",
        "clf4 = SVC(probability=True, random_state=42)\n",
        "\n",
        "eclf = VotingClassifier(estimators=[('LR', clf1), ('RF', clf2), ('GNB', clf3), ('SVC', clf4)],\n",
        "                        voting='soft', weights=[1,2,1,1])\n",
        "\n",
        "eclf.fit(X_train, y_train)"
      ]
    },
    {
      "cell_type": "code",
      "execution_count": null,
      "metadata": {
        "colab": {
          "base_uri": "https://localhost:8080/"
        },
        "id": "DQsOfal7S5Gf",
        "outputId": "83d3a59e-d429-4872-b098-0378b9b80a01"
      },
      "outputs": [
        {
          "data": {
            "text/plain": [
              "array([0., 2., 2., 2., 0., 1., 0., 0., 0., 0., 2., 0., 0., 2., 0., 2., 0.,\n",
              "       2., 0., 0., 0., 0., 0., 0., 0., 0., 2., 0., 0., 0., 0., 0., 0., 1.,\n",
              "       0., 0., 0., 0., 1., 0., 1.])"
            ]
          },
          "execution_count": 20,
          "metadata": {},
          "output_type": "execute_result"
        }
      ],
      "source": [
        "eclf.predict(X_test)"
      ]
    },
    {
      "cell_type": "code",
      "execution_count": null,
      "metadata": {
        "colab": {
          "base_uri": "https://localhost:8080/"
        },
        "id": "VdX_rdRGTiV0",
        "outputId": "e1555fbe-c344-49aa-9a71-e36dfecdb6fe"
      },
      "outputs": [
        {
          "data": {
            "text/plain": [
              "0.7073170731707317"
            ]
          },
          "execution_count": 21,
          "metadata": {},
          "output_type": "execute_result"
        }
      ],
      "source": [
        "eclf.score(X_test,y_test)"
      ]
    },
    {
      "cell_type": "markdown",
      "metadata": {
        "id": "yNOKjoH3TDqR"
      },
      "source": [
        "**Random Forest**"
      ]
    },
    {
      "cell_type": "code",
      "execution_count": null,
      "metadata": {
        "id": "ILWA1VjXqxht"
      },
      "outputs": [],
      "source": [
        "from sklearn.tree import DecisionTreeClassifier, export_graphviz\n",
        "from sklearn.ensemble import RandomForestClassifier\n",
        "from sklearn import tree\n",
        "from sklearn.model_selection import train_test_split, GridSearchCV\n",
        "from sklearn.preprocessing import StandardScaler\n",
        "from sklearn.metrics import accuracy_score, precision_score, recall_score, f1_score,confusion_matrix"
      ]
    },
    {
      "cell_type": "code",
      "execution_count": null,
      "metadata": {
        "colab": {
          "base_uri": "https://localhost:8080/"
        },
        "id": "0Wulul-wetgw",
        "outputId": "a78bb64d-964b-409e-bf40-237a58e12259"
      },
      "outputs": [
        {
          "output_type": "execute_result",
          "data": {
            "text/plain": [
              "array([[27,  1,  1],\n",
              "       [ 2,  4,  2],\n",
              "       [ 1,  0,  3]])"
            ]
          },
          "metadata": {},
          "execution_count": 29
        }
      ],
      "source": [
        "rf = RandomForestClassifier(random_state=42)\n",
        "\n",
        "rf.fit(X_train,y_train)\n",
        "\n",
        "prediction = rf.predict(X_test)\n",
        "\n",
        "confusion_matrix(y_test, prediction)\n",
        "#score = rf.score(X_test, y_test)\n",
        "#print('Random Forest Accuracy: %.2f' %score)\n"
      ]
    },
    {
      "cell_type": "code",
      "source": [
        "f1_score(y_test, prediction, average='macro')\n"
      ],
      "metadata": {
        "colab": {
          "base_uri": "https://localhost:8080/"
        },
        "id": "cmbzASBRJl_j",
        "outputId": "549867db-1776-410b-bd90-f4d8fb05ce5d"
      },
      "execution_count": null,
      "outputs": [
        {
          "output_type": "execute_result",
          "data": {
            "text/plain": [
              "0.710212950890917"
            ]
          },
          "metadata": {},
          "execution_count": 36
        }
      ]
    },
    {
      "cell_type": "code",
      "source": [
        "precision_score(y_test, prediction, average='macro')"
      ],
      "metadata": {
        "colab": {
          "base_uri": "https://localhost:8080/"
        },
        "id": "F3jOGsKBKBoD",
        "outputId": "3ecea0fa-a6cc-4388-82cf-bfa0809f8d89"
      },
      "execution_count": null,
      "outputs": [
        {
          "output_type": "execute_result",
          "data": {
            "text/plain": [
              "0.7333333333333334"
            ]
          },
          "metadata": {},
          "execution_count": 37
        }
      ]
    },
    {
      "cell_type": "code",
      "source": [
        "accuracy_score(y_test, prediction)"
      ],
      "metadata": {
        "colab": {
          "base_uri": "https://localhost:8080/"
        },
        "id": "s8qu61XDKiuM",
        "outputId": "047cf9e8-17d1-416d-c8d9-a97f7d1a138b"
      },
      "execution_count": null,
      "outputs": [
        {
          "output_type": "execute_result",
          "data": {
            "text/plain": [
              "0.8292682926829268"
            ]
          },
          "metadata": {},
          "execution_count": 40
        }
      ]
    },
    {
      "cell_type": "code",
      "execution_count": null,
      "metadata": {
        "id": "HpYQqUxfW6x7"
      },
      "outputs": [],
      "source": [
        "import pickle\n",
        "pickle.dump(rf,open('model_score_wholesale.pkl','wb'))"
      ]
    },
    {
      "cell_type": "code",
      "execution_count": null,
      "metadata": {
        "colab": {
          "base_uri": "https://localhost:8080/"
        },
        "id": "_Um-WFW-hKJJ",
        "outputId": "7547eaf3-32cd-4425-edcd-ce27f49b79b6"
      },
      "outputs": [
        {
          "output_type": "execute_result",
          "data": {
            "text/plain": [
              "1.0"
            ]
          },
          "metadata": {},
          "execution_count": 12
        }
      ],
      "source": [
        "y_pred_train_rf = rf.predict(X_train)\n",
        "accuracy_score(y_train,y_pred_train_rf)"
      ]
    },
    {
      "cell_type": "markdown",
      "metadata": {
        "id": "bPglEJUB0Yzv"
      },
      "source": [
        "**XGBOOST**"
      ]
    },
    {
      "cell_type": "code",
      "execution_count": null,
      "metadata": {
        "id": "HF7mowxc0jlW"
      },
      "outputs": [],
      "source": [
        "from xgboost import XGBClassifier\n"
      ]
    },
    {
      "cell_type": "code",
      "execution_count": null,
      "metadata": {
        "id": "z-c_i9P90mh9"
      },
      "outputs": [],
      "source": [
        "X_train, X_test, y_train, y_test = train_test_split(X, Y, test_size=0.20, random_state=42)\n",
        "# define the model\n",
        "model = XGBClassifier( n_estimators =100,random_state=42)\n",
        "# define the datasets to evaluate each iteration\n",
        "#evalset = [(X_train, y_train), (X_test,y_test)]"
      ]
    },
    {
      "cell_type": "code",
      "execution_count": null,
      "metadata": {
        "colab": {
          "base_uri": "https://localhost:8080/"
        },
        "id": "WSzxxK8BIuHC",
        "outputId": "347bf0d7-24b1-49a2-b522-af22f990898f"
      },
      "outputs": [
        {
          "output_type": "stream",
          "name": "stdout",
          "text": [
            "[0]\tvalidation_0-merror:0.20155\tvalidation_1-merror:0.121212\n",
            "[1]\tvalidation_0-merror:0.209302\tvalidation_1-merror:0.151515\n",
            "[2]\tvalidation_0-merror:0.162791\tvalidation_1-merror:0.181818\n",
            "[3]\tvalidation_0-merror:0.178295\tvalidation_1-merror:0.151515\n",
            "[4]\tvalidation_0-merror:0.178295\tvalidation_1-merror:0.151515\n",
            "[5]\tvalidation_0-merror:0.170543\tvalidation_1-merror:0.151515\n",
            "[6]\tvalidation_0-merror:0.178295\tvalidation_1-merror:0.151515\n",
            "[7]\tvalidation_0-merror:0.147287\tvalidation_1-merror:0.151515\n",
            "[8]\tvalidation_0-merror:0.155039\tvalidation_1-merror:0.121212\n",
            "[9]\tvalidation_0-merror:0.131783\tvalidation_1-merror:0.121212\n",
            "[10]\tvalidation_0-merror:0.108527\tvalidation_1-merror:0.151515\n",
            "[11]\tvalidation_0-merror:0.100775\tvalidation_1-merror:0.121212\n",
            "[12]\tvalidation_0-merror:0.093023\tvalidation_1-merror:0.151515\n",
            "[13]\tvalidation_0-merror:0.093023\tvalidation_1-merror:0.151515\n",
            "[14]\tvalidation_0-merror:0.093023\tvalidation_1-merror:0.121212\n",
            "[15]\tvalidation_0-merror:0.093023\tvalidation_1-merror:0.151515\n",
            "[16]\tvalidation_0-merror:0.093023\tvalidation_1-merror:0.151515\n",
            "[17]\tvalidation_0-merror:0.093023\tvalidation_1-merror:0.181818\n",
            "[18]\tvalidation_0-merror:0.093023\tvalidation_1-merror:0.151515\n",
            "[19]\tvalidation_0-merror:0.085271\tvalidation_1-merror:0.151515\n",
            "[20]\tvalidation_0-merror:0.077519\tvalidation_1-merror:0.151515\n",
            "[21]\tvalidation_0-merror:0.069767\tvalidation_1-merror:0.151515\n",
            "[22]\tvalidation_0-merror:0.069767\tvalidation_1-merror:0.151515\n",
            "[23]\tvalidation_0-merror:0.054264\tvalidation_1-merror:0.181818\n",
            "[24]\tvalidation_0-merror:0.054264\tvalidation_1-merror:0.181818\n",
            "[25]\tvalidation_0-merror:0.054264\tvalidation_1-merror:0.181818\n",
            "[26]\tvalidation_0-merror:0.054264\tvalidation_1-merror:0.181818\n",
            "[27]\tvalidation_0-merror:0.046512\tvalidation_1-merror:0.151515\n",
            "[28]\tvalidation_0-merror:0.046512\tvalidation_1-merror:0.151515\n",
            "[29]\tvalidation_0-merror:0.046512\tvalidation_1-merror:0.181818\n",
            "[30]\tvalidation_0-merror:0.046512\tvalidation_1-merror:0.212121\n",
            "[31]\tvalidation_0-merror:0.046512\tvalidation_1-merror:0.181818\n",
            "[32]\tvalidation_0-merror:0.046512\tvalidation_1-merror:0.181818\n",
            "[33]\tvalidation_0-merror:0.046512\tvalidation_1-merror:0.181818\n",
            "[34]\tvalidation_0-merror:0.046512\tvalidation_1-merror:0.181818\n",
            "[35]\tvalidation_0-merror:0.046512\tvalidation_1-merror:0.181818\n",
            "[36]\tvalidation_0-merror:0.046512\tvalidation_1-merror:0.181818\n",
            "[37]\tvalidation_0-merror:0.046512\tvalidation_1-merror:0.181818\n",
            "[38]\tvalidation_0-merror:0.03876\tvalidation_1-merror:0.181818\n",
            "[39]\tvalidation_0-merror:0.03876\tvalidation_1-merror:0.181818\n",
            "[40]\tvalidation_0-merror:0.03876\tvalidation_1-merror:0.181818\n",
            "[41]\tvalidation_0-merror:0.03876\tvalidation_1-merror:0.181818\n",
            "[42]\tvalidation_0-merror:0.023256\tvalidation_1-merror:0.181818\n",
            "[43]\tvalidation_0-merror:0.023256\tvalidation_1-merror:0.181818\n",
            "[44]\tvalidation_0-merror:0.023256\tvalidation_1-merror:0.181818\n",
            "[45]\tvalidation_0-merror:0.023256\tvalidation_1-merror:0.181818\n",
            "[46]\tvalidation_0-merror:0.023256\tvalidation_1-merror:0.181818\n",
            "[47]\tvalidation_0-merror:0.023256\tvalidation_1-merror:0.181818\n",
            "[48]\tvalidation_0-merror:0.023256\tvalidation_1-merror:0.181818\n",
            "[49]\tvalidation_0-merror:0.023256\tvalidation_1-merror:0.181818\n",
            "[50]\tvalidation_0-merror:0.023256\tvalidation_1-merror:0.181818\n",
            "[51]\tvalidation_0-merror:0.023256\tvalidation_1-merror:0.181818\n",
            "[52]\tvalidation_0-merror:0.023256\tvalidation_1-merror:0.181818\n",
            "[53]\tvalidation_0-merror:0.023256\tvalidation_1-merror:0.181818\n",
            "[54]\tvalidation_0-merror:0.015504\tvalidation_1-merror:0.181818\n",
            "[55]\tvalidation_0-merror:0.015504\tvalidation_1-merror:0.181818\n",
            "[56]\tvalidation_0-merror:0.015504\tvalidation_1-merror:0.181818\n",
            "[57]\tvalidation_0-merror:0.015504\tvalidation_1-merror:0.181818\n",
            "[58]\tvalidation_0-merror:0.015504\tvalidation_1-merror:0.181818\n",
            "[59]\tvalidation_0-merror:0.015504\tvalidation_1-merror:0.181818\n",
            "[60]\tvalidation_0-merror:0.007752\tvalidation_1-merror:0.181818\n",
            "[61]\tvalidation_0-merror:0.007752\tvalidation_1-merror:0.151515\n",
            "[62]\tvalidation_0-merror:0.007752\tvalidation_1-merror:0.181818\n",
            "[63]\tvalidation_0-merror:0.007752\tvalidation_1-merror:0.181818\n",
            "[64]\tvalidation_0-merror:0.007752\tvalidation_1-merror:0.151515\n",
            "[65]\tvalidation_0-merror:0.007752\tvalidation_1-merror:0.151515\n",
            "[66]\tvalidation_0-merror:0.007752\tvalidation_1-merror:0.151515\n",
            "[67]\tvalidation_0-merror:0.007752\tvalidation_1-merror:0.151515\n",
            "[68]\tvalidation_0-merror:0.007752\tvalidation_1-merror:0.151515\n",
            "[69]\tvalidation_0-merror:0.007752\tvalidation_1-merror:0.181818\n",
            "[70]\tvalidation_0-merror:0\tvalidation_1-merror:0.181818\n",
            "[71]\tvalidation_0-merror:0\tvalidation_1-merror:0.181818\n",
            "[72]\tvalidation_0-merror:0\tvalidation_1-merror:0.181818\n",
            "[73]\tvalidation_0-merror:0\tvalidation_1-merror:0.181818\n",
            "[74]\tvalidation_0-merror:0\tvalidation_1-merror:0.181818\n",
            "[75]\tvalidation_0-merror:0\tvalidation_1-merror:0.181818\n",
            "[76]\tvalidation_0-merror:0\tvalidation_1-merror:0.151515\n",
            "[77]\tvalidation_0-merror:0\tvalidation_1-merror:0.151515\n",
            "[78]\tvalidation_0-merror:0\tvalidation_1-merror:0.151515\n",
            "[79]\tvalidation_0-merror:0\tvalidation_1-merror:0.151515\n",
            "[80]\tvalidation_0-merror:0\tvalidation_1-merror:0.151515\n",
            "[81]\tvalidation_0-merror:0\tvalidation_1-merror:0.151515\n",
            "[82]\tvalidation_0-merror:0\tvalidation_1-merror:0.151515\n",
            "[83]\tvalidation_0-merror:0\tvalidation_1-merror:0.151515\n",
            "[84]\tvalidation_0-merror:0\tvalidation_1-merror:0.151515\n",
            "[85]\tvalidation_0-merror:0\tvalidation_1-merror:0.151515\n",
            "[86]\tvalidation_0-merror:0\tvalidation_1-merror:0.151515\n",
            "[87]\tvalidation_0-merror:0\tvalidation_1-merror:0.151515\n",
            "[88]\tvalidation_0-merror:0\tvalidation_1-merror:0.151515\n",
            "[89]\tvalidation_0-merror:0\tvalidation_1-merror:0.151515\n",
            "[90]\tvalidation_0-merror:0\tvalidation_1-merror:0.181818\n",
            "[91]\tvalidation_0-merror:0\tvalidation_1-merror:0.181818\n",
            "[92]\tvalidation_0-merror:0\tvalidation_1-merror:0.181818\n",
            "[93]\tvalidation_0-merror:0\tvalidation_1-merror:0.181818\n",
            "[94]\tvalidation_0-merror:0\tvalidation_1-merror:0.181818\n",
            "[95]\tvalidation_0-merror:0\tvalidation_1-merror:0.181818\n",
            "[96]\tvalidation_0-merror:0\tvalidation_1-merror:0.181818\n",
            "[97]\tvalidation_0-merror:0\tvalidation_1-merror:0.181818\n",
            "[98]\tvalidation_0-merror:0\tvalidation_1-merror:0.181818\n",
            "[99]\tvalidation_0-merror:0\tvalidation_1-merror:0.181818\n"
          ]
        },
        {
          "output_type": "execute_result",
          "data": {
            "text/plain": [
              "XGBClassifier(objective='multi:softprob', random_state=42)"
            ]
          },
          "metadata": {},
          "execution_count": 16
        }
      ],
      "source": [
        "# fit the model\n",
        "model.fit(X_train, y_train, eval_set =[(X_train, y_train), (X_test,y_test)], eval_metric='merror')"
      ]
    },
    {
      "cell_type": "code",
      "execution_count": null,
      "metadata": {
        "colab": {
          "base_uri": "https://localhost:8080/"
        },
        "id": "k_1qfyrDIvN0",
        "outputId": "417a1b48-3787-45fe-e486-55c6226d85ee"
      },
      "outputs": [
        {
          "output_type": "stream",
          "name": "stdout",
          "text": [
            "XGBoost Accuracy: 0.82\n"
          ]
        }
      ],
      "source": [
        "# evaluate performance\n",
        "yhat = model.predict(X_test)\n",
        "score = accuracy_score(y_test, yhat)\n",
        "print('XGBoost Accuracy: %.2f' % score)"
      ]
    },
    {
      "cell_type": "code",
      "execution_count": null,
      "metadata": {
        "id": "50PZ_eSBrN3A"
      },
      "outputs": [],
      "source": [
        "import pickle\n",
        "pickle.dump(model,open('model_wholesale.pkl','wb'))\n",
        "#booster = model.get_booster()\n",
        "#booster.save_model('test_model.json')"
      ]
    },
    {
      "cell_type": "code",
      "execution_count": null,
      "metadata": {
        "id": "hXSiZ4z_0yWP"
      },
      "outputs": [],
      "source": [
        "#XGmodel.fit(X_train,y_train)"
      ]
    },
    {
      "cell_type": "code",
      "execution_count": null,
      "metadata": {
        "id": "diUVdB2R08PA"
      },
      "outputs": [],
      "source": [
        "#y_pred_XGB = XGmodel.predict(X_test)\n"
      ]
    },
    {
      "cell_type": "code",
      "execution_count": null,
      "metadata": {
        "colab": {
          "base_uri": "https://localhost:8080/"
        },
        "id": "81RU1d9y2BKo",
        "outputId": "fada222e-1158-4ff0-ca08-67a37e4fdccd"
      },
      "outputs": [
        {
          "data": {
            "text/plain": [
              "0.7804878048780488"
            ]
          },
          "execution_count": 16,
          "metadata": {},
          "output_type": "execute_result"
        }
      ],
      "source": [
        "#accuracy_score(y_test,y_pred_XGB)"
      ]
    },
    {
      "cell_type": "code",
      "execution_count": null,
      "metadata": {
        "colab": {
          "base_uri": "https://localhost:8080/"
        },
        "id": "1xiy0TeB3Ja8",
        "outputId": "908e8c3b-794b-4480-ffc3-57cfbb2b5a59"
      },
      "outputs": [
        {
          "output_type": "execute_result",
          "data": {
            "text/plain": [
              "1.0"
            ]
          },
          "metadata": {},
          "execution_count": 142
        }
      ],
      "source": [
        "y_pred_train_XGB = model.predict(X_train)\n",
        "accuracy_score(y_train,y_pred_train_XGB)"
      ]
    },
    {
      "cell_type": "markdown",
      "metadata": {
        "id": "wB3pS0VF-FYz"
      },
      "source": [
        "**Feature Score**"
      ]
    },
    {
      "cell_type": "code",
      "execution_count": null,
      "metadata": {
        "id": "yp3UU55vAlTT"
      },
      "outputs": [],
      "source": [
        "sel = RandomForestClassifier(random_state=42)"
      ]
    },
    {
      "cell_type": "code",
      "execution_count": null,
      "metadata": {
        "colab": {
          "base_uri": "https://localhost:8080/"
        },
        "id": "b1_xcQpps8y8",
        "outputId": "3aed0a96-3881-4fab-8178-57c302dd2c31"
      },
      "outputs": [
        {
          "output_type": "execute_result",
          "data": {
            "text/plain": [
              "RandomForestClassifier(random_state=42)"
            ]
          },
          "metadata": {},
          "execution_count": 13
        }
      ],
      "source": [
        "sel.fit(X_train, y_train.values.ravel())"
      ]
    },
    {
      "cell_type": "code",
      "execution_count": null,
      "metadata": {
        "colab": {
          "base_uri": "https://localhost:8080/"
        },
        "id": "BxnwRc7S5Tbc",
        "outputId": "4c866b87-b12d-44d3-ed1a-72e34e5e3a80"
      },
      "outputs": [
        {
          "output_type": "execute_result",
          "data": {
            "text/plain": [
              "search_interest                                     0.156171\n",
              "Financial_Development_Index                         0.091066\n",
              "Mobile_Cellular_sub                                 0.066844\n",
              "Account_Ownership                                   0.066618\n",
              "Innovation_Score                                    0.065188\n",
              "Trade_GDP                                           0.064877\n",
              "Trade_Openness                                      0.060733\n",
              "central_bankers_speech_stance_index                 0.058507\n",
              "Secure_Internet_Servers                             0.051953\n",
              "Population_ages_65_and_above_of_total_population    0.051047\n",
              "GDP_USD                                             0.049009\n",
              "GovernmentEffectiveness                             0.045880\n",
              "Broadband_Subscribsions_per100people                0.039198\n",
              "Regulatory_quality                                  0.038742\n",
              "VoiceandAccountability                              0.035502\n",
              "Individual_Internet_Users                           0.035129\n",
              "Access_to_Electricity                               0.023537\n",
              "dtype: float64"
            ]
          },
          "metadata": {},
          "execution_count": 14
        }
      ],
      "source": [
        "\n",
        "feature_scores = pd.Series(sel.feature_importances_, index=X_train.columns).sort_values(ascending=False)\n",
        "\n",
        "feature_scores"
      ]
    },
    {
      "cell_type": "code",
      "source": [
        "features = X_train.columns\n",
        "importances = rf.feature_importances_\n",
        "indices = np.argsort(importances)\n",
        "\n",
        "# customized number\n",
        "num_features = 10\n",
        "\n",
        "plt.figure(figsize=(15,10))\n",
        "plt.title('Feature Importances -- Random Forest -- retail CBDCPI')\n",
        "\n",
        "# only plot the customized number of features\n",
        "my_colors = ['r', 'g', 'b', 'k', 'y', 'm', 'c']\n",
        "plt.barh(range(num_features), importances[indices[-num_features:]], color='#4a3c1c', align='center')\n",
        "plt.yticks(range(num_features), [features[i] for i in indices[-num_features:]])\n",
        "plt.xlabel('Relative Importance')\n",
        "plt.show()"
      ],
      "metadata": {
        "colab": {
          "base_uri": "https://localhost:8080/",
          "height": 357
        },
        "id": "FbDLgEDUpTEJ",
        "outputId": "a038f6a7-a4d2-4e27-a19a-a8968d37781d"
      },
      "execution_count": null,
      "outputs": [
        {
          "output_type": "display_data",
          "data": {
            "text/plain": [
              "<Figure size 1080x720 with 1 Axes>"
            ],
            "image/png": "[encoded data removed]"
          },
          "metadata": {
            "needs_background": "light"
          }
        }
      ]
    },
    {
      "cell_type": "code",
      "execution_count": null,
      "metadata": {
        "colab": {
          "base_uri": "https://localhost:8080/"
        },
        "id": "6JSIx6QltlWw",
        "outputId": "a0437a28-8cf0-4df5-b1d2-01614d7d1226"
      },
      "outputs": [
        {
          "name": "stdout",
          "output_type": "stream",
          "text": [
            "Index(['search_interest', 'central_bankers_speech_stance_index',\n",
            "       'Mobile_Cellular_sub', 'Financial_Development_Index',\n",
            "       'Innovation_Score', 'Account_Ownership', 'Trade_Openness'],\n",
            "      dtype='object')\n"
          ]
        }
      ],
      "source": [
        "print(selected_feat)\n"
      ]
    },
    {
      "cell_type": "code",
      "execution_count": null,
      "metadata": {
        "colab": {
          "base_uri": "https://localhost:8080/"
        },
        "id": "EoAUIgZZCfkp",
        "outputId": "a98d1308-8b36-45ca-c300-7a53b995522e"
      },
      "outputs": [
        {
          "data": {
            "text/plain": [
              "0.6829268292682927"
            ]
          },
          "execution_count": 17,
          "metadata": {},
          "output_type": "execute_result"
        }
      ],
      "source": [
        "from sklearn.svm import SVC\n",
        "from sklearn.metrics import accuracy_score\n",
        "\n",
        "# instantiate classifier with default hyperparameters\n",
        "svc=SVC()\n",
        "# fit classifier to training set\n",
        "svc.fit(X_train,y_train)\n",
        "# make predictions on test set\n",
        "y_pred=svc.predict(X_test)\n",
        "# compute and print accuracy score\n",
        "accuracy_score(y_test,y_pred)\n"
      ]
    },
    {
      "cell_type": "code",
      "execution_count": null,
      "metadata": {
        "id": "vOEvS0BFVCKg"
      },
      "outputs": [],
      "source": [
        "pred_svm = pd.DataFrame(y_pred)\n",
        "sub_df = pd.read_excel('work880_data_jul22(1).xlsx','Database')\n",
        "datasets_svm = pd.concat([sub_df['country_name'],pred_svm], axis=1)\n",
        "datasets_svm.columns = ['country_name','project_score_overall']\n",
        "datasets_svm.to_csv('SVM_prediction.csv',encoding='utf-8', index=False)"
      ]
    },
    {
      "cell_type": "code",
      "execution_count": null,
      "metadata": {
        "id": "YTUvzsZwTX8e"
      },
      "outputs": [],
      "source": [
        "y_pred_train_SVC = svc.predict(X_train)\n",
        "accuracy_score(y_train,y_pred_train_SVC)"
      ]
    },
    {
      "cell_type": "code",
      "execution_count": null,
      "metadata": {
        "id": "3WLethX8AeGG"
      },
      "outputs": [],
      "source": [
        "from sklearn.feature_selection import SelectFromModel"
      ]
    },
    {
      "cell_type": "code",
      "execution_count": null,
      "metadata": {
        "id": "CGamUuXmGLaG"
      },
      "outputs": [],
      "source": [
        "corr_matrix = df.corr()"
      ]
    },
    {
      "cell_type": "code",
      "execution_count": null,
      "metadata": {
        "id": "rVBZ6l45PasO"
      },
      "outputs": [],
      "source": [
        "corr_matrix"
      ]
    },
    {
      "cell_type": "code",
      "execution_count": null,
      "metadata": {
        "id": "Laz3cyVTO97v"
      },
      "outputs": [],
      "source": [
        "corr_matrix['project_score_overall'].sort_values(ascending = False)"
      ]
    },
    {
      "cell_type": "code",
      "execution_count": null,
      "metadata": {
        "colab": {
          "base_uri": "https://localhost:8080/",
          "height": 165
        },
        "id": "oA0xycCAtC8Z",
        "outputId": "d5fc4533-8491-42a7-c4f4-f80128a94f30"
      },
      "outputs": [
        {
          "ename": "AttributeError",
          "evalue": "ignored",
          "output_type": "error",
          "traceback": [
            "\u001b[0;31m---------------------------------------------------------------------------\u001b[0m",
            "\u001b[0;31mAttributeError\u001b[0m                            Traceback (most recent call last)",
            "\u001b[0;32m<ipython-input-16-a89af8baf594>\u001b[0m in \u001b[0;36m<module>\u001b[0;34m\u001b[0m\n\u001b[0;32m----> 1\u001b[0;31m \u001b[0msel\u001b[0m\u001b[0;34m.\u001b[0m\u001b[0mget_support\u001b[0m\u001b[0;34m(\u001b[0m\u001b[0;34m)\u001b[0m\u001b[0;34m\u001b[0m\u001b[0;34m\u001b[0m\u001b[0m\n\u001b[0m",
            "\u001b[0;31mAttributeError\u001b[0m: 'RandomForestClassifier' object has no attribute 'get_support'"
          ]
        }
      ],
      "source": [
        "sel.get_support()"
      ]
    },
    {
      "cell_type": "code",
      "execution_count": null,
      "metadata": {
        "colab": {
          "base_uri": "https://localhost:8080/"
        },
        "id": "AmKrbDNGtgmH",
        "outputId": "6c96be87-c96c-49d6-d78b-e5b22d1a2e5b"
      },
      "outputs": [
        {
          "data": {
            "text/plain": [
              "7"
            ]
          },
          "execution_count": 13,
          "metadata": {},
          "output_type": "execute_result"
        }
      ],
      "source": [
        "selected_feat= X_train.columns[(sel.get_support())]\n",
        "len(selected_feat)"
      ]
    },
    {
      "cell_type": "code",
      "execution_count": null,
      "metadata": {
        "id": "_2Oks799lyrl"
      },
      "outputs": [],
      "source": [
        "grid_param = {\n",
        "    \"n_estimators\" : [90,100,115,130],\n",
        "    'criterion' : ['gini', 'entropy'],\n",
        "    'max_depth' : range(2,20,1),\n",
        "    'min_samples_leaf' : range(2,10,1),\n",
        "    'max_features' : ['auto','log2']\n",
        "    }"
      ]
    },
    {
      "cell_type": "code",
      "execution_count": null,
      "metadata": {
        "id": "MFyDAf62m0Dd"
      },
      "outputs": [],
      "source": [
        "grid_search = GridSearchCV(estimator = rf, param_grid=grid_param, cv = 5,n_jobs =-1,verbose=3)"
      ]
    },
    {
      "cell_type": "code",
      "execution_count": null,
      "metadata": {
        "colab": {
          "base_uri": "https://localhost:8080/"
        },
        "id": "LmtoS6eLo8P9",
        "outputId": "2211b079-49eb-4efa-96f8-20e4893d349c"
      },
      "outputs": [
        {
          "name": "stdout",
          "output_type": "stream",
          "text": [
            "Fitting 5 folds for each of 2304 candidates, totalling 11520 fits\n"
          ]
        },
        {
          "name": "stderr",
          "output_type": "stream",
          "text": [
            "/usr/local/lib/python3.7/dist-packages/sklearn/model_selection/_split.py:680: UserWarning: The least populated class in y has only 1 members, which is less than n_splits=5.\n",
            "  UserWarning,\n"
          ]
        },
        {
          "data": {
            "text/plain": [
              "GridSearchCV(cv=5, estimator=RandomForestClassifier(random_state=42), n_jobs=-1,\n",
              "             param_grid={'criterion': ['gini', 'entropy'],\n",
              "                         'max_depth': range(2, 20),\n",
              "                         'max_features': ['auto', 'log2'],\n",
              "                         'min_samples_leaf': range(2, 10),\n",
              "                         'n_estimators': [90, 100, 115, 130]},\n",
              "             verbose=3)"
            ]
          },
          "execution_count": 13,
          "metadata": {},
          "output_type": "execute_result"
        }
      ],
      "source": [
        "grid_search.fit(X_train,y_train)"
      ]
    },
    {
      "cell_type": "code",
      "execution_count": null,
      "metadata": {
        "colab": {
          "base_uri": "https://localhost:8080/"
        },
        "id": "TRdYgxciwvJW",
        "outputId": "63c67350-1eb7-4b18-e7ed-475fcc806c23"
      },
      "outputs": [
        {
          "data": {
            "text/plain": [
              "{'criterion': 'entropy',\n",
              " 'max_depth': 6,\n",
              " 'max_features': 'auto',\n",
              " 'min_samples_leaf': 3,\n",
              " 'n_estimators': 90}"
            ]
          },
          "execution_count": 14,
          "metadata": {},
          "output_type": "execute_result"
        }
      ],
      "source": [
        "grid_search.best_params_"
      ]
    },
    {
      "cell_type": "code",
      "execution_count": null,
      "metadata": {
        "id": "WKQsxW6Aw1bV"
      },
      "outputs": [],
      "source": [
        "rf1 = RandomForestClassifier(criterion= 'entropy', max_depth = 6,max_features= 'auto',\n",
        "                            min_samples_leaf= 3, n_estimators=90,random_state = 42)"
      ]
    },
    {
      "cell_type": "code",
      "execution_count": null,
      "metadata": {
        "colab": {
          "base_uri": "https://localhost:8080/"
        },
        "id": "eG2MWMD-xcQQ",
        "outputId": "5d974454-2ca4-49f4-8496-32eacb0c7ef3"
      },
      "outputs": [
        {
          "data": {
            "text/plain": [
              "RandomForestClassifier(criterion='entropy', max_depth=6, min_samples_leaf=3,\n",
              "                       n_estimators=90, random_state=42)"
            ]
          },
          "execution_count": 16,
          "metadata": {},
          "output_type": "execute_result"
        }
      ],
      "source": [
        "rf1.fit(X_train,y_train)"
      ]
    },
    {
      "cell_type": "code",
      "execution_count": null,
      "metadata": {
        "colab": {
          "base_uri": "https://localhost:8080/"
        },
        "id": "zlz9scKzxoaY",
        "outputId": "0f438696-a654-4f2f-cf18-2d9e16a7b1d4"
      },
      "outputs": [
        {
          "data": {
            "text/plain": [
              "0.7804878048780488"
            ]
          },
          "execution_count": 17,
          "metadata": {},
          "output_type": "execute_result"
        }
      ],
      "source": [
        "rf1.score(X_test,y_test)"
      ]
    },
    {
      "cell_type": "code",
      "execution_count": null,
      "metadata": {
        "id": "v8ck9OnHfS8z"
      },
      "outputs": [],
      "source": [
        "from sklearn.linear_model import LogisticRegression\n",
        "from sklearn.feature_selection import RFE"
      ]
    },
    {
      "cell_type": "code",
      "execution_count": null,
      "metadata": {
        "id": "d9jyjq6BgkJe"
      },
      "outputs": [],
      "source": [
        "X = df.drop(['ISO2','country_name','project_score_overall','project_score_retail','project_score_wholesale'], axis=1)\n",
        "Y = df['project_score_overall']"
      ]
    },
    {
      "cell_type": "code",
      "execution_count": null,
      "metadata": {
        "id": "hmb1waj9gnaI"
      },
      "outputs": [],
      "source": [
        "from sklearn.model_selection import train_test_split\n",
        "\n",
        "X_trainLR, X_testLR, y_trainLR, y_testLR = train_test_split(X, Y, test_size = 0.25, random_state = 42)"
      ]
    },
    {
      "cell_type": "code",
      "execution_count": null,
      "metadata": {
        "id": "4mDY_YpdgyTn"
      },
      "outputs": [],
      "source": [
        "X_trainLR.shape, X_test.shape"
      ]
    },
    {
      "cell_type": "code",
      "execution_count": null,
      "metadata": {
        "colab": {
          "base_uri": "https://localhost:8080/"
        },
        "id": "0cMxpAYWg0I3",
        "outputId": "78986e58-033f-451f-fd27-b4c0fecd41b9"
      },
      "outputs": [
        {
          "data": {
            "text/plain": [
              "LogisticRegression(random_state=42, solver='liblinear')"
            ]
          },
          "execution_count": 23,
          "metadata": {},
          "output_type": "execute_result"
        }
      ],
      "source": [
        "from sklearn.linear_model import LogisticRegression\n",
        "\n",
        "# instantiate the model\n",
        "logreg = LogisticRegression(solver='liblinear', random_state=42)\n",
        "logreg.fit(X_train, y_train)"
      ]
    },
    {
      "cell_type": "code",
      "execution_count": null,
      "metadata": {
        "colab": {
          "base_uri": "https://localhost:8080/"
        },
        "id": "Uklo-QN0g3uH",
        "outputId": "4d8e8ad4-0274-4765-bfd9-74559b44f203"
      },
      "outputs": [
        {
          "data": {
            "text/plain": [
              "array([0., 1., 0., 2., 0., 1., 0., 0., 0., 0., 2., 0., 0., 0., 0., 0., 0.,\n",
              "       2., 0., 0., 0., 0., 0., 0., 0., 0., 2., 0., 0., 0., 0., 0., 0., 1.,\n",
              "       0., 0., 0., 0., 0., 0., 1.])"
            ]
          },
          "execution_count": 25,
          "metadata": {},
          "output_type": "execute_result"
        }
      ],
      "source": [
        "y_pred_test = logreg.predict(X_test)\n",
        "y_pred_test"
      ]
    },
    {
      "cell_type": "code",
      "execution_count": null,
      "metadata": {
        "colab": {
          "base_uri": "https://localhost:8080/"
        },
        "id": "lhFeX78ug6mv",
        "outputId": "28596969-1698-48c2-a48c-6c3d39b18349"
      },
      "outputs": [
        {
          "name": "stdout",
          "output_type": "stream",
          "text": [
            "Model accuracy score: 0.7073\n"
          ]
        }
      ],
      "source": [
        "from sklearn.metrics import accuracy_score\n",
        "\n",
        "print('Model accuracy score: {0:0.4f}'. format(accuracy_score(y_test, y_pred_test)))"
      ]
    },
    {
      "cell_type": "code",
      "execution_count": null,
      "metadata": {
        "colab": {
          "base_uri": "https://localhost:8080/"
        },
        "id": "Y2LymarKhf4m",
        "outputId": "edb21922-c919-40b7-dd99-2d781563bcc4"
      },
      "outputs": [
        {
          "data": {
            "text/plain": [
              "array([0., 0., 0., 0., 1., 0., 0., 2., 2., 0., 0., 2., 0., 2., 2., 0., 0.,\n",
              "       0., 0., 0., 0., 0., 0., 0., 1., 0., 0., 0., 2., 0., 0., 2., 0., 0.,\n",
              "       1., 0., 0., 2., 0., 2., 2., 0., 0., 0., 0., 0., 2., 0., 0., 0., 0.,\n",
              "       0., 0., 2., 1., 0., 0., 0., 0., 1., 1., 2., 0., 0., 0., 0., 1., 0.,\n",
              "       2., 2., 3., 2., 1., 0., 0., 0., 0., 0., 0., 0., 0., 0., 2., 0., 0.,\n",
              "       0., 2., 0., 0., 0., 0., 0., 1., 0., 1., 0., 1., 0., 0., 2., 0., 2.,\n",
              "       0., 0., 0., 0., 2., 2., 2., 0., 0., 0., 0., 0., 0., 0., 0., 0., 0.,\n",
              "       0.])"
            ]
          },
          "execution_count": 21,
          "metadata": {},
          "output_type": "execute_result"
        }
      ],
      "source": [
        "y_pred_train_LR = logreg.predict(X_trainLR)\n",
        "y_pred_train_LR"
      ]
    },
    {
      "cell_type": "code",
      "execution_count": null,
      "metadata": {
        "colab": {
          "base_uri": "https://localhost:8080/"
        },
        "id": "a7iE6QZch-gn",
        "outputId": "60ebbd13-480c-4b6f-dc84-094c06fcb6dc"
      },
      "outputs": [
        {
          "name": "stdout",
          "output_type": "stream",
          "text": [
            "Model accuracy score: 0.7500\n"
          ]
        }
      ],
      "source": [
        "from sklearn.metrics import accuracy_score\n",
        "\n",
        "print('Model accuracy score: {0:0.4f}'. format(accuracy_score(y_trainLR, y_pred_train_LR)))"
      ]
    }
  ],
  "metadata": {
    "colab": {
      "provenance": []
    },
    "kernelspec": {
      "display_name": "Python 3",
      "name": "python3"
    },
    "language_info": {
      "name": "python"
    }
  },
  "nbformat": 4,
  "nbformat_minor": 0
}